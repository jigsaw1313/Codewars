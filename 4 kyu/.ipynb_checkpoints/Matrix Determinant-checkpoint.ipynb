{
 "cells": [
  {
   "cell_type": "markdown",
   "id": "f6ede356-baab-428b-b0f4-641269084be4",
   "metadata": {},
   "source": [
    "# Matrix Determinant"
   ]
  },
  {
   "cell_type": "markdown",
   "id": "6b2254ab-2f4d-4ba5-babd-7c6d9995083e",
   "metadata": {},
   "source": [
    "https://www.codewars.com/kata/52a382ee44408cea2500074c/solutions/python"
   ]
  },
  {
   "cell_type": "code",
   "execution_count": 1,
   "id": "bca42259-347c-40f9-8ef4-6aa07102d69b",
   "metadata": {
    "tags": []
   },
   "outputs": [],
   "source": [
    "def determinant(matrix):\n",
    "    n = len(matrix)\n",
    "    if n == 1:\n",
    "        return matrix[0][0]\n",
    "    if n == 2:\n",
    "        return matrix[0][0]*matrix[1][1] - matrix[0][1]*matrix[1][0]\n",
    "    det = 0\n",
    "    for i in range(n):\n",
    "        minor = [[matrix[j][k] for k in range(n) if k != i] for j in range(1, n)]\n",
    "        det += (-1)**i * matrix[0][i] * determinant(minor)\n",
    "    return det"
   ]
  },
  {
   "cell_type": "code",
   "execution_count": 4,
   "id": "f370930a-e82c-4d04-8c33-71a4d889e46d",
   "metadata": {
    "tags": []
   },
   "outputs": [
    {
     "data": {
      "text/plain": [
       "5"
      ]
     },
     "execution_count": 4,
     "metadata": {},
     "output_type": "execute_result"
    }
   ],
   "source": [
    "determinant([[5]])"
   ]
  },
  {
   "cell_type": "code",
   "execution_count": 5,
   "id": "90f97554-ea7f-4b0c-9b21-e5e844fa014e",
   "metadata": {
    "tags": []
   },
   "outputs": [
    {
     "data": {
      "text/plain": [
       "14"
      ]
     },
     "execution_count": 5,
     "metadata": {},
     "output_type": "execute_result"
    }
   ],
   "source": [
    "determinant([[4, 6], [3,8]])"
   ]
  },
  {
   "cell_type": "markdown",
   "id": "35604ded-3729-4f34-9d17-22606ec74ee9",
   "metadata": {},
   "source": [
    "_____"
   ]
  },
  {
   "cell_type": "code",
   "execution_count": 8,
   "id": "06887caf-ea6f-4581-a748-ecb425c58e24",
   "metadata": {
    "tags": []
   },
   "outputs": [],
   "source": [
    "from numpy import linalg\n",
    "def determinant(matrix):\n",
    "    return round(linalg.det(matrix))\n",
    "    "
   ]
  },
  {
   "cell_type": "code",
   "execution_count": 9,
   "id": "326402bf-4b87-4470-9aad-1b70347e8e50",
   "metadata": {
    "tags": []
   },
   "outputs": [
    {
     "data": {
      "text/plain": [
       "14"
      ]
     },
     "execution_count": 9,
     "metadata": {},
     "output_type": "execute_result"
    }
   ],
   "source": [
    "determinant([[4, 6], [3,8]])"
   ]
  },
  {
   "cell_type": "code",
   "execution_count": null,
   "id": "375c5e3f-fafe-46e2-bbd3-783a76093326",
   "metadata": {},
   "outputs": [],
   "source": []
  }
 ],
 "metadata": {
  "kernelspec": {
   "display_name": "Python 3 (ipykernel)",
   "language": "python",
   "name": "python3"
  },
  "language_info": {
   "codemirror_mode": {
    "name": "ipython",
    "version": 3
   },
   "file_extension": ".py",
   "mimetype": "text/x-python",
   "name": "python",
   "nbconvert_exporter": "python",
   "pygments_lexer": "ipython3",
   "version": "3.10.7"
  }
 },
 "nbformat": 4,
 "nbformat_minor": 5
}
