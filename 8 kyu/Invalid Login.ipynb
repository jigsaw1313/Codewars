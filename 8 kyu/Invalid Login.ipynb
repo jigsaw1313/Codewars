{
 "cells": [
  {
   "cell_type": "markdown",
   "id": "41e9f1c8-7f29-459f-bfef-c9f960ceb94c",
   "metadata": {},
   "source": [
    "# Invalid Login - Bug Fixing #11\n"
   ]
  },
  {
   "cell_type": "markdown",
   "id": "2b0a4e7a-9840-4848-823f-0fa9fcf63e5a",
   "metadata": {
    "tags": []
   },
   "source": [
    "https://www.codewars.com/kata/55e4c52ad58df7509c00007e/solutions/python"
   ]
  },
  {
   "cell_type": "code",
   "execution_count": 5,
   "id": "2d7935d7-6fbe-45dd-ad6b-909e009126d4",
   "metadata": {
    "tags": []
   },
   "outputs": [],
   "source": [
    "# database = Database()\n",
    "\n",
    "class Database:\n",
    "    def login(self, username, password):\n",
    "        # Check if the password contains any disallowed strings\n",
    "        if '||' in password or '//' in password:\n",
    "            return 'Wrong username or password!'\n",
    "\n",
    "        # Check if the given username and password are valid\n",
    "        # This is just a placeholder code, you can replace it with your own database checking code\n",
    "        if username == 'Timmy' and password == 'password' or username == 'Alice' and password == 'alice':\n",
    "            return 'Successfully Logged in!'\n",
    "        else:\n",
    "            return 'Wrong username or password!'\n",
    "\n",
    "def validate(username, password):\n",
    "    # Create a Database object\n",
    "    database = Database()\n",
    "\n",
    "    # Call the login method with the given username and password\n",
    "    return database.login(username, password)\n"
   ]
  },
  {
   "cell_type": "markdown",
   "id": "25f8fba8-9201-46df-99b3-e90cdd22559e",
   "metadata": {},
   "source": [
    "___________\n"
   ]
  },
  {
   "cell_type": "code",
   "execution_count": 6,
   "id": "c5003433-06dc-4e0a-933d-141ad6894e39",
   "metadata": {
    "tags": []
   },
   "outputs": [],
   "source": [
    "def validate(username, password):\n",
    "    if'||'in password or'//'in password:return\"Wrong username or password!\"\n",
    "    database = Database()\n",
    "    return database.login(username, password)"
   ]
  },
  {
   "cell_type": "code",
   "execution_count": 7,
   "id": "d0bd41fd-4949-466d-8264-c23e9b4f9536",
   "metadata": {
    "tags": []
   },
   "outputs": [],
   "source": [
    "# Good version\n",
    "database = Database()\n",
    "def validate(username, password):\n",
    "    if \"||\" in password or \"//\" in password: return \"Wrong username or password!\"\n",
    "    return database.login(username, password)\n",
    "\n",
    "# Bad version but still working\n",
    "validate = Database().login"
   ]
  },
  {
   "cell_type": "code",
   "execution_count": null,
   "id": "28ef7e31-11b4-4fd2-9d5d-6760f3b4b35b",
   "metadata": {},
   "outputs": [],
   "source": []
  }
 ],
 "metadata": {
  "kernelspec": {
   "display_name": "Python 3 (ipykernel)",
   "language": "python",
   "name": "python3"
  },
  "language_info": {
   "codemirror_mode": {
    "name": "ipython",
    "version": 3
   },
   "file_extension": ".py",
   "mimetype": "text/x-python",
   "name": "python",
   "nbconvert_exporter": "python",
   "pygments_lexer": "ipython3",
   "version": "3.10.7"
  }
 },
 "nbformat": 4,
 "nbformat_minor": 5
}
