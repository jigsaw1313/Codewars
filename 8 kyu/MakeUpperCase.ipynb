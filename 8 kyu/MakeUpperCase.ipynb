{
 "cells": [
  {
   "cell_type": "markdown",
   "id": "e58eb4ea-ad00-403b-bf7a-abb739fc5486",
   "metadata": {},
   "source": [
    "# MakeUpperCase"
   ]
  },
  {
   "cell_type": "markdown",
   "id": "61240e6d-9cbd-459b-a324-72938ff1e563",
   "metadata": {},
   "source": [
    "https://www.codewars.com/kata/57a0556c7cb1f31ab3000ad7/solutions/python"
   ]
  },
  {
   "cell_type": "code",
   "execution_count": 1,
   "id": "fbe52fb5-ef99-49bf-b5e8-a4abb804be74",
   "metadata": {
    "tags": []
   },
   "outputs": [],
   "source": [
    "def make_upper_case(s):\n",
    "    return s.upper()"
   ]
  },
  {
   "cell_type": "code",
   "execution_count": 2,
   "id": "01411a58-6eee-4ef5-be4d-36416dee26c6",
   "metadata": {
    "tags": []
   },
   "outputs": [
    {
     "data": {
      "text/plain": [
       "'HELLO'"
      ]
     },
     "execution_count": 2,
     "metadata": {},
     "output_type": "execute_result"
    }
   ],
   "source": [
    "make_upper_case('hello')"
   ]
  },
  {
   "cell_type": "code",
   "execution_count": null,
   "id": "a913eebe-02d0-45be-a27d-1ca804d8ef8b",
   "metadata": {},
   "outputs": [],
   "source": []
  }
 ],
 "metadata": {
  "kernelspec": {
   "display_name": "Python 3 (ipykernel)",
   "language": "python",
   "name": "python3"
  },
  "language_info": {
   "codemirror_mode": {
    "name": "ipython",
    "version": 3
   },
   "file_extension": ".py",
   "mimetype": "text/x-python",
   "name": "python",
   "nbconvert_exporter": "python",
   "pygments_lexer": "ipython3",
   "version": "3.10.7"
  }
 },
 "nbformat": 4,
 "nbformat_minor": 5
}
