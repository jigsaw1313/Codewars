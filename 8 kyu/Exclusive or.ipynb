{
 "cells": [
  {
   "cell_type": "markdown",
   "id": "ccfc62b2-cabc-44b8-921e-8b8ddc6a8313",
   "metadata": {},
   "source": [
    "# Exclusive \"or\" (xor) Logical Operator"
   ]
  },
  {
   "cell_type": "markdown",
   "id": "420058f2-dd7d-44da-a35b-e6550ea0ee1e",
   "metadata": {},
   "source": [
    "https://www.codewars.com/kata/56fa3c5ce4d45d2a52001b3c/train/python"
   ]
  },
  {
   "cell_type": "code",
   "execution_count": 1,
   "id": "d232304e-ab11-4a85-b051-71cc94eafdb6",
   "metadata": {},
   "outputs": [],
   "source": [
    "def xor(a, b):\n",
    "    return (a and not b) or (not a and b)"
   ]
  },
  {
   "cell_type": "code",
   "execution_count": 2,
   "id": "b7283ba6-f192-4149-9e1f-3d4910ac0a9a",
   "metadata": {},
   "outputs": [
    {
     "data": {
      "text/plain": [
       "False"
      ]
     },
     "execution_count": 2,
     "metadata": {},
     "output_type": "execute_result"
    }
   ],
   "source": [
    "xor(False, False)"
   ]
  },
  {
   "cell_type": "code",
   "execution_count": 3,
   "id": "a928fae4-d2cd-4598-ae3e-59947a69b7bd",
   "metadata": {},
   "outputs": [
    {
     "data": {
      "text/plain": [
       "True"
      ]
     },
     "execution_count": 3,
     "metadata": {},
     "output_type": "execute_result"
    }
   ],
   "source": [
    "xor(True, False)"
   ]
  },
  {
   "cell_type": "code",
   "execution_count": 4,
   "id": "1eba4894-b3b2-465b-8ea9-d53102429143",
   "metadata": {},
   "outputs": [
    {
     "data": {
      "text/plain": [
       "True"
      ]
     },
     "execution_count": 4,
     "metadata": {},
     "output_type": "execute_result"
    }
   ],
   "source": [
    "xor(False, True)"
   ]
  },
  {
   "cell_type": "code",
   "execution_count": 5,
   "id": "3f12e39a-9c7f-4190-888d-39a21944ffb5",
   "metadata": {},
   "outputs": [
    {
     "data": {
      "text/plain": [
       "False"
      ]
     },
     "execution_count": 5,
     "metadata": {},
     "output_type": "execute_result"
    }
   ],
   "source": [
    "xor(True, True)"
   ]
  },
  {
   "cell_type": "code",
   "execution_count": null,
   "id": "9d783d17-1386-41fb-9e49-56781862fadb",
   "metadata": {},
   "outputs": [],
   "source": []
  }
 ],
 "metadata": {
  "kernelspec": {
   "display_name": "Python 3 (ipykernel)",
   "language": "python",
   "name": "python3"
  },
  "language_info": {
   "codemirror_mode": {
    "name": "ipython",
    "version": 3
   },
   "file_extension": ".py",
   "mimetype": "text/x-python",
   "name": "python",
   "nbconvert_exporter": "python",
   "pygments_lexer": "ipython3",
   "version": "3.9.12"
  }
 },
 "nbformat": 4,
 "nbformat_minor": 5
}
