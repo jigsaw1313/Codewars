{
 "cells": [
  {
   "cell_type": "markdown",
   "id": "db22a28a-351b-4679-88b1-3805bc9d98c4",
   "metadata": {},
   "source": [
    "# Volume of a Cuboid"
   ]
  },
  {
   "cell_type": "markdown",
   "id": "ba9d25ed-db98-4d82-aa68-a9cb0137bf9f",
   "metadata": {},
   "source": [
    "https://www.codewars.com/kata/58261acb22be6e2ed800003a/solutions/python"
   ]
  },
  {
   "cell_type": "code",
   "execution_count": 1,
   "id": "b9563f96-62bf-4323-9048-434045820b4e",
   "metadata": {
    "tags": []
   },
   "outputs": [],
   "source": [
    "def get_volume_of_cuboid(length, width, height):\n",
    "    # Code goes here...\n",
    "    return length * width * height"
   ]
  },
  {
   "cell_type": "code",
   "execution_count": 2,
   "id": "80b8e7b3-e46a-40d7-b7ee-f57ca945561a",
   "metadata": {
    "tags": []
   },
   "outputs": [
    {
     "data": {
      "text/plain": [
       "4"
      ]
     },
     "execution_count": 2,
     "metadata": {},
     "output_type": "execute_result"
    }
   ],
   "source": [
    "get_volume_of_cuboid(1, 2, 2)"
   ]
  },
  {
   "cell_type": "code",
   "execution_count": 3,
   "id": "2eb19f29-aac5-4642-bd46-c2f2299fe30a",
   "metadata": {
    "tags": []
   },
   "outputs": [
    {
     "data": {
      "text/plain": [
       "63.0"
      ]
     },
     "execution_count": 3,
     "metadata": {},
     "output_type": "execute_result"
    }
   ],
   "source": [
    "get_volume_of_cuboid(6.3, 2, 5)"
   ]
  },
  {
   "cell_type": "code",
   "execution_count": null,
   "id": "4415aa07-711a-4b05-a1f2-5817488b0260",
   "metadata": {},
   "outputs": [],
   "source": []
  }
 ],
 "metadata": {
  "kernelspec": {
   "display_name": "Python 3 (ipykernel)",
   "language": "python",
   "name": "python3"
  },
  "language_info": {
   "codemirror_mode": {
    "name": "ipython",
    "version": 3
   },
   "file_extension": ".py",
   "mimetype": "text/x-python",
   "name": "python",
   "nbconvert_exporter": "python",
   "pygments_lexer": "ipython3",
   "version": "3.10.7"
  }
 },
 "nbformat": 4,
 "nbformat_minor": 5
}
