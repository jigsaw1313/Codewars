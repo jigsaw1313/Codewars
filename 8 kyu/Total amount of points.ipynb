{
 "cells": [
  {
   "cell_type": "markdown",
   "id": "83783c46-c425-43b3-b05f-ee7d5d4ce33f",
   "metadata": {},
   "source": [
    "# Total amount of points"
   ]
  },
  {
   "cell_type": "markdown",
   "id": "66c99150-7e13-4f92-96bb-b8f9884203c2",
   "metadata": {},
   "source": [
    "https://www.codewars.com/kata/5bb904724c47249b10000131/train/python"
   ]
  },
  {
   "cell_type": "code",
   "execution_count": 107,
   "id": "af143fea-9284-4449-a512-6cd4520c68d4",
   "metadata": {
    "tags": []
   },
   "outputs": [],
   "source": [
    "def points(games):\n",
    "    points = 0\n",
    "    for game in games:\n",
    "        score = game.split(':')\n",
    "        x, y = int(score[0]), int(score[1])\n",
    "        if x > y :\n",
    "            points += 3\n",
    "        if x == y :\n",
    "            points += 1\n",
    "        else :\n",
    "            points += 0\n",
    "    return points"
   ]
  },
  {
   "cell_type": "code",
   "execution_count": 105,
   "id": "f18bf9fe-4617-4ebe-aa01-c8db83d49b98",
   "metadata": {
    "tags": []
   },
   "outputs": [
    {
     "data": {
      "text/plain": [
       "30"
      ]
     },
     "execution_count": 105,
     "metadata": {},
     "output_type": "execute_result"
    }
   ],
   "source": [
    "points(['1:0','2:0','3:0','4:0','2:1','3:1','4:1','3:2','4:2','4:3'])"
   ]
  },
  {
   "cell_type": "code",
   "execution_count": 106,
   "id": "3301a35b-eaff-4680-b2bc-9e17ccb8c7bf",
   "metadata": {
    "tags": []
   },
   "outputs": [
    {
     "data": {
      "text/plain": [
       "10"
      ]
     },
     "execution_count": 106,
     "metadata": {},
     "output_type": "execute_result"
    }
   ],
   "source": [
    "points(['1:1','2:2','3:3','4:4','2:2','3:3','4:4','3:3','4:4','4:4'])"
   ]
  },
  {
   "cell_type": "markdown",
   "id": "ce16cfa2-00a5-4923-aa90-e0a416ef971a",
   "metadata": {},
   "source": [
    "___________________"
   ]
  },
  {
   "cell_type": "code",
   "execution_count": 108,
   "id": "3ed34647-a4eb-4195-9a33-bc71cdb6c1f1",
   "metadata": {
    "tags": []
   },
   "outputs": [],
   "source": [
    "def points(games):\n",
    "    count = 0\n",
    "    for score in games:\n",
    "        res = score.split(':')\n",
    "        if res[0]>res[1]:\n",
    "            count += 3\n",
    "        elif res[0] == res[1]:\n",
    "            count += 1\n",
    "    return count"
   ]
  },
  {
   "cell_type": "code",
   "execution_count": 109,
   "id": "7e9c9b2f-b30a-45bc-8274-e5df7593b692",
   "metadata": {
    "tags": []
   },
   "outputs": [],
   "source": [
    "def points(a):\n",
    "    return sum((x >= y) + 2 * (x > y) for x, y in (s.split(\":\") for s in a))"
   ]
  },
  {
   "cell_type": "code",
   "execution_count": null,
   "id": "8b79b537-6992-4e11-8e6c-d402c1050188",
   "metadata": {},
   "outputs": [],
   "source": []
  }
 ],
 "metadata": {
  "kernelspec": {
   "display_name": "Python 3 (ipykernel)",
   "language": "python",
   "name": "python3"
  },
  "language_info": {
   "codemirror_mode": {
    "name": "ipython",
    "version": 3
   },
   "file_extension": ".py",
   "mimetype": "text/x-python",
   "name": "python",
   "nbconvert_exporter": "python",
   "pygments_lexer": "ipython3",
   "version": "3.10.7"
  }
 },
 "nbformat": 4,
 "nbformat_minor": 5
}
