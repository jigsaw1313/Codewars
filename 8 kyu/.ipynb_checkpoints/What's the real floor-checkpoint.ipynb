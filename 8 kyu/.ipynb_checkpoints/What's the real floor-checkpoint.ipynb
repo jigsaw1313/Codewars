{
 "cells": [
  {
   "cell_type": "markdown",
   "id": "6e97288e-1f6f-4a4d-a258-35d1d9dfc5e6",
   "metadata": {},
   "source": [
    "# What's the real floor?"
   ]
  },
  {
   "cell_type": "markdown",
   "id": "ec6ae70c-efed-4aa7-beff-e1c5739b6803",
   "metadata": {},
   "source": [
    "https://www.codewars.com/kata/574b3b1599d8f897470018f6"
   ]
  },
  {
   "cell_type": "code",
   "execution_count": 1,
   "id": "4128160b-c910-4436-9631-d47ff81a99d1",
   "metadata": {
    "tags": []
   },
   "outputs": [],
   "source": [
    "def get_real_floor(n):\n",
    "    if n <= 0:\n",
    "        return n\n",
    "    if 1 <= n < 13:\n",
    "        return n - 1\n",
    "    if n >= 13:\n",
    "        return n - 2"
   ]
  },
  {
   "cell_type": "code",
   "execution_count": 2,
   "id": "eca252f4-c52c-44db-b1ba-9e2504ddc62f",
   "metadata": {
    "tags": []
   },
   "outputs": [
    {
     "data": {
      "text/plain": [
       "0"
      ]
     },
     "execution_count": 2,
     "metadata": {},
     "output_type": "execute_result"
    }
   ],
   "source": [
    "get_real_floor(1)"
   ]
  },
  {
   "cell_type": "code",
   "execution_count": 4,
   "id": "2847294f-caca-4dc5-97dd-691f29be62f8",
   "metadata": {
    "tags": []
   },
   "outputs": [
    {
     "data": {
      "text/plain": [
       "13"
      ]
     },
     "execution_count": 4,
     "metadata": {},
     "output_type": "execute_result"
    }
   ],
   "source": [
    "get_real_floor(15)"
   ]
  },
  {
   "cell_type": "code",
   "execution_count": 5,
   "id": "4d1870f4-c948-4948-b06c-fcda0d2198af",
   "metadata": {
    "tags": []
   },
   "outputs": [
    {
     "data": {
      "text/plain": [
       "4"
      ]
     },
     "execution_count": 5,
     "metadata": {},
     "output_type": "execute_result"
    }
   ],
   "source": [
    "get_real_floor(5)"
   ]
  },
  {
   "cell_type": "markdown",
   "id": "d2b923b5-48d8-4e58-9a79-e95d4912c555",
   "metadata": {},
   "source": [
    "______"
   ]
  },
  {
   "cell_type": "code",
   "execution_count": 6,
   "id": "de61860b-852f-4083-a0ce-ba1fb6153878",
   "metadata": {
    "tags": []
   },
   "outputs": [],
   "source": [
    "def get_real_floor(n):\n",
    "    if n <= 0: return n\n",
    "    if n < 13: return n-1\n",
    "    if n > 13: return n-2"
   ]
  },
  {
   "cell_type": "code",
   "execution_count": 7,
   "id": "788a0ed4-e7be-4d6f-b326-88494eb28cc7",
   "metadata": {
    "tags": []
   },
   "outputs": [],
   "source": [
    "def get_real_floor(n):\n",
    "    return n if n < 1 else n - 1 if n < 13 else n - 2"
   ]
  },
  {
   "cell_type": "code",
   "execution_count": null,
   "id": "e0d129e2-bec6-4f04-9847-5f934d688d9e",
   "metadata": {},
   "outputs": [],
   "source": []
  }
 ],
 "metadata": {
  "kernelspec": {
   "display_name": "Python 3 (ipykernel)",
   "language": "python",
   "name": "python3"
  },
  "language_info": {
   "codemirror_mode": {
    "name": "ipython",
    "version": 3
   },
   "file_extension": ".py",
   "mimetype": "text/x-python",
   "name": "python",
   "nbconvert_exporter": "python",
   "pygments_lexer": "ipython3",
   "version": "3.10.7"
  }
 },
 "nbformat": 4,
 "nbformat_minor": 5
}
