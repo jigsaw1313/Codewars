{
 "cells": [
  {
   "cell_type": "markdown",
   "id": "d6804ca0-3002-439d-9696-53552b684194",
   "metadata": {},
   "source": [
    "# Fake Binary"
   ]
  },
  {
   "cell_type": "markdown",
   "id": "5f4bf5ed-cb78-46d8-adb3-af04e9916635",
   "metadata": {},
   "source": [
    "https://www.codewars.com/kata/57eae65a4321032ce000002d"
   ]
  },
  {
   "cell_type": "code",
   "execution_count": 29,
   "id": "3caa903e-0dfc-48bd-bf50-217bc616e2d7",
   "metadata": {
    "tags": []
   },
   "outputs": [],
   "source": [
    "def fake_bin(x):\n",
    "    res = \"\"\n",
    "    for char in x:\n",
    "        if int(char) < 5:\n",
    "            res += '0'\n",
    "        else:\n",
    "            res += \"1\"\n",
    "    return res"
   ]
  },
  {
   "cell_type": "code",
   "execution_count": 30,
   "id": "2ef6b420-bbe7-48f9-ab01-b621f37e6cda",
   "metadata": {
    "tags": []
   },
   "outputs": [
    {
     "data": {
      "text/plain": [
       "'000100101000'"
      ]
     },
     "execution_count": 30,
     "metadata": {},
     "output_type": "execute_result"
    }
   ],
   "source": [
    "fake_bin('123903819234')"
   ]
  },
  {
   "cell_type": "code",
   "execution_count": 31,
   "id": "13d41b9c-36d0-4fa3-9f8b-e94c6fa743b4",
   "metadata": {
    "tags": []
   },
   "outputs": [
    {
     "data": {
      "text/plain": [
       "'01011110001100111'"
      ]
     },
     "execution_count": 31,
     "metadata": {},
     "output_type": "execute_result"
    }
   ],
   "source": [
    "fake_bin(\"45385593107843568\")"
   ]
  },
  {
   "cell_type": "code",
   "execution_count": 33,
   "id": "8935b0de-009c-40de-b3ad-52f507257bf6",
   "metadata": {
    "tags": []
   },
   "outputs": [
    {
     "data": {
      "text/plain": [
       "'011011110000101010000011011'"
      ]
     },
     "execution_count": 33,
     "metadata": {},
     "output_type": "execute_result"
    }
   ],
   "source": [
    "fake_bin(\"366058562030849490134388085\")"
   ]
  },
  {
   "cell_type": "markdown",
   "id": "ef4a23b0-5b64-44da-b191-4991e923fdd2",
   "metadata": {},
   "source": [
    "___________________________________"
   ]
  },
  {
   "cell_type": "code",
   "execution_count": 34,
   "id": "d9c870f6-8d68-4cb7-b265-226eb5d858a3",
   "metadata": {
    "tags": []
   },
   "outputs": [],
   "source": [
    "def fake_bin(x):\n",
    "    return ''.join('0' if c < '5' else '1' for c in x)"
   ]
  },
  {
   "cell_type": "code",
   "execution_count": null,
   "id": "399f9b5f-34ed-41ca-83fc-1727d865b8f5",
   "metadata": {},
   "outputs": [],
   "source": []
  }
 ],
 "metadata": {
  "kernelspec": {
   "display_name": "Python 3 (ipykernel)",
   "language": "python",
   "name": "python3"
  },
  "language_info": {
   "codemirror_mode": {
    "name": "ipython",
    "version": 3
   },
   "file_extension": ".py",
   "mimetype": "text/x-python",
   "name": "python",
   "nbconvert_exporter": "python",
   "pygments_lexer": "ipython3",
   "version": "3.10.7"
  }
 },
 "nbformat": 4,
 "nbformat_minor": 5
}
