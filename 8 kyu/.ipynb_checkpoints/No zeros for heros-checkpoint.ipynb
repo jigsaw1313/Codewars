{
 "cells": [
  {
   "cell_type": "markdown",
   "id": "f19b3cba-d134-4288-a9da-7d4390375f47",
   "metadata": {},
   "source": [
    "# No zeros for heros"
   ]
  },
  {
   "cell_type": "markdown",
   "id": "06e3bac3-fbde-4861-af03-a84fbf40f27f",
   "metadata": {},
   "source": [
    "https://www.codewars.com/kata/570a6a46455d08ff8d001002/train/python"
   ]
  },
  {
   "cell_type": "code",
   "execution_count": 16,
   "id": "73138da2-dacf-42bb-b5fc-833fe70a691e",
   "metadata": {
    "tags": []
   },
   "outputs": [],
   "source": [
    "def no_boring_zeros(n):\n",
    "    while n % 10 == 0 and n != 0:\n",
    "        n //= 10\n",
    "    return n"
   ]
  },
  {
   "cell_type": "code",
   "execution_count": 17,
   "id": "107a331b-5b50-41f7-bdea-d007863f473a",
   "metadata": {
    "tags": []
   },
   "outputs": [
    {
     "data": {
      "text/plain": [
       "96"
      ]
     },
     "execution_count": 17,
     "metadata": {},
     "output_type": "execute_result"
    }
   ],
   "source": [
    "no_boring_zeros(960000)"
   ]
  },
  {
   "cell_type": "code",
   "execution_count": 18,
   "id": "7ff0fad3-1d9c-42db-9405-01c3577bbe4e",
   "metadata": {
    "tags": []
   },
   "outputs": [
    {
     "data": {
      "text/plain": [
       "-105"
      ]
     },
     "execution_count": 18,
     "metadata": {},
     "output_type": "execute_result"
    }
   ],
   "source": [
    "no_boring_zeros(-1050)"
   ]
  },
  {
   "cell_type": "code",
   "execution_count": 19,
   "id": "5712b7fc-71ca-4b45-ba80-6b840175682d",
   "metadata": {
    "tags": []
   },
   "outputs": [
    {
     "data": {
      "text/plain": [
       "0"
      ]
     },
     "execution_count": 19,
     "metadata": {},
     "output_type": "execute_result"
    }
   ],
   "source": [
    "no_boring_zeros(0)"
   ]
  },
  {
   "cell_type": "markdown",
   "id": "58510467-02fd-4af8-b1e8-f5ee7a82c07f",
   "metadata": {},
   "source": [
    "__________"
   ]
  },
  {
   "cell_type": "code",
   "execution_count": 20,
   "id": "f1332a10-b8eb-4d6c-8d49-348819bd90bb",
   "metadata": {
    "tags": []
   },
   "outputs": [],
   "source": [
    "def no_boring_zeros(n):\n",
    "    try:\n",
    "        return int(str(n).rstrip('0'))\n",
    "    except ValueError:\n",
    "        return 0"
   ]
  },
  {
   "cell_type": "markdown",
   "id": "646a8130-0f43-4894-98e8-4eaf0b410571",
   "metadata": {},
   "source": [
    "The rstrip() function is a built-in string method in Python that removes any specified characters from the end (right-hand side) of a string.\n",
    "\n",
    "The syntax of rstrip() method is:\n",
    "\n",
    "python\n",
    "Copy\n",
    "string.rstrip([characters])\n",
    "Here, string is the string object that we want to modify, and characters is an optional parameter that specifies the set of characters to be removed from the end of the string. If characters is not specified, rstrip() removes all whitespace characters (spaces, tabs, and newlines) from the end of the string."
   ]
  },
  {
   "cell_type": "code",
   "execution_count": null,
   "id": "293d88cc-8834-48ad-8b8b-352948475de7",
   "metadata": {},
   "outputs": [],
   "source": []
  }
 ],
 "metadata": {
  "kernelspec": {
   "display_name": "Python 3 (ipykernel)",
   "language": "python",
   "name": "python3"
  },
  "language_info": {
   "codemirror_mode": {
    "name": "ipython",
    "version": 3
   },
   "file_extension": ".py",
   "mimetype": "text/x-python",
   "name": "python",
   "nbconvert_exporter": "python",
   "pygments_lexer": "ipython3",
   "version": "3.10.7"
  }
 },
 "nbformat": 4,
 "nbformat_minor": 5
}
