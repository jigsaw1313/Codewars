{
 "cells": [
  {
   "cell_type": "markdown",
   "id": "bbf9c7dd-62b2-463a-9393-fd2895b10239",
   "metadata": {},
   "source": [
    "\n",
    "## Days in the year\n"
   ]
  },
  {
   "cell_type": "code",
   "execution_count": 1,
   "id": "1f1cb40d-1bc5-43af-85de-6e0820bb0e16",
   "metadata": {
    "tags": []
   },
   "outputs": [
    {
     "data": {
      "text/plain": [
       "'0 has 366 days'"
      ]
     },
     "execution_count": 1,
     "metadata": {},
     "output_type": "execute_result"
    }
   ],
   "source": [
    "def year_days(year):\n",
    "    year = int(year)\n",
    "\n",
    "    if year % 4 != 0:\n",
    "        return (f\"{year} has 365 days\")\n",
    "    elif year % 100 != 0:\n",
    "        return (f\"{year} has 366 days\")\n",
    "    elif year % 400 != 0:\n",
    "        return (f\"{year} has 365 days\")\n",
    "    else:\n",
    "        return (f\"{year} has 366 days\")\n",
    "year_days(2000)\n",
    "year_days(-64)\n",
    "year_days(0)"
   ]
  },
  {
   "cell_type": "markdown",
   "id": "22a28d4a-77ee-466f-84dd-2b3ce934c143",
   "metadata": {},
   "source": [
    "------------------------------------------------------------------------------------"
   ]
  },
  {
   "cell_type": "code",
   "execution_count": null,
   "id": "ff5243fd-56e7-46bf-9528-1f259773ce2c",
   "metadata": {},
   "outputs": [],
   "source": []
  },
  {
   "cell_type": "code",
   "execution_count": null,
   "id": "b545af90-ccbb-4012-a471-a428bcd3abfd",
   "metadata": {},
   "outputs": [],
   "source": []
  }
 ],
 "metadata": {
  "kernelspec": {
   "display_name": "Python 3 (ipykernel)",
   "language": "python",
   "name": "python3"
  },
  "language_info": {
   "codemirror_mode": {
    "name": "ipython",
    "version": 3
   },
   "file_extension": ".py",
   "mimetype": "text/x-python",
   "name": "python",
   "nbconvert_exporter": "python",
   "pygments_lexer": "ipython3",
   "version": "3.10.7"
  }
 },
 "nbformat": 4,
 "nbformat_minor": 5
}
