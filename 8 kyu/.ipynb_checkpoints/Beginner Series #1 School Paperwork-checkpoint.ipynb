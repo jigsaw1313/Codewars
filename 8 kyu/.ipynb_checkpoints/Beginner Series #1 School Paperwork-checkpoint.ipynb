{
 "cells": [
  {
   "cell_type": "markdown",
   "id": "422eac21-0a74-4363-9b80-9a8376b1eae7",
   "metadata": {},
   "source": [
    "# Beginner Series #1 School Paperwork"
   ]
  },
  {
   "cell_type": "markdown",
   "id": "f542113b-e77d-4669-9c81-793872bd2111",
   "metadata": {},
   "source": [
    "https://www.codewars.com/kata/55f9b48403f6b87a7c0000bd/train/python"
   ]
  },
  {
   "cell_type": "code",
   "execution_count": 14,
   "id": "c9f386ef-5d34-4900-bc10-f1d9f8955c91",
   "metadata": {
    "tags": []
   },
   "outputs": [],
   "source": [
    "def paperwork(n, m):\n",
    "    return m * n if m > 0 and n > 0 else 0"
   ]
  },
  {
   "cell_type": "code",
   "execution_count": 15,
   "id": "00741074-6051-4554-b72a-72679c8dcd7b",
   "metadata": {
    "tags": []
   },
   "outputs": [
    {
     "data": {
      "text/plain": [
       "25"
      ]
     },
     "execution_count": 15,
     "metadata": {},
     "output_type": "execute_result"
    }
   ],
   "source": [
    "paperwork(5, 5)"
   ]
  },
  {
   "cell_type": "code",
   "execution_count": 16,
   "id": "e4e30d46-eecd-4041-94d8-2f81e4e99f53",
   "metadata": {
    "tags": []
   },
   "outputs": [
    {
     "data": {
      "text/plain": [
       "0"
      ]
     },
     "execution_count": 16,
     "metadata": {},
     "output_type": "execute_result"
    }
   ],
   "source": [
    "paperwork(5,-5)"
   ]
  },
  {
   "cell_type": "code",
   "execution_count": 17,
   "id": "8f32ff8f-ec9f-4fa6-ac00-b4199e82ea15",
   "metadata": {
    "tags": []
   },
   "outputs": [
    {
     "data": {
      "text/plain": [
       "0"
      ]
     },
     "execution_count": 17,
     "metadata": {},
     "output_type": "execute_result"
    }
   ],
   "source": [
    "paperwork(-5,0)"
   ]
  },
  {
   "cell_type": "code",
   "execution_count": 18,
   "id": "4f20a6ed-a78a-4114-9701-551f2b849862",
   "metadata": {
    "tags": []
   },
   "outputs": [
    {
     "data": {
      "text/plain": [
       "0"
      ]
     },
     "execution_count": 18,
     "metadata": {},
     "output_type": "execute_result"
    }
   ],
   "source": [
    "paperwork(-5,-5)"
   ]
  },
  {
   "cell_type": "markdown",
   "id": "8b72789b-bcb9-4200-9d8c-377aef4c22fd",
   "metadata": {},
   "source": [
    "________________________"
   ]
  },
  {
   "cell_type": "code",
   "execution_count": 19,
   "id": "4f07f189-eccc-4912-9432-5b44e5076f46",
   "metadata": {
    "tags": []
   },
   "outputs": [],
   "source": [
    "def paperwork(n, m):\n",
    "    if m<0 or n<0:\n",
    "        return 0\n",
    "    else:\n",
    "        return n*m"
   ]
  },
  {
   "cell_type": "code",
   "execution_count": null,
   "id": "20971c6e-b844-4138-b855-69a464dcc847",
   "metadata": {},
   "outputs": [],
   "source": []
  }
 ],
 "metadata": {
  "kernelspec": {
   "display_name": "Python 3 (ipykernel)",
   "language": "python",
   "name": "python3"
  },
  "language_info": {
   "codemirror_mode": {
    "name": "ipython",
    "version": 3
   },
   "file_extension": ".py",
   "mimetype": "text/x-python",
   "name": "python",
   "nbconvert_exporter": "python",
   "pygments_lexer": "ipython3",
   "version": "3.10.7"
  }
 },
 "nbformat": 4,
 "nbformat_minor": 5
}
