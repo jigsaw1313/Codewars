{
 "cells": [
  {
   "cell_type": "markdown",
   "id": "861378d8-ded9-4f2c-a392-fd006bc262c1",
   "metadata": {},
   "source": [
    "# Calculate average\n"
   ]
  },
  {
   "cell_type": "markdown",
   "id": "f8c35d53-53d5-4c96-9207-23fc55a3120c",
   "metadata": {
    "tags": []
   },
   "source": [
    " https://www.codewars.com/kata/57a2013acf1fa5bfc4000921/solutions/python"
   ]
  },
  {
   "cell_type": "code",
   "execution_count": 18,
   "id": "d17e6afd-0595-4cd0-9616-32f2cfc2e63f",
   "metadata": {
    "tags": []
   },
   "outputs": [],
   "source": [
    "import numpy as np\n",
    "def find_average(numbers):\n",
    "    if np.any(numbers) == 0:\n",
    "        return 0\n",
    "    # your code here\n",
    "    return np.average(numbers)"
   ]
  },
  {
   "cell_type": "code",
   "execution_count": 19,
   "id": "09a09f7f-af56-4cef-9327-0c6f2648a6b9",
   "metadata": {
    "tags": []
   },
   "outputs": [
    {
     "data": {
      "text/plain": [
       "2.0"
      ]
     },
     "execution_count": 19,
     "metadata": {},
     "output_type": "execute_result"
    }
   ],
   "source": [
    "find_average([1, 2, 3])"
   ]
  },
  {
   "cell_type": "code",
   "execution_count": 22,
   "id": "04b66fd8-0847-4c1b-a4e8-4d31deed4f55",
   "metadata": {
    "tags": []
   },
   "outputs": [
    {
     "data": {
      "text/plain": [
       "0"
      ]
     },
     "execution_count": 22,
     "metadata": {},
     "output_type": "execute_result"
    }
   ],
   "source": [
    "find_average([0])"
   ]
  },
  {
   "cell_type": "markdown",
   "id": "5b69d9f8-df6d-4484-adac-1364abbb4f09",
   "metadata": {},
   "source": [
    "___________________________________________________________"
   ]
  },
  {
   "cell_type": "code",
   "execution_count": 23,
   "id": "aeb4fc09-7c52-4e1b-b04c-a9e92cde2ecb",
   "metadata": {
    "tags": []
   },
   "outputs": [],
   "source": [
    "def find_average(array):\n",
    "    return sum(array) / len(array) if array else 0"
   ]
  },
  {
   "cell_type": "code",
   "execution_count": 24,
   "id": "60d2a32d-067c-40be-8681-a47ef4c72bc4",
   "metadata": {
    "tags": []
   },
   "outputs": [],
   "source": [
    "def find_average(array):\n",
    "    try:\n",
    "        return sum(array) / len(array)\n",
    "    except ZeroDivisionError:\n",
    "        return 0"
   ]
  },
  {
   "cell_type": "code",
   "execution_count": null,
   "id": "6e6f876a-7395-49aa-82ff-2b9df370d7c4",
   "metadata": {},
   "outputs": [],
   "source": []
  }
 ],
 "metadata": {
  "kernelspec": {
   "display_name": "Python 3 (ipykernel)",
   "language": "python",
   "name": "python3"
  },
  "language_info": {
   "codemirror_mode": {
    "name": "ipython",
    "version": 3
   },
   "file_extension": ".py",
   "mimetype": "text/x-python",
   "name": "python",
   "nbconvert_exporter": "python",
   "pygments_lexer": "ipython3",
   "version": "3.10.7"
  }
 },
 "nbformat": 4,
 "nbformat_minor": 5
}
