{
 "cells": [
  {
   "cell_type": "markdown",
   "id": "ac248a57-cda0-4072-8c9a-b61e1887e47e",
   "metadata": {},
   "source": [
    "# Pillars"
   ]
  },
  {
   "cell_type": "code",
   "execution_count": 70,
   "id": "852735f1-99cc-4541-a72c-7f66c3dd40ad",
   "metadata": {
    "tags": []
   },
   "outputs": [],
   "source": [
    "def pillars(num_pill, dist, width):\n",
    "    if num_pill == 1:\n",
    "        return 0\n",
    "    elif num_pill == 2:\n",
    "        return (num_pill -1 )* (dist * 100)\n",
    "    else:\n",
    "        pillarDist = (num_pill - 2) * width \n",
    "        fristToLast = (num_pill - 1) * (dist *  100)\n",
    "        return fristToLast + pillarDist"
   ]
  },
  {
   "cell_type": "code",
   "execution_count": 60,
   "id": "e3af7652-bd16-4354-86ba-a98b022d4e32",
   "metadata": {
    "tags": []
   },
   "outputs": [
    {
     "data": {
      "text/plain": [
       "0"
      ]
     },
     "execution_count": 60,
     "metadata": {},
     "output_type": "execute_result"
    }
   ],
   "source": [
    "pillars(1, 10, 10)"
   ]
  },
  {
   "cell_type": "code",
   "execution_count": 61,
   "id": "47a7a175-dfcf-4e47-9aa9-8e93cf72e6a0",
   "metadata": {
    "tags": []
   },
   "outputs": [
    {
     "data": {
      "text/plain": [
       "2000"
      ]
     },
     "execution_count": 61,
     "metadata": {},
     "output_type": "execute_result"
    }
   ],
   "source": [
    "pillars(2, 20, 25)"
   ]
  },
  {
   "cell_type": "code",
   "execution_count": 72,
   "id": "6f872468-1d1d-4f34-9c4f-e2d8b0dc3223",
   "metadata": {
    "tags": []
   },
   "outputs": [
    {
     "data": {
      "text/plain": [
       "15270"
      ]
     },
     "execution_count": 72,
     "metadata": {},
     "output_type": "execute_result"
    }
   ],
   "source": [
    "pillars(11, 15, 30)"
   ]
  },
  {
   "cell_type": "markdown",
   "id": "412b0ad5-aa45-4e1e-ae39-89c78ef8fc01",
   "metadata": {},
   "source": [
    "_________________________________________"
   ]
  },
  {
   "cell_type": "code",
   "execution_count": 73,
   "id": "3a5fca53-5495-4aff-b1a6-5ddaf76be2fb",
   "metadata": {
    "tags": []
   },
   "outputs": [],
   "source": [
    "def pillars(num_pill, dist, width):\n",
    "    return dist * 100 * (num_pill - 1) + width * (num_pill - 2) * (num_pill > 1)"
   ]
  },
  {
   "cell_type": "code",
   "execution_count": 74,
   "id": "96dc75df-4875-4c4c-a486-7acc55dd42d4",
   "metadata": {
    "tags": []
   },
   "outputs": [
    {
     "data": {
      "text/plain": [
       "15270"
      ]
     },
     "execution_count": 74,
     "metadata": {},
     "output_type": "execute_result"
    }
   ],
   "source": [
    "pillars(11, 15, 30)"
   ]
  },
  {
   "cell_type": "code",
   "execution_count": 77,
   "id": "daaabff4-3064-4f6c-aa1a-3c2eb05efb18",
   "metadata": {
    "tags": []
   },
   "outputs": [
    {
     "data": {
      "text/plain": [
       "15270"
      ]
     },
     "execution_count": 77,
     "metadata": {},
     "output_type": "execute_result"
    }
   ],
   "source": [
    "15 * 100 * (11 - 1) + 30 * (11 -2) * (11 > 1)"
   ]
  },
  {
   "cell_type": "code",
   "execution_count": 78,
   "id": "b774b006-5a5f-4fa0-a3fe-72fc05feffdd",
   "metadata": {
    "tags": []
   },
   "outputs": [],
   "source": [
    "test = 15 * 100 * (11 -1)"
   ]
  },
  {
   "cell_type": "code",
   "execution_count": 79,
   "id": "7def1e98-870b-4ff5-8880-fea973ea349d",
   "metadata": {
    "tags": []
   },
   "outputs": [
    {
     "data": {
      "text/plain": [
       "15000"
      ]
     },
     "execution_count": 79,
     "metadata": {},
     "output_type": "execute_result"
    }
   ],
   "source": [
    "test"
   ]
  },
  {
   "cell_type": "code",
   "execution_count": 80,
   "id": "55e37755-f4f1-4cbb-92ed-86f02fbc447a",
   "metadata": {
    "tags": []
   },
   "outputs": [],
   "source": [
    "test2 = 30 * (11 - 2) * (11 > 1)"
   ]
  },
  {
   "cell_type": "code",
   "execution_count": 81,
   "id": "074230d4-bc6c-4843-a87f-31d5b6fbfd53",
   "metadata": {
    "tags": []
   },
   "outputs": [
    {
     "data": {
      "text/plain": [
       "270"
      ]
     },
     "execution_count": 81,
     "metadata": {},
     "output_type": "execute_result"
    }
   ],
   "source": [
    "test2"
   ]
  },
  {
   "cell_type": "code",
   "execution_count": null,
   "id": "c62deef0-81cf-49c7-81eb-f79625c7f686",
   "metadata": {},
   "outputs": [],
   "source": []
  }
 ],
 "metadata": {
  "kernelspec": {
   "display_name": "Python 3 (ipykernel)",
   "language": "python",
   "name": "python3"
  },
  "language_info": {
   "codemirror_mode": {
    "name": "ipython",
    "version": 3
   },
   "file_extension": ".py",
   "mimetype": "text/x-python",
   "name": "python",
   "nbconvert_exporter": "python",
   "pygments_lexer": "ipython3",
   "version": "3.10.7"
  }
 },
 "nbformat": 4,
 "nbformat_minor": 5
}
