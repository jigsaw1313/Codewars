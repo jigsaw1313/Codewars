{
 "cells": [
  {
   "cell_type": "markdown",
   "id": "d92cac63-2818-482f-adbd-40407860f80e",
   "metadata": {},
   "source": [
    "# Is he gonna survive?"
   ]
  },
  {
   "cell_type": "markdown",
   "id": "ec828416-9497-47b6-872e-d768057cde2c",
   "metadata": {},
   "source": [
    "https://www.codewars.com/kata/59ca8246d751df55cc00014c/solutions/python"
   ]
  },
  {
   "cell_type": "code",
   "execution_count": 1,
   "id": "d5460752-d6c3-4030-90c6-f4948a2222ed",
   "metadata": {
    "tags": []
   },
   "outputs": [],
   "source": [
    "def hero(bullets, dragons):\n",
    "    return True if bullets / 2 >= dragons else False"
   ]
  },
  {
   "cell_type": "code",
   "execution_count": 2,
   "id": "524ab818-ac99-420d-87f4-af1726e8e54d",
   "metadata": {
    "tags": []
   },
   "outputs": [
    {
     "data": {
      "text/plain": [
       "True"
      ]
     },
     "execution_count": 2,
     "metadata": {},
     "output_type": "execute_result"
    }
   ],
   "source": [
    "hero(10, 5)"
   ]
  },
  {
   "cell_type": "code",
   "execution_count": 4,
   "id": "f21906bc-08a6-4c59-a4fa-c68c8de81de3",
   "metadata": {
    "tags": []
   },
   "outputs": [
    {
     "data": {
      "text/plain": [
       "False"
      ]
     },
     "execution_count": 4,
     "metadata": {},
     "output_type": "execute_result"
    }
   ],
   "source": [
    "hero(1500, 751)"
   ]
  },
  {
   "cell_type": "code",
   "execution_count": 5,
   "id": "9f96c30c-4b40-417f-b29a-c75b1854a056",
   "metadata": {
    "tags": []
   },
   "outputs": [
    {
     "data": {
      "text/plain": [
       "False"
      ]
     },
     "execution_count": 5,
     "metadata": {},
     "output_type": "execute_result"
    }
   ],
   "source": [
    "hero(4, 5)"
   ]
  },
  {
   "cell_type": "markdown",
   "id": "7609366d-5ec6-4468-b2a7-179b36054b7f",
   "metadata": {},
   "source": [
    "_____________________________"
   ]
  },
  {
   "cell_type": "code",
   "execution_count": 6,
   "id": "eacd93b9-c6b4-4be2-b794-9831f5a438d7",
   "metadata": {
    "tags": []
   },
   "outputs": [],
   "source": [
    "def hero(bullets, dragons):\n",
    "    return dragons <= bullets / 2"
   ]
  },
  {
   "cell_type": "code",
   "execution_count": null,
   "id": "085631cc-e3a0-4f17-ac7e-e85ea5d8911a",
   "metadata": {},
   "outputs": [],
   "source": []
  }
 ],
 "metadata": {
  "kernelspec": {
   "display_name": "Python 3 (ipykernel)",
   "language": "python",
   "name": "python3"
  },
  "language_info": {
   "codemirror_mode": {
    "name": "ipython",
    "version": 3
   },
   "file_extension": ".py",
   "mimetype": "text/x-python",
   "name": "python",
   "nbconvert_exporter": "python",
   "pygments_lexer": "ipython3",
   "version": "3.10.7"
  }
 },
 "nbformat": 4,
 "nbformat_minor": 5
}
