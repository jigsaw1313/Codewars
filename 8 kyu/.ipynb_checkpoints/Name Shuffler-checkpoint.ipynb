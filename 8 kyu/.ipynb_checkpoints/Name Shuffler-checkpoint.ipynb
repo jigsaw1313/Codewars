{
 "cells": [
  {
   "cell_type": "markdown",
   "id": "6b853bbd-9a3f-434b-a9ef-68d73b8547e7",
   "metadata": {},
   "source": [
    "# Name Shuffler"
   ]
  },
  {
   "cell_type": "markdown",
   "id": "2cdfad48-0a08-4519-af51-d8f83937f1f6",
   "metadata": {},
   "source": [
    "https://www.codewars.com/kata/559ac78160f0be07c200005a/train/python"
   ]
  },
  {
   "cell_type": "code",
   "execution_count": 51,
   "id": "6c552d23-71a5-4893-8f9c-f0188d30b3bd",
   "metadata": {
    "tags": []
   },
   "outputs": [],
   "source": [
    "def name_shuffler(str_):\n",
    "    name, family = str_.split(' ')\n",
    "    return f\"{family} {name}\""
   ]
  },
  {
   "cell_type": "code",
   "execution_count": 53,
   "id": "2d9e3db7-5d5b-4620-9aa5-f7087add375c",
   "metadata": {
    "tags": []
   },
   "outputs": [
    {
     "data": {
      "text/plain": [
       "'Jigsaw1313 Mohammadreza'"
      ]
     },
     "execution_count": 53,
     "metadata": {},
     "output_type": "execute_result"
    }
   ],
   "source": [
    "name_shuffler('Mohammadreza Jigsaw1313')"
   ]
  },
  {
   "cell_type": "code",
   "execution_count": 54,
   "id": "51e71dd4-f517-4b31-835d-2ca8f62867fc",
   "metadata": {
    "tags": []
   },
   "outputs": [
    {
     "data": {
      "text/plain": [
       "'jerry tom'"
      ]
     },
     "execution_count": 54,
     "metadata": {},
     "output_type": "execute_result"
    }
   ],
   "source": [
    "name_shuffler('tom jerry')"
   ]
  },
  {
   "cell_type": "markdown",
   "id": "4ff73d3e-6f47-4482-9e97-8f0f90637468",
   "metadata": {},
   "source": [
    "_______________________________________________________"
   ]
  },
  {
   "cell_type": "code",
   "execution_count": 55,
   "id": "18db381a-1408-46d7-af26-08a64b3fccc6",
   "metadata": {
    "tags": []
   },
   "outputs": [],
   "source": [
    "def name_shuffler(str_):\n",
    "    return ' '.join(str_.split(' ')[::-1])"
   ]
  },
  {
   "cell_type": "code",
   "execution_count": 56,
   "id": "8ed71462-13ad-485c-baa8-21e7b8b1d0f8",
   "metadata": {
    "tags": []
   },
   "outputs": [],
   "source": [
    "def name_shuffler(str_):\n",
    "    [first, last] = str_.split()\n",
    "    return last + \" \" + first"
   ]
  },
  {
   "cell_type": "code",
   "execution_count": null,
   "id": "c48b3337-bf38-49db-b2ae-2c2e01782c26",
   "metadata": {},
   "outputs": [],
   "source": []
  }
 ],
 "metadata": {
  "kernelspec": {
   "display_name": "Python 3 (ipykernel)",
   "language": "python",
   "name": "python3"
  },
  "language_info": {
   "codemirror_mode": {
    "name": "ipython",
    "version": 3
   },
   "file_extension": ".py",
   "mimetype": "text/x-python",
   "name": "python",
   "nbconvert_exporter": "python",
   "pygments_lexer": "ipython3",
   "version": "3.10.7"
  }
 },
 "nbformat": 4,
 "nbformat_minor": 5
}
