{
 "cells": [
  {
   "cell_type": "markdown",
   "id": "bcb9be3d-73b7-4c38-ad27-1d260e518e5c",
   "metadata": {},
   "source": [
    "#  String object\n"
   ]
  },
  {
   "cell_type": "markdown",
   "id": "c3842abf-bb37-4f29-aa9f-648801ca2ad2",
   "metadata": {},
   "source": [
    "https://www.codewars.com/kata/57280481e8118511f7000ffa/train/python"
   ]
  },
  {
   "cell_type": "code",
   "execution_count": 12,
   "id": "0f929618-4c76-42be-9ade-de2766d7353d",
   "metadata": {
    "tags": []
   },
   "outputs": [],
   "source": [
    "def split_and_merge(string, separator):\n",
    "    words = string.split()\n",
    "    merged_words = []\n",
    "    for word in words:\n",
    "        merged_words.append(separator.join(list(word)))\n",
    "    return \" \".join(merged_words)"
   ]
  },
  {
   "cell_type": "code",
   "execution_count": 13,
   "id": "0579e5d8-4ce5-4d9e-be44-e4cb950fc42a",
   "metadata": {
    "tags": []
   },
   "outputs": [
    {
     "data": {
      "text/plain": [
       "'m-o-h-a-m-m-a-d-r-e-z-a'"
      ]
     },
     "execution_count": 13,
     "metadata": {},
     "output_type": "execute_result"
    }
   ],
   "source": [
    "split_and_merge('mohammadreza', '-')"
   ]
  },
  {
   "cell_type": "code",
   "execution_count": 14,
   "id": "e970018e-9712-41b8-8adf-d4b9f394bad5",
   "metadata": {
    "tags": []
   },
   "outputs": [
    {
     "data": {
      "text/plain": [
       "'m,o,h,a,m,m,a,d,r,e,z,a'"
      ]
     },
     "execution_count": 14,
     "metadata": {},
     "output_type": "execute_result"
    }
   ],
   "source": [
    "split_and_merge('mohammadreza', ',')"
   ]
  },
  {
   "cell_type": "markdown",
   "id": "fa0f2647-fc02-47dc-a189-965d3f175e80",
   "metadata": {},
   "source": [
    "_________"
   ]
  },
  {
   "cell_type": "code",
   "execution_count": 15,
   "id": "1405c9e9-3672-452c-960e-4ea0a43b3ddf",
   "metadata": {
    "tags": []
   },
   "outputs": [],
   "source": [
    "def split_and_merge(string, sp):\n",
    "    return ' '.join(sp.join(word) for word in string.split())"
   ]
  },
  {
   "cell_type": "code",
   "execution_count": 16,
   "id": "b72205ca-057d-4cd5-ac22-4748185c7e13",
   "metadata": {
    "tags": []
   },
   "outputs": [],
   "source": [
    "def split_and_merge(string, sp):\n",
    "    return ' '.join(map(sp.join, string.split()))"
   ]
  },
  {
   "cell_type": "code",
   "execution_count": 17,
   "id": "bdff98de-c4a8-4417-84fd-7e145413b642",
   "metadata": {
    "tags": []
   },
   "outputs": [
    {
     "data": {
      "text/plain": [
       "'H!e!l!l!o W!o!r!l!d!!'"
      ]
     },
     "execution_count": 17,
     "metadata": {},
     "output_type": "execute_result"
    }
   ],
   "source": [
    "split_and_merge('Hello World!', '!')"
   ]
  },
  {
   "cell_type": "code",
   "execution_count": null,
   "id": "ca8060db-d316-4523-91ef-ce0f2034ade9",
   "metadata": {},
   "outputs": [],
   "source": []
  }
 ],
 "metadata": {
  "kernelspec": {
   "display_name": "Python 3 (ipykernel)",
   "language": "python",
   "name": "python3"
  },
  "language_info": {
   "codemirror_mode": {
    "name": "ipython",
    "version": 3
   },
   "file_extension": ".py",
   "mimetype": "text/x-python",
   "name": "python",
   "nbconvert_exporter": "python",
   "pygments_lexer": "ipython3",
   "version": "3.10.7"
  }
 },
 "nbformat": 4,
 "nbformat_minor": 5
}
