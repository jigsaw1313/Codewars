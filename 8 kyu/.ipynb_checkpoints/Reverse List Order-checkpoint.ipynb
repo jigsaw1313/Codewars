{
 "cells": [
  {
   "cell_type": "markdown",
   "id": "85dd4fe5-43d3-4707-93f2-df1aef9c8009",
   "metadata": {},
   "source": [
    "# Reverse List Order"
   ]
  },
  {
   "cell_type": "markdown",
   "id": "0c0176c2-4273-4580-88f7-58a9dc135f4d",
   "metadata": {},
   "source": [
    "https://www.codewars.com/kata/53da6d8d112bd1a0dc00008b/solutions/python"
   ]
  },
  {
   "cell_type": "code",
   "execution_count": 1,
   "id": "9860fc50-35eb-4d05-986d-f14940658276",
   "metadata": {
    "tags": []
   },
   "outputs": [],
   "source": [
    "def reverse_list(l):\n",
    "    'return a list with the reverse order of l'\n",
    "    return l[::-1]"
   ]
  },
  {
   "cell_type": "code",
   "execution_count": 2,
   "id": "a8c5e09f-01ef-4c43-a2a5-0bee17cd0bba",
   "metadata": {
    "tags": []
   },
   "outputs": [
    {
     "data": {
      "text/plain": [
       "[4, 3, 2, 1]"
      ]
     },
     "execution_count": 2,
     "metadata": {},
     "output_type": "execute_result"
    }
   ],
   "source": [
    "reverse_list([1,2,3,4])"
   ]
  },
  {
   "cell_type": "code",
   "execution_count": 3,
   "id": "bec0b22d-7187-48fc-8f18-78fd32aa57f0",
   "metadata": {
    "tags": []
   },
   "outputs": [
    {
     "data": {
      "text/plain": [
       "[2, 9, 6, 3]"
      ]
     },
     "execution_count": 3,
     "metadata": {},
     "output_type": "execute_result"
    }
   ],
   "source": [
    "reverse_list([3,6,9,2])"
   ]
  },
  {
   "cell_type": "code",
   "execution_count": null,
   "id": "fe28997a-2888-4fdc-9428-910442485714",
   "metadata": {},
   "outputs": [],
   "source": []
  }
 ],
 "metadata": {
  "kernelspec": {
   "display_name": "Python 3 (ipykernel)",
   "language": "python",
   "name": "python3"
  },
  "language_info": {
   "codemirror_mode": {
    "name": "ipython",
    "version": 3
   },
   "file_extension": ".py",
   "mimetype": "text/x-python",
   "name": "python",
   "nbconvert_exporter": "python",
   "pygments_lexer": "ipython3",
   "version": "3.10.7"
  }
 },
 "nbformat": 4,
 "nbformat_minor": 5
}
