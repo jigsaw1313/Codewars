{
 "cells": [
  {
   "cell_type": "markdown",
   "id": "8397e31f-959f-4a19-a417-dbb57b382334",
   "metadata": {},
   "source": [
    "# Triple Trouble"
   ]
  },
  {
   "cell_type": "markdown",
   "id": "dbfa9afb-049b-4e4a-a06e-d53867bf3c04",
   "metadata": {},
   "source": [
    "\n"
   ]
  },
  {
   "cell_type": "markdown",
   "id": "6c57bf0d-a12a-4a3f-bbb6-0142f0f97ee0",
   "metadata": {},
   "source": [
    "https://www.codewars.com/kata/5704aea738428f4d30000914/solutions/python"
   ]
  },
  {
   "cell_type": "code",
   "execution_count": 1,
   "id": "fd8eb6bc-7a71-4817-b08d-becec62c9151",
   "metadata": {
    "tags": []
   },
   "outputs": [],
   "source": [
    "def triple_trouble(one, two, three):\n",
    "    result = \"\"\n",
    "    for i in range(len(one)):\n",
    "        result += one[i] + two[i] + three[i]\n",
    "    return result"
   ]
  },
  {
   "cell_type": "code",
   "execution_count": 3,
   "id": "944ae5c1-229a-4244-bb9c-1239555454ec",
   "metadata": {
    "tags": []
   },
   "outputs": [
    {
     "data": {
      "text/plain": [
       "'abcabcabcabcabcabc'"
      ]
     },
     "execution_count": 3,
     "metadata": {},
     "output_type": "execute_result"
    }
   ],
   "source": [
    "triple_trouble(\"aaaaaa\",\"bbbbbb\",\"cccccc\")"
   ]
  },
  {
   "cell_type": "code",
   "execution_count": 4,
   "id": "954e6018-8d0e-456b-8f4f-7870ca2a2853",
   "metadata": {
    "tags": []
   },
   "outputs": [
    {
     "data": {
      "text/plain": [
       "('LLh', 'euo', 'xtr')"
      ]
     },
     "execution_count": 4,
     "metadata": {},
     "output_type": "execute_result"
    }
   ],
   "source": [
    "\"LLh\", \"euo\", \"xtr\""
   ]
  },
  {
   "cell_type": "markdown",
   "id": "4986095c-981d-46fd-9b16-4b8c4aabe46a",
   "metadata": {},
   "source": [
    "____________________"
   ]
  },
  {
   "cell_type": "code",
   "execution_count": 5,
   "id": "c4f82c08-8c97-4a07-8e8f-44a6c30c88db",
   "metadata": {
    "tags": []
   },
   "outputs": [],
   "source": [
    "def triple_trouble(one, two, three):\n",
    "    return ''.join(''.join(a) for a in zip(one, two, three))"
   ]
  },
  {
   "cell_type": "code",
   "execution_count": null,
   "id": "7e02b942-f13a-4374-8cb9-1ac4ab02dacf",
   "metadata": {},
   "outputs": [],
   "source": []
  }
 ],
 "metadata": {
  "kernelspec": {
   "display_name": "Python 3 (ipykernel)",
   "language": "python",
   "name": "python3"
  },
  "language_info": {
   "codemirror_mode": {
    "name": "ipython",
    "version": 3
   },
   "file_extension": ".py",
   "mimetype": "text/x-python",
   "name": "python",
   "nbconvert_exporter": "python",
   "pygments_lexer": "ipython3",
   "version": "3.10.7"
  }
 },
 "nbformat": 4,
 "nbformat_minor": 5
}
