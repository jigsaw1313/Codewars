{
 "cells": [
  {
   "cell_type": "markdown",
   "id": "de34056e-3aca-4696-a20d-b6f4425a4b32",
   "metadata": {},
   "source": [
    "# All Star Code Challenge #3"
   ]
  },
  {
   "cell_type": "markdown",
   "id": "4cb7cda4-a509-429f-afd3-d3b32c5efd71",
   "metadata": {},
   "source": [
    "https://www.codewars.com/kata/58640340b3a675d9a70000b9/train/python"
   ]
  },
  {
   "cell_type": "code",
   "execution_count": 2,
   "id": "767ae210-8e38-45ba-a6f5-5280a629c7a7",
   "metadata": {
    "tags": []
   },
   "outputs": [],
   "source": [
    "def remove_vowels(strng):\n",
    "    vow = 'aeiouAEIOU'\n",
    "    str_new =''\n",
    "    for c in strng:\n",
    "        if c not in vow:\n",
    "            str_new += c\n",
    "    return str_new"
   ]
  },
  {
   "cell_type": "code",
   "execution_count": 3,
   "id": "4280629a-e63c-4cf8-b037-1192f3725c4d",
   "metadata": {
    "tags": []
   },
   "outputs": [
    {
     "data": {
      "text/plain": [
       "'drk'"
      ]
     },
     "execution_count": 3,
     "metadata": {},
     "output_type": "execute_result"
    }
   ],
   "source": [
    "remove_vowels('drake')"
   ]
  },
  {
   "cell_type": "code",
   "execution_count": null,
   "id": "025648a1-ddf0-4b56-ba8f-785e68a20600",
   "metadata": {},
   "outputs": [],
   "source": []
  }
 ],
 "metadata": {
  "kernelspec": {
   "display_name": "Python 3 (ipykernel)",
   "language": "python",
   "name": "python3"
  },
  "language_info": {
   "codemirror_mode": {
    "name": "ipython",
    "version": 3
   },
   "file_extension": ".py",
   "mimetype": "text/x-python",
   "name": "python",
   "nbconvert_exporter": "python",
   "pygments_lexer": "ipython3",
   "version": "3.10.7"
  }
 },
 "nbformat": 4,
 "nbformat_minor": 5
}
