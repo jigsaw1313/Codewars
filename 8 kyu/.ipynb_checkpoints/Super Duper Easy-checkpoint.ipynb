{
 "cells": [
  {
   "cell_type": "markdown",
   "id": "7fa12fa3-c44b-4fbf-a9b6-3855cae07b57",
   "metadata": {},
   "source": [
    "# Super Duper Easy\n"
   ]
  },
  {
   "cell_type": "markdown",
   "id": "374b22c7-d9d4-4be6-8b30-39ae1b719140",
   "metadata": {},
   "source": [
    "https://www.codewars.com/kata/55a5bfaa756cfede78000026/solutions/python"
   ]
  },
  {
   "cell_type": "code",
   "execution_count": 5,
   "id": "c0beda05-ba5d-4aa3-9add-085e5bc2b408",
   "metadata": {},
   "outputs": [],
   "source": [
    "def problem(a):\n",
    "    return (a * 50) + 6 if isinstance(a, (int, float)) else \"Error\""
   ]
  },
  {
   "cell_type": "code",
   "execution_count": 6,
   "id": "c66652b2-e1e2-4a40-a1cc-170b5b2a01be",
   "metadata": {},
   "outputs": [
    {
     "data": {
      "text/plain": [
       "'Error'"
      ]
     },
     "execution_count": 6,
     "metadata": {},
     "output_type": "execute_result"
    }
   ],
   "source": [
    "problem(\"hello\")"
   ]
  },
  {
   "cell_type": "code",
   "execution_count": 7,
   "id": "7e2e70c0-47fb-4593-8d7a-009b4fd0006a",
   "metadata": {},
   "outputs": [
    {
     "data": {
      "text/plain": [
       "56"
      ]
     },
     "execution_count": 7,
     "metadata": {},
     "output_type": "execute_result"
    }
   ],
   "source": [
    "problem(1)"
   ]
  },
  {
   "cell_type": "code",
   "execution_count": 8,
   "id": "23a955fa-fe7d-4ce2-a4a4-55e7438e382f",
   "metadata": {},
   "outputs": [
    {
     "data": {
      "text/plain": [
       "6056"
      ]
     },
     "execution_count": 8,
     "metadata": {},
     "output_type": "execute_result"
    }
   ],
   "source": [
    "problem(121)"
   ]
  },
  {
   "cell_type": "markdown",
   "id": "a99e1f95-ebb8-4c26-ba1f-e3ae42646f50",
   "metadata": {},
   "source": [
    "_________________________"
   ]
  },
  {
   "cell_type": "code",
   "execution_count": 9,
   "id": "790da200-a2c7-4f5c-9fb2-3d02e040f7a3",
   "metadata": {},
   "outputs": [],
   "source": [
    "def problem(a):\n",
    "    try:\n",
    "        return a * 50 + 6\n",
    "    except TypeError:\n",
    "        return \"Error\""
   ]
  },
  {
   "cell_type": "code",
   "execution_count": null,
   "id": "3485e066-46bf-435f-af7f-84ee18bc1028",
   "metadata": {},
   "outputs": [],
   "source": []
  }
 ],
 "metadata": {
  "kernelspec": {
   "display_name": "Python 3 (ipykernel)",
   "language": "python",
   "name": "python3"
  },
  "language_info": {
   "codemirror_mode": {
    "name": "ipython",
    "version": 3
   },
   "file_extension": ".py",
   "mimetype": "text/x-python",
   "name": "python",
   "nbconvert_exporter": "python",
   "pygments_lexer": "ipython3",
   "version": "3.9.12"
  }
 },
 "nbformat": 4,
 "nbformat_minor": 5
}
