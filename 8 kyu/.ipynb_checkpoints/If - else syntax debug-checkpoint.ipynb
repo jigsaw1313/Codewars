{
 "cells": [
  {
   "cell_type": "markdown",
   "id": "1545ef0c-dcd6-4e65-abd0-908b0dae1e0a",
   "metadata": {},
   "source": [
    "# Grasshopper - If/else syntax debug"
   ]
  },
  {
   "cell_type": "markdown",
   "id": "cc4fa4d8-b5ca-4f51-ba6e-fc0defed8ca0",
   "metadata": {},
   "source": [
    "https://www.codewars.com/kata/57089707fe2d01529f00024a/train/python"
   ]
  },
  {
   "cell_type": "code",
   "execution_count": 1,
   "id": "20692223-49e5-4262-94f5-8fb813eef13d",
   "metadata": {
    "tags": []
   },
   "outputs": [],
   "source": [
    "def check_alive(health):\n",
    "    if health <= 0:\n",
    "        return False\n",
    "    else:\n",
    "        return True"
   ]
  },
  {
   "cell_type": "code",
   "execution_count": 2,
   "id": "d7991a5e-dc6c-42b1-8a96-d43eb75886f6",
   "metadata": {
    "tags": []
   },
   "outputs": [
    {
     "data": {
      "text/plain": [
       "True"
      ]
     },
     "execution_count": 2,
     "metadata": {},
     "output_type": "execute_result"
    }
   ],
   "source": [
    "check_alive(5)"
   ]
  },
  {
   "cell_type": "code",
   "execution_count": 3,
   "id": "2bec3f1e-d379-4b13-befd-4efe369287a1",
   "metadata": {
    "tags": []
   },
   "outputs": [
    {
     "data": {
      "text/plain": [
       "False"
      ]
     },
     "execution_count": 3,
     "metadata": {},
     "output_type": "execute_result"
    }
   ],
   "source": [
    "check_alive(0)"
   ]
  },
  {
   "cell_type": "code",
   "execution_count": null,
   "id": "99914c5c-ffcc-4a7c-83c7-2bb792a5cc7a",
   "metadata": {},
   "outputs": [],
   "source": []
  }
 ],
 "metadata": {
  "kernelspec": {
   "display_name": "Python 3 (ipykernel)",
   "language": "python",
   "name": "python3"
  },
  "language_info": {
   "codemirror_mode": {
    "name": "ipython",
    "version": 3
   },
   "file_extension": ".py",
   "mimetype": "text/x-python",
   "name": "python",
   "nbconvert_exporter": "python",
   "pygments_lexer": "ipython3",
   "version": "3.10.7"
  }
 },
 "nbformat": 4,
 "nbformat_minor": 5
}
