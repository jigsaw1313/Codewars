{
 "cells": [
  {
   "cell_type": "markdown",
   "id": "d83afd8d-ed80-46ac-89e3-da435023fe17",
   "metadata": {},
   "source": [
    "# Quarter of the year"
   ]
  },
  {
   "cell_type": "markdown",
   "id": "d000e339-57db-48e2-b931-50c984203761",
   "metadata": {},
   "source": [
    "https://www.codewars.com/kata/5ce9c1000bab0b001134f5af"
   ]
  },
  {
   "cell_type": "code",
   "execution_count": 1,
   "id": "534004cf-2ecb-4513-afdb-1bf2b764e874",
   "metadata": {
    "tags": []
   },
   "outputs": [],
   "source": [
    "def quarter_of(month):\n",
    "    if month in ['January', 'February', 'March']:\n",
    "        return 1\n",
    "    elif month in ['April', 'May', 'June']:\n",
    "        return 2\n",
    "    elif month in ['July', 'August', 'September']:\n",
    "        return 3\n",
    "    elif month in ['October', 'November', 'December']:\n",
    "        return 4"
   ]
  },
  {
   "cell_type": "code",
   "execution_count": 2,
   "id": "82a20326-b2b9-4925-ac9c-5256f3bf059b",
   "metadata": {
    "tags": []
   },
   "outputs": [
    {
     "data": {
      "text/plain": [
       "1"
      ]
     },
     "execution_count": 2,
     "metadata": {},
     "output_type": "execute_result"
    }
   ],
   "source": [
    "quarter_of('March')"
   ]
  },
  {
   "cell_type": "code",
   "execution_count": 3,
   "id": "19c587dd-2d77-4b30-8eac-f18f064aa0f1",
   "metadata": {
    "tags": []
   },
   "outputs": [
    {
     "data": {
      "text/plain": [
       "4"
      ]
     },
     "execution_count": 3,
     "metadata": {},
     "output_type": "execute_result"
    }
   ],
   "source": [
    "quarter_of('October')"
   ]
  },
  {
   "cell_type": "code",
   "execution_count": 4,
   "id": "c851715c-89ba-40ed-96fa-fb8528bac6fa",
   "metadata": {
    "tags": []
   },
   "outputs": [],
   "source": [
    "def quarter_of(month):\n",
    "    if month == 0 or month <=3:\n",
    "        return 1\n",
    "    elif month ==4 or month <=6:\n",
    "        return 2\n",
    "    elif month == 3 or month <=9:\n",
    "        return 3\n",
    "    elif month == 10 or month <= 12:\n",
    "        return 4"
   ]
  },
  {
   "cell_type": "code",
   "execution_count": 5,
   "id": "73c0c9a2-130d-4828-9d9a-df74f37d3e27",
   "metadata": {
    "tags": []
   },
   "outputs": [
    {
     "data": {
      "text/plain": [
       "1"
      ]
     },
     "execution_count": 5,
     "metadata": {},
     "output_type": "execute_result"
    }
   ],
   "source": [
    "quarter_of(1)"
   ]
  },
  {
   "cell_type": "code",
   "execution_count": 6,
   "id": "91696717-cb8f-47e4-aa84-57f2b04b7b8a",
   "metadata": {
    "tags": []
   },
   "outputs": [
    {
     "data": {
      "text/plain": [
       "1"
      ]
     },
     "execution_count": 6,
     "metadata": {},
     "output_type": "execute_result"
    }
   ],
   "source": [
    "quarter_of(2)"
   ]
  },
  {
   "cell_type": "code",
   "execution_count": 7,
   "id": "d8cbc86b-2c85-41eb-b44a-d70779bc07d6",
   "metadata": {
    "tags": []
   },
   "outputs": [
    {
     "data": {
      "text/plain": [
       "2"
      ]
     },
     "execution_count": 7,
     "metadata": {},
     "output_type": "execute_result"
    }
   ],
   "source": [
    "quarter_of(4)"
   ]
  },
  {
   "cell_type": "code",
   "execution_count": 8,
   "id": "2b4368d8-080a-4624-8a12-b4ff62dd92c4",
   "metadata": {
    "tags": []
   },
   "outputs": [
    {
     "data": {
      "text/plain": [
       "2"
      ]
     },
     "execution_count": 8,
     "metadata": {},
     "output_type": "execute_result"
    }
   ],
   "source": [
    "quarter_of(6)"
   ]
  },
  {
   "cell_type": "code",
   "execution_count": 9,
   "id": "e21a13f0-a2d9-4772-a990-634de156f106",
   "metadata": {
    "tags": []
   },
   "outputs": [
    {
     "data": {
      "text/plain": [
       "4"
      ]
     },
     "execution_count": 9,
     "metadata": {},
     "output_type": "execute_result"
    }
   ],
   "source": [
    "quarter_of(10)"
   ]
  },
  {
   "cell_type": "markdown",
   "id": "8553f3bc-d7d5-4471-a6e2-3a8a8d8f15af",
   "metadata": {},
   "source": [
    "___"
   ]
  },
  {
   "cell_type": "code",
   "execution_count": 10,
   "id": "7e965a6f-0b7c-4e90-a1c2-9df66df8af31",
   "metadata": {
    "tags": []
   },
   "outputs": [],
   "source": [
    "from math import ceil\n",
    "def quarter_of(month):\n",
    "    return ceil(month / 3)"
   ]
  },
  {
   "cell_type": "code",
   "execution_count": null,
   "id": "b0c1afe7-af0c-475a-9c20-c488e8ea9592",
   "metadata": {},
   "outputs": [],
   "source": []
  }
 ],
 "metadata": {
  "kernelspec": {
   "display_name": "Python 3 (ipykernel)",
   "language": "python",
   "name": "python3"
  },
  "language_info": {
   "codemirror_mode": {
    "name": "ipython",
    "version": 3
   },
   "file_extension": ".py",
   "mimetype": "text/x-python",
   "name": "python",
   "nbconvert_exporter": "python",
   "pygments_lexer": "ipython3",
   "version": "3.10.7"
  }
 },
 "nbformat": 4,
 "nbformat_minor": 5
}
