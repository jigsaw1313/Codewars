{
 "cells": [
  {
   "cell_type": "markdown",
   "id": "8f4f8b75-9013-4f31-b01d-d01c31f0f6a5",
   "metadata": {},
   "source": [
    "# Opposite number\n"
   ]
  },
  {
   "cell_type": "markdown",
   "id": "b41a13cd-fef9-4d25-a645-587a47fe9a69",
   "metadata": {},
   "source": [
    "https://www.codewars.com/kata/56dec885c54a926dcd001095/solutions/python"
   ]
  },
  {
   "cell_type": "code",
   "execution_count": 1,
   "id": "19ca87a2-615a-4473-93b2-83ae2fd7a373",
   "metadata": {
    "tags": []
   },
   "outputs": [],
   "source": [
    "def opposite(number):\n",
    "    return number - (number * 2)"
   ]
  },
  {
   "cell_type": "code",
   "execution_count": 2,
   "id": "89b4b123-1ef9-41c9-bf52-bb27e528ece8",
   "metadata": {
    "tags": []
   },
   "outputs": [
    {
     "data": {
      "text/plain": [
       "-25"
      ]
     },
     "execution_count": 2,
     "metadata": {},
     "output_type": "execute_result"
    }
   ],
   "source": [
    "opposite(25)"
   ]
  },
  {
   "cell_type": "code",
   "execution_count": 3,
   "id": "8a0c5a63-915f-4559-978b-57746e7b12e9",
   "metadata": {
    "tags": []
   },
   "outputs": [
    {
     "data": {
      "text/plain": [
       "-12.75"
      ]
     },
     "execution_count": 3,
     "metadata": {},
     "output_type": "execute_result"
    }
   ],
   "source": [
    "opposite(12.75)"
   ]
  },
  {
   "cell_type": "code",
   "execution_count": null,
   "id": "41132bfe-54d4-4c82-9fb6-aaad40f982ec",
   "metadata": {},
   "outputs": [],
   "source": []
  }
 ],
 "metadata": {
  "kernelspec": {
   "display_name": "Python 3 (ipykernel)",
   "language": "python",
   "name": "python3"
  },
  "language_info": {
   "codemirror_mode": {
    "name": "ipython",
    "version": 3
   },
   "file_extension": ".py",
   "mimetype": "text/x-python",
   "name": "python",
   "nbconvert_exporter": "python",
   "pygments_lexer": "ipython3",
   "version": "3.10.7"
  }
 },
 "nbformat": 4,
 "nbformat_minor": 5
}
