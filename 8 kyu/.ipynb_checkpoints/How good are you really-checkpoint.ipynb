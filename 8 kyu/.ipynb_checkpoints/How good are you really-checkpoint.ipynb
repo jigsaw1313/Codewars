{
 "cells": [
  {
   "cell_type": "markdown",
   "id": "5bca9888-9c18-4721-ab57-9ed41221e2a5",
   "metadata": {},
   "source": [
    "# How good are you really"
   ]
  },
  {
   "cell_type": "markdown",
   "id": "2278335c-5109-40cd-ab78-997415d08ff5",
   "metadata": {},
   "source": [
    "https://www.codewars.com/kata/5601409514fc93442500010b/solutions/python"
   ]
  },
  {
   "cell_type": "code",
   "execution_count": 1,
   "id": "ef8c01ef-7af6-4647-9780-e192e8a58b7e",
   "metadata": {
    "tags": []
   },
   "outputs": [],
   "source": [
    "def better_than_average(scores, your_score):\n",
    "    # Calculate the average score, including your own score\n",
    "    avg_score = (sum(scores) + your_score) / (len(scores) + 1)\n",
    "    \n",
    "    # Compare your score to the average score\n",
    "    if your_score > avg_score:\n",
    "        return True\n",
    "    else:\n",
    "        return False\n",
    "    "
   ]
  },
  {
   "cell_type": "code",
   "execution_count": 2,
   "id": "e7cfbf7a-f53e-498e-bf43-542ad5c7fd86",
   "metadata": {
    "tags": []
   },
   "outputs": [
    {
     "data": {
      "text/plain": [
       "True"
      ]
     },
     "execution_count": 2,
     "metadata": {},
     "output_type": "execute_result"
    }
   ],
   "source": [
    "better_than_average([2, 3], 5)"
   ]
  },
  {
   "cell_type": "code",
   "execution_count": 3,
   "id": "a459a4b1-f080-447f-b6c5-e79e36111e5c",
   "metadata": {
    "tags": []
   },
   "outputs": [
    {
     "data": {
      "text/plain": [
       "True"
      ]
     },
     "execution_count": 3,
     "metadata": {},
     "output_type": "execute_result"
    }
   ],
   "source": [
    "better_than_average([12, 23, 34, 45, 56, 67, 78, 89, 90], 69)"
   ]
  },
  {
   "cell_type": "code",
   "execution_count": 4,
   "id": "d905c053-14e6-4429-b41e-29dae6e97558",
   "metadata": {
    "tags": []
   },
   "outputs": [
    {
     "data": {
      "text/plain": [
       "False"
      ]
     },
     "execution_count": 4,
     "metadata": {},
     "output_type": "execute_result"
    }
   ],
   "source": [
    "better_than_average([41, 75, 72, 56, 80, 82, 81, 33], 50)"
   ]
  },
  {
   "cell_type": "markdown",
   "id": "18c83706-3896-404d-8957-b7cff3a42911",
   "metadata": {},
   "source": [
    "_________________________________________"
   ]
  },
  {
   "cell_type": "code",
   "execution_count": 5,
   "id": "484aaa04-0e33-4842-bef4-f510195761e2",
   "metadata": {
    "tags": []
   },
   "outputs": [],
   "source": [
    "def better_than_average(class_points, your_points):\n",
    "    average = (sum(class_points) + your_points) / (len(class_points) + 1)\n",
    "    return your_points > average"
   ]
  },
  {
   "cell_type": "code",
   "execution_count": null,
   "id": "0ed668ad-8475-44b3-af29-49a35e5bc9f3",
   "metadata": {},
   "outputs": [],
   "source": []
  }
 ],
 "metadata": {
  "kernelspec": {
   "display_name": "Python 3 (ipykernel)",
   "language": "python",
   "name": "python3"
  },
  "language_info": {
   "codemirror_mode": {
    "name": "ipython",
    "version": 3
   },
   "file_extension": ".py",
   "mimetype": "text/x-python",
   "name": "python",
   "nbconvert_exporter": "python",
   "pygments_lexer": "ipython3",
   "version": "3.10.7"
  }
 },
 "nbformat": 4,
 "nbformat_minor": 5
}
