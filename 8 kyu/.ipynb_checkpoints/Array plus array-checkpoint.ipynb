{
 "cells": [
  {
   "cell_type": "markdown",
   "id": "c881c89a-722d-466a-ae17-56993df71c1b",
   "metadata": {},
   "source": [
    "# Array plus array"
   ]
  },
  {
   "cell_type": "markdown",
   "id": "e8205232-4a2d-4bfb-b87c-f437cdd72f4d",
   "metadata": {},
   "source": [
    "https://www.codewars.com/kata/5a2be17aee1aaefe2a000151/train/python"
   ]
  },
  {
   "cell_type": "code",
   "execution_count": 1,
   "id": "b9dce233-a6e2-4d3b-afc2-d75fbc72c896",
   "metadata": {
    "tags": []
   },
   "outputs": [],
   "source": [
    "import numpy as np"
   ]
  },
  {
   "cell_type": "code",
   "execution_count": 14,
   "id": "8c2a7f51-29ae-48af-b9d1-a3aba78811a1",
   "metadata": {
    "tags": []
   },
   "outputs": [],
   "source": [
    "def array_plus_array(arr1,arr2):\n",
    "    newArr1 = np.array(arr1)\n",
    "    newArr2 = np.array(arr2)\n",
    "    arr3 = newArr1 + newArr2\n",
    "    print(np.sum(arr3))"
   ]
  },
  {
   "cell_type": "code",
   "execution_count": 15,
   "id": "56cc2f2e-1ef2-47d5-9c44-e40e020d57c9",
   "metadata": {
    "tags": []
   },
   "outputs": [],
   "source": [
    "arr1 = [1, 2, 3]\n",
    "arr2 = [4, 5, 6]"
   ]
  },
  {
   "cell_type": "code",
   "execution_count": 16,
   "id": "70992b43-03cf-48cd-bbdc-a2aae953ff03",
   "metadata": {
    "tags": []
   },
   "outputs": [
    {
     "name": "stdout",
     "output_type": "stream",
     "text": [
      "21\n"
     ]
    }
   ],
   "source": [
    "array_plus_array(arr1, arr2)"
   ]
  },
  {
   "cell_type": "markdown",
   "id": "ea77b527-a320-4cd8-aeae-088c8f0a0d9c",
   "metadata": {},
   "source": [
    "______________________"
   ]
  },
  {
   "cell_type": "code",
   "execution_count": 17,
   "id": "3a1f7f03-0707-407a-b9a9-923af8e457ca",
   "metadata": {
    "tags": []
   },
   "outputs": [
    {
     "data": {
      "text/plain": [
       "21"
      ]
     },
     "execution_count": 17,
     "metadata": {},
     "output_type": "execute_result"
    }
   ],
   "source": [
    "def array_plus_array(arr1,arr2):\n",
    "    return sum(arr1+arr2)\n",
    "array_plus_array(arr1, arr2)"
   ]
  },
  {
   "cell_type": "code",
   "execution_count": null,
   "id": "9e4b56f6-03ee-4172-a304-c96880c9a5f7",
   "metadata": {},
   "outputs": [],
   "source": []
  }
 ],
 "metadata": {
  "kernelspec": {
   "display_name": "Python 3 (ipykernel)",
   "language": "python",
   "name": "python3"
  },
  "language_info": {
   "codemirror_mode": {
    "name": "ipython",
    "version": 3
   },
   "file_extension": ".py",
   "mimetype": "text/x-python",
   "name": "python",
   "nbconvert_exporter": "python",
   "pygments_lexer": "ipython3",
   "version": "3.10.7"
  }
 },
 "nbformat": 4,
 "nbformat_minor": 5
}
