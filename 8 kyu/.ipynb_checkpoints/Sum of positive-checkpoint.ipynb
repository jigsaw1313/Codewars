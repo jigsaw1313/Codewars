{
 "cells": [
  {
   "cell_type": "markdown",
   "id": "22ab89bb-8fe7-4b29-90ef-9b6c4701d4ad",
   "metadata": {
    "tags": []
   },
   "source": [
    "# Sum of positive"
   ]
  },
  {
   "cell_type": "markdown",
   "id": "44d8689d-f5ae-41b5-8471-280f0f24e905",
   "metadata": {},
   "source": [
    "https://www.codewars.com/kata/5715eaedb436cf5606000381/train/python"
   ]
  },
  {
   "cell_type": "code",
   "execution_count": 6,
   "id": "33cc4dd5-9c56-46e7-90c9-3535b12eea0b",
   "metadata": {
    "tags": []
   },
   "outputs": [],
   "source": [
    "def positive_sum(arr):\n",
    "    positive = []\n",
    "    for i in arr:\n",
    "        if i > 0:\n",
    "            positive.append(i)\n",
    "        if arr == None:\n",
    "            return 0\n",
    "    return sum(positive)\n"
   ]
  },
  {
   "cell_type": "code",
   "execution_count": 8,
   "id": "8fe551b4-4926-4aae-9e3c-0525527d348f",
   "metadata": {
    "tags": []
   },
   "outputs": [
    {
     "data": {
      "text/plain": [
       "15"
      ]
     },
     "execution_count": 8,
     "metadata": {},
     "output_type": "execute_result"
    }
   ],
   "source": [
    "positive_sum([1,2,3,4,5])"
   ]
  },
  {
   "cell_type": "code",
   "execution_count": 7,
   "id": "1532b97a-0104-4c7d-94d9-a55d5b4d15ed",
   "metadata": {
    "tags": []
   },
   "outputs": [
    {
     "data": {
      "text/plain": [
       "13"
      ]
     },
     "execution_count": 7,
     "metadata": {},
     "output_type": "execute_result"
    }
   ],
   "source": [
    "positive_sum([1,-2,3,4,5])"
   ]
  },
  {
   "cell_type": "code",
   "execution_count": 9,
   "id": "b155c248-7468-4063-81da-67f053bed579",
   "metadata": {
    "tags": []
   },
   "outputs": [
    {
     "data": {
      "text/plain": [
       "9"
      ]
     },
     "execution_count": 9,
     "metadata": {},
     "output_type": "execute_result"
    }
   ],
   "source": [
    "positive_sum([-1,2,3,4,-5])"
   ]
  },
  {
   "cell_type": "code",
   "execution_count": 10,
   "id": "e1cba038-2ba8-46c6-a4a4-b1ad21c6d185",
   "metadata": {
    "tags": []
   },
   "outputs": [
    {
     "data": {
      "text/plain": [
       "0"
      ]
     },
     "execution_count": 10,
     "metadata": {},
     "output_type": "execute_result"
    }
   ],
   "source": [
    "positive_sum([])"
   ]
  },
  {
   "cell_type": "markdown",
   "id": "8a108ead-ff77-4dc6-b386-61b8e4511e6a",
   "metadata": {},
   "source": [
    "_____________________________________________________"
   ]
  },
  {
   "cell_type": "code",
   "execution_count": 11,
   "id": "9fff52f2-e7c5-4ea8-a226-ef087d26a5b3",
   "metadata": {
    "tags": []
   },
   "outputs": [],
   "source": [
    "def positive_sum(arr):\n",
    "    return sum(x for x in arr if x > 0)"
   ]
  },
  {
   "cell_type": "code",
   "execution_count": 12,
   "id": "5f61635f-db57-40fe-86b6-9f348ebc382a",
   "metadata": {
    "tags": []
   },
   "outputs": [],
   "source": [
    "def positive_sum(arr):\n",
    "    return sum(filter(lambda x: x > 0,arr))"
   ]
  },
  {
   "cell_type": "code",
   "execution_count": null,
   "id": "2219d4af-5a8e-4ccd-b0fa-2ad152a4ffb6",
   "metadata": {},
   "outputs": [],
   "source": []
  }
 ],
 "metadata": {
  "kernelspec": {
   "display_name": "Python 3 (ipykernel)",
   "language": "python",
   "name": "python3"
  },
  "language_info": {
   "codemirror_mode": {
    "name": "ipython",
    "version": 3
   },
   "file_extension": ".py",
   "mimetype": "text/x-python",
   "name": "python",
   "nbconvert_exporter": "python",
   "pygments_lexer": "ipython3",
   "version": "3.10.7"
  }
 },
 "nbformat": 4,
 "nbformat_minor": 5
}
