{
 "cells": [
  {
   "cell_type": "markdown",
   "id": "84b2f9e4-e1e0-465b-88ef-aa9a0413c3d5",
   "metadata": {},
   "source": [
    "# Multiply"
   ]
  },
  {
   "cell_type": "markdown",
   "id": "52b233a7-868c-4894-aad4-eac3ecb055ab",
   "metadata": {},
   "source": [
    "https://www.codewars.com/kata/50654ddff44f800200000004/solutions/python"
   ]
  },
  {
   "cell_type": "code",
   "execution_count": 3,
   "id": "93e8bb37-46fc-495d-9054-4df3d0d070ed",
   "metadata": {
    "tags": []
   },
   "outputs": [],
   "source": [
    "def multiply(a, b):\n",
    "    return a * b"
   ]
  },
  {
   "cell_type": "code",
   "execution_count": 4,
   "id": "deaca288-977f-4fca-9138-6df37f9b93ea",
   "metadata": {
    "tags": []
   },
   "outputs": [
    {
     "data": {
      "text/plain": [
       "2"
      ]
     },
     "execution_count": 4,
     "metadata": {},
     "output_type": "execute_result"
    }
   ],
   "source": [
    "multiply(2, 1)"
   ]
  },
  {
   "cell_type": "markdown",
   "id": "e45fe6c3-eae8-4e31-99c0-65e8532c6038",
   "metadata": {},
   "source": [
    "__________________________________________"
   ]
  },
  {
   "cell_type": "code",
   "execution_count": 5,
   "id": "671e58bd-0ba3-435a-a6d4-27da15277cca",
   "metadata": {
    "tags": []
   },
   "outputs": [],
   "source": [
    "def multiply(a, b):\n",
    "    if isinstance(a, (int, float, complex)):\n",
    "        if isinstance(b, (int, float, complex)):\n",
    "            return a * b"
   ]
  },
  {
   "cell_type": "code",
   "execution_count": null,
   "id": "82bd74ec-19e4-4790-8675-9fb342261267",
   "metadata": {},
   "outputs": [],
   "source": []
  }
 ],
 "metadata": {
  "kernelspec": {
   "display_name": "Python 3 (ipykernel)",
   "language": "python",
   "name": "python3"
  },
  "language_info": {
   "codemirror_mode": {
    "name": "ipython",
    "version": 3
   },
   "file_extension": ".py",
   "mimetype": "text/x-python",
   "name": "python",
   "nbconvert_exporter": "python",
   "pygments_lexer": "ipython3",
   "version": "3.10.7"
  }
 },
 "nbformat": 4,
 "nbformat_minor": 5
}
