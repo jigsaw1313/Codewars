{
 "cells": [
  {
   "cell_type": "markdown",
   "id": "de7ab48e-1a34-4379-a08a-485bdf5b2ab4",
   "metadata": {},
   "source": [
    "# Plural"
   ]
  },
  {
   "cell_type": "markdown",
   "id": "4c3cf2d4-f39f-4aa0-bc48-f591d1d7ad1c",
   "metadata": {},
   "source": [
    "https://www.codewars.com/kata/52ceafd1f235ce81aa00073a/train/python"
   ]
  },
  {
   "cell_type": "code",
   "execution_count": 5,
   "id": "c7236ed7-731d-4daa-a03c-0b7fcc48abf0",
   "metadata": {},
   "outputs": [],
   "source": [
    "def plural(n):\n",
    "    return n != 1"
   ]
  },
  {
   "cell_type": "code",
   "execution_count": 6,
   "id": "3f2425fa-2456-4c74-aee6-96512dfd5a8a",
   "metadata": {},
   "outputs": [
    {
     "data": {
      "text/plain": [
       "False"
      ]
     },
     "execution_count": 6,
     "metadata": {},
     "output_type": "execute_result"
    }
   ],
   "source": [
    "plural(1)"
   ]
  },
  {
   "cell_type": "code",
   "execution_count": null,
   "id": "d762c49e-ebf0-4129-a171-d73aaaf19798",
   "metadata": {},
   "outputs": [],
   "source": []
  }
 ],
 "metadata": {
  "kernelspec": {
   "display_name": "Python 3 (ipykernel)",
   "language": "python",
   "name": "python3"
  },
  "language_info": {
   "codemirror_mode": {
    "name": "ipython",
    "version": 3
   },
   "file_extension": ".py",
   "mimetype": "text/x-python",
   "name": "python",
   "nbconvert_exporter": "python",
   "pygments_lexer": "ipython3",
   "version": "3.10.7"
  }
 },
 "nbformat": 4,
 "nbformat_minor": 5
}
