{
 "cells": [
  {
   "cell_type": "markdown",
   "id": "115518c1-db6a-477d-a296-442492765d6f",
   "metadata": {},
   "source": [
    "# Will there be enough space"
   ]
  },
  {
   "cell_type": "markdown",
   "id": "4cf45932-291a-4eb3-b310-17824dcbf8fd",
   "metadata": {},
   "source": [
    " https://www.codewars.com/kata/5875b200d520904a04000003"
   ]
  },
  {
   "cell_type": "code",
   "execution_count": 38,
   "id": "92919301-0780-46a6-93ab-66e48c6f6599",
   "metadata": {
    "tags": []
   },
   "outputs": [],
   "source": [
    "def enough(cap, on, wait):\n",
    "    return 0 if (on + wait) <= cap else on + wait - cap"
   ]
  },
  {
   "cell_type": "code",
   "execution_count": 39,
   "id": "0e70f2e9-9034-4ebe-aa84-3c41ea431da5",
   "metadata": {
    "tags": []
   },
   "outputs": [
    {
     "data": {
      "text/plain": [
       "0"
      ]
     },
     "execution_count": 39,
     "metadata": {},
     "output_type": "execute_result"
    }
   ],
   "source": [
    "enough(10, 5, 5)"
   ]
  },
  {
   "cell_type": "code",
   "execution_count": 40,
   "id": "ccde0727-ae75-4de1-9351-9d55e1d3b76f",
   "metadata": {
    "tags": []
   },
   "outputs": [
    {
     "data": {
      "text/plain": [
       "10"
      ]
     },
     "execution_count": 40,
     "metadata": {},
     "output_type": "execute_result"
    }
   ],
   "source": [
    "enough(100, 60, 50)"
   ]
  },
  {
   "cell_type": "code",
   "execution_count": 41,
   "id": "1e1fe55e-887a-4357-904f-ab254dc1f0ff",
   "metadata": {
    "tags": []
   },
   "outputs": [
    {
     "data": {
      "text/plain": [
       "0"
      ]
     },
     "execution_count": 41,
     "metadata": {},
     "output_type": "execute_result"
    }
   ],
   "source": [
    "enough(20, 5, 5)"
   ]
  },
  {
   "cell_type": "code",
   "execution_count": 42,
   "id": "4b0b0ce0-b121-4f2a-81d5-a2f031d2d437",
   "metadata": {
    "tags": []
   },
   "outputs": [
    {
     "data": {
      "text/plain": [
       "10"
      ]
     },
     "execution_count": 42,
     "metadata": {},
     "output_type": "execute_result"
    }
   ],
   "source": [
    "enough(100, 80, 30)"
   ]
  },
  {
   "cell_type": "markdown",
   "id": "511c1df6-1f81-4d43-8d78-91dbfcc86cc4",
   "metadata": {},
   "source": [
    "____________________"
   ]
  },
  {
   "cell_type": "code",
   "execution_count": 45,
   "id": "01aa72d2-eb38-43eb-982a-3b5a49fd5469",
   "metadata": {
    "tags": []
   },
   "outputs": [],
   "source": [
    "def enough(cap, on , wait):\n",
    "    return max(0, wait - (cap - on))"
   ]
  },
  {
   "cell_type": "code",
   "execution_count": 46,
   "id": "9e2a7664-f030-4d3a-b782-f018495858a6",
   "metadata": {
    "tags": []
   },
   "outputs": [
    {
     "data": {
      "text/plain": [
       "0"
      ]
     },
     "execution_count": 46,
     "metadata": {},
     "output_type": "execute_result"
    }
   ],
   "source": [
    "enough(10, 5, 5)"
   ]
  },
  {
   "cell_type": "code",
   "execution_count": 47,
   "id": "3dc0354f-1808-4985-9596-9f99186027b7",
   "metadata": {
    "tags": []
   },
   "outputs": [
    {
     "data": {
      "text/plain": [
       "10"
      ]
     },
     "execution_count": 47,
     "metadata": {},
     "output_type": "execute_result"
    }
   ],
   "source": [
    "enough(100, 60, 50)"
   ]
  },
  {
   "cell_type": "code",
   "execution_count": 48,
   "id": "4c34713f-9bc2-4cab-8989-7d8a35496d5a",
   "metadata": {
    "tags": []
   },
   "outputs": [
    {
     "data": {
      "text/plain": [
       "10"
      ]
     },
     "execution_count": 48,
     "metadata": {},
     "output_type": "execute_result"
    }
   ],
   "source": [
    "enough(100, 80, 30)"
   ]
  },
  {
   "cell_type": "code",
   "execution_count": null,
   "id": "95cdf1fc-9953-4f15-add1-c0a0d7033d48",
   "metadata": {},
   "outputs": [],
   "source": []
  }
 ],
 "metadata": {
  "kernelspec": {
   "display_name": "Python 3 (ipykernel)",
   "language": "python",
   "name": "python3"
  },
  "language_info": {
   "codemirror_mode": {
    "name": "ipython",
    "version": 3
   },
   "file_extension": ".py",
   "mimetype": "text/x-python",
   "name": "python",
   "nbconvert_exporter": "python",
   "pygments_lexer": "ipython3",
   "version": "3.10.7"
  }
 },
 "nbformat": 4,
 "nbformat_minor": 5
}
