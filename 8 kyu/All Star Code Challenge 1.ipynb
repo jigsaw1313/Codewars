{
 "cells": [
  {
   "cell_type": "markdown",
   "id": "cbcdfc49-7b38-4eb1-84b8-84ad84606e4e",
   "metadata": {},
   "source": [
    "# All Star Code Challenge #1"
   ]
  },
  {
   "cell_type": "markdown",
   "id": "2ce9664e-41bd-4502-905b-61950148b9a3",
   "metadata": {},
   "source": []
  },
  {
   "cell_type": "code",
   "execution_count": 1,
   "id": "b9b51893-cce9-471c-8898-f81c758a72a0",
   "metadata": {
    "tags": []
   },
   "outputs": [],
   "source": [
    "def sum_ppg(player_one, player_two):\n",
    "    # Your code here\n",
    "    return player_one['ppg'] + player_two['ppg']"
   ]
  },
  {
   "cell_type": "code",
   "execution_count": 2,
   "id": "f26de9e0-5b31-4ffa-8316-29776c25b60d",
   "metadata": {
    "tags": []
   },
   "outputs": [
    {
     "data": {
      "text/plain": [
       "31.4"
      ]
     },
     "execution_count": 2,
     "metadata": {},
     "output_type": "execute_result"
    }
   ],
   "source": [
    "iverson = { 'team': '76ers', 'ppg': 11.2 }\n",
    "jordan  = { 'team': 'bulls', 'ppg': 20.2 }\n",
    "sum_ppg(iverson, jordan)"
   ]
  },
  {
   "cell_type": "code",
   "execution_count": null,
   "id": "f86842d6-0ad6-495f-9f6e-79e35f7923dc",
   "metadata": {},
   "outputs": [],
   "source": []
  }
 ],
 "metadata": {
  "kernelspec": {
   "display_name": "Python 3 (ipykernel)",
   "language": "python",
   "name": "python3"
  },
  "language_info": {
   "codemirror_mode": {
    "name": "ipython",
    "version": 3
   },
   "file_extension": ".py",
   "mimetype": "text/x-python",
   "name": "python",
   "nbconvert_exporter": "python",
   "pygments_lexer": "ipython3",
   "version": "3.9.12"
  }
 },
 "nbformat": 4,
 "nbformat_minor": 5
}
