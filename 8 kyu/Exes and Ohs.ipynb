{
 "cells": [
  {
   "cell_type": "markdown",
   "id": "c3d1f287-4324-48b7-bb24-fec4b0688268",
   "metadata": {},
   "source": [
    "# Exes and Ohs\n"
   ]
  },
  {
   "cell_type": "markdown",
   "id": "afdb558f-2f1d-4110-bf8e-532d17e1884b",
   "metadata": {},
   "source": [
    "https://www.codewars.com/kata/55908aad6620c066bc00002a"
   ]
  },
  {
   "cell_type": "code",
   "execution_count": 1,
   "id": "a4315e5c-7aa0-4229-ab30-6a7b1e61140a",
   "metadata": {
    "tags": []
   },
   "outputs": [],
   "source": [
    "def xo(s):\n",
    "    # Convert the string to lowercase\n",
    "    s = s.lower()\n",
    "    # Count the number of 'x's and 'o's in the string\n",
    "    count_x = s.count('x')\n",
    "    count_o = s.count('o')\n",
    "    # Compare the counts and return True if they are equal, False otherwise\n",
    "    return count_x == count_o"
   ]
  },
  {
   "cell_type": "markdown",
   "id": "8b61eb8e-88b4-4850-af68-63ddbeed80cc",
   "metadata": {},
   "source": [
    "_______________________"
   ]
  },
  {
   "cell_type": "code",
   "execution_count": 2,
   "id": "6c7ba056-a450-4e11-956c-2b48555f46b8",
   "metadata": {
    "tags": []
   },
   "outputs": [],
   "source": [
    "def xo(s):\n",
    "    s = s.lower()\n",
    "    return s.count('x') == s.count('o')"
   ]
  },
  {
   "cell_type": "code",
   "execution_count": null,
   "id": "19a4ba0c-1f74-49e2-aa28-1913660333e1",
   "metadata": {},
   "outputs": [],
   "source": []
  }
 ],
 "metadata": {
  "kernelspec": {
   "display_name": "Python 3 (ipykernel)",
   "language": "python",
   "name": "python3"
  },
  "language_info": {
   "codemirror_mode": {
    "name": "ipython",
    "version": 3
   },
   "file_extension": ".py",
   "mimetype": "text/x-python",
   "name": "python",
   "nbconvert_exporter": "python",
   "pygments_lexer": "ipython3",
   "version": "3.10.7"
  }
 },
 "nbformat": 4,
 "nbformat_minor": 5
}
