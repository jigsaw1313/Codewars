{
 "cells": [
  {
   "cell_type": "markdown",
   "id": "b024b676-a153-4eea-806b-0344aa23d87a",
   "metadata": {
    "tags": []
   },
   "source": [
    "# Lario and Muigi Pipe Problem"
   ]
  },
  {
   "cell_type": "markdown",
   "id": "91cc774a-acef-479f-8508-68f73ce59119",
   "metadata": {},
   "source": [
    "https://www.codewars.com/kata/56b29582461215098d00000f/solutions/python"
   ]
  },
  {
   "cell_type": "code",
   "execution_count": 20,
   "id": "1c2dfbcc-69f0-47ec-82a0-b2c1812fa2e5",
   "metadata": {
    "tags": []
   },
   "outputs": [],
   "source": [
    "def pipe_fix(nums):\n",
    "    # Find the minimum and maximum values in the list\n",
    "    min_val = min(nums)\n",
    "    max_val = max(nums)\n",
    "    \n",
    "    # Create a new list with the missing values\n",
    "    fixed_nums = list(range(min_val, max_val+1))\n",
    "    \n",
    "    # Return the fixed list\n",
    "    return fixed_nums"
   ]
  },
  {
   "cell_type": "code",
   "execution_count": 21,
   "id": "012de4a0-dcf2-43e5-a769-cc46041a339a",
   "metadata": {
    "tags": []
   },
   "outputs": [
    {
     "data": {
      "text/plain": [
       "[1, 2, 3, 4, 5, 6, 7, 8, 9]"
      ]
     },
     "execution_count": 21,
     "metadata": {},
     "output_type": "execute_result"
    }
   ],
   "source": [
    "pipe_fix([1, 2, 3, 5, 6, 8, 9])"
   ]
  },
  {
   "cell_type": "code",
   "execution_count": 23,
   "id": "e5cccb6a-f0a9-4a93-899d-0b0a21021cb0",
   "metadata": {
    "tags": []
   },
   "outputs": [
    {
     "data": {
      "text/plain": [
       "[1, 2, 3, 4, 5, 6, 7, 8, 9, 10, 11, 12]"
      ]
     },
     "execution_count": 23,
     "metadata": {},
     "output_type": "execute_result"
    }
   ],
   "source": [
    "pipe_fix([1, 2, 3, 12])"
   ]
  },
  {
   "cell_type": "markdown",
   "id": "c6404c7d-e4a1-432f-8a91-7032f86a4d38",
   "metadata": {},
   "source": [
    "___"
   ]
  },
  {
   "cell_type": "code",
   "execution_count": 24,
   "id": "e0cada35-af8a-43fe-86ff-cae7bdb04529",
   "metadata": {
    "tags": []
   },
   "outputs": [],
   "source": [
    "def pipe_fix(nums):\n",
    "\treturn list(range(nums[0], nums[-1] + 1))"
   ]
  },
  {
   "cell_type": "code",
   "execution_count": null,
   "id": "4c4a8d76-c978-4449-a12b-e84423cd33bb",
   "metadata": {},
   "outputs": [],
   "source": []
  }
 ],
 "metadata": {
  "kernelspec": {
   "display_name": "Python 3 (ipykernel)",
   "language": "python",
   "name": "python3"
  },
  "language_info": {
   "codemirror_mode": {
    "name": "ipython",
    "version": 3
   },
   "file_extension": ".py",
   "mimetype": "text/x-python",
   "name": "python",
   "nbconvert_exporter": "python",
   "pygments_lexer": "ipython3",
   "version": "3.10.7"
  }
 },
 "nbformat": 4,
 "nbformat_minor": 5
}
