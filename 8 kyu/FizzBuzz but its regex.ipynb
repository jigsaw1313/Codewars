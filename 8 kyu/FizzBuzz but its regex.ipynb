{
 "cells": [
  {
   "cell_type": "markdown",
   "id": "cc5c77c7-60cf-4226-b450-7103a6ba8eff",
   "metadata": {},
   "source": [
    "# FizzBuzz but its regex"
   ]
  },
  {
   "cell_type": "markdown",
   "id": "bc7af1fc-e32e-4036-9d50-bde61fdfc713",
   "metadata": {},
   "source": [
    "https://www.codewars.com/kata/62fd6e7b7d267a6b5846ca08/python}"
   ]
  },
  {
   "cell_type": "code",
   "execution_count": null,
   "id": "b25f6566-5c1c-49ff-9b85-2669dff5cfe7",
   "metadata": {},
   "outputs": [],
   "source": []
  }
 ],
 "metadata": {
  "kernelspec": {
   "display_name": "Python 3 (ipykernel)",
   "language": "python",
   "name": "python3"
  },
  "language_info": {
   "codemirror_mode": {
    "name": "ipython",
    "version": 3
   },
   "file_extension": ".py",
   "mimetype": "text/x-python",
   "name": "python",
   "nbconvert_exporter": "python",
   "pygments_lexer": "ipython3",
   "version": "3.10.7"
  }
 },
 "nbformat": 4,
 "nbformat_minor": 5
}
