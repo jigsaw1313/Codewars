{
 "cells": [
  {
   "cell_type": "markdown",
   "id": "0d67ab3b-08a4-48d1-beb0-c1dc843ca92f",
   "metadata": {},
   "source": [
    "# Find the position!\n"
   ]
  },
  {
   "cell_type": "markdown",
   "id": "8b84b326-73b8-41d5-8b5a-f2a642955a1f",
   "metadata": {},
   "source": [
    "https://www.codewars.com/kata/5808e2006b65bff35500008f/solutions/python"
   ]
  },
  {
   "cell_type": "code",
   "execution_count": 36,
   "id": "e63f1d66-a02d-4ad1-a3f0-09e3b172547c",
   "metadata": {
    "tags": []
   },
   "outputs": [],
   "source": [
    "import string as str\n",
    "def position(alphabet):\n",
    "    alph = str.ascii_lowercase    \n",
    "    for i in range(len(alph)):\n",
    "        if alphabet == alph[i]:\n",
    "            return f\"Position of alphabet: {i + 1}\""
   ]
  },
  {
   "cell_type": "code",
   "execution_count": 27,
   "id": "ddeb3e1b-1785-4bf2-b747-ec91b4f4c11f",
   "metadata": {
    "tags": []
   },
   "outputs": [
    {
     "data": {
      "text/plain": [
       "'Position of alphabet: 1'"
      ]
     },
     "execution_count": 27,
     "metadata": {},
     "output_type": "execute_result"
    }
   ],
   "source": [
    "position('a')"
   ]
  },
  {
   "cell_type": "code",
   "execution_count": 28,
   "id": "589c1c33-f00d-4705-8f27-c62bf7b6fedb",
   "metadata": {
    "tags": []
   },
   "outputs": [
    {
     "data": {
      "text/plain": [
       "'Position of alphabet: 2'"
      ]
     },
     "execution_count": 28,
     "metadata": {},
     "output_type": "execute_result"
    }
   ],
   "source": [
    "position('b')"
   ]
  },
  {
   "cell_type": "code",
   "execution_count": 29,
   "id": "95248c01-828e-4e9d-80fd-7a0e2b522f19",
   "metadata": {
    "tags": []
   },
   "outputs": [
    {
     "data": {
      "text/plain": [
       "'Position of alphabet: 5'"
      ]
     },
     "execution_count": 29,
     "metadata": {},
     "output_type": "execute_result"
    }
   ],
   "source": [
    "position('e')"
   ]
  },
  {
   "cell_type": "code",
   "execution_count": 30,
   "id": "b060d99b-5ad3-4a4f-9054-460a86c362f5",
   "metadata": {
    "tags": []
   },
   "outputs": [
    {
     "data": {
      "text/plain": [
       "'Position of alphabet: 13'"
      ]
     },
     "execution_count": 30,
     "metadata": {},
     "output_type": "execute_result"
    }
   ],
   "source": [
    "position('m')"
   ]
  },
  {
   "cell_type": "code",
   "execution_count": 38,
   "id": "72acebdb-9403-47de-8841-6524b2748de5",
   "metadata": {
    "tags": []
   },
   "outputs": [],
   "source": [
    "position('M')"
   ]
  },
  {
   "cell_type": "markdown",
   "id": "5719885e-4d61-41bd-a29f-219cc6f5cdc4",
   "metadata": {},
   "source": [
    "_____"
   ]
  },
  {
   "cell_type": "code",
   "execution_count": 39,
   "id": "c00ad5a3-e520-4cad-b9f9-4b677b81556f",
   "metadata": {
    "tags": []
   },
   "outputs": [],
   "source": [
    "def position(a):\n",
    "    return f\"Position of alphabet: {ord(a) - 96}\""
   ]
  },
  {
   "cell_type": "code",
   "execution_count": 40,
   "id": "01e56792-784d-477b-a7c3-6934170f1e10",
   "metadata": {
    "tags": []
   },
   "outputs": [
    {
     "data": {
      "text/plain": [
       "'Position of alphabet: -19'"
      ]
     },
     "execution_count": 40,
     "metadata": {},
     "output_type": "execute_result"
    }
   ],
   "source": [
    "position('M')"
   ]
  },
  {
   "cell_type": "code",
   "execution_count": null,
   "id": "8385e457-0256-4293-9b35-8d248d4d1316",
   "metadata": {},
   "outputs": [],
   "source": []
  }
 ],
 "metadata": {
  "kernelspec": {
   "display_name": "Python 3 (ipykernel)",
   "language": "python",
   "name": "python3"
  },
  "language_info": {
   "codemirror_mode": {
    "name": "ipython",
    "version": 3
   },
   "file_extension": ".py",
   "mimetype": "text/x-python",
   "name": "python",
   "nbconvert_exporter": "python",
   "pygments_lexer": "ipython3",
   "version": "3.10.7"
  }
 },
 "nbformat": 4,
 "nbformat_minor": 5
}
