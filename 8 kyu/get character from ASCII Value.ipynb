{
 "cells": [
  {
   "cell_type": "markdown",
   "id": "312031fa-d95f-4312-850d-84f0c1fb0d67",
   "metadata": {},
   "source": [
    "# get character from ASCII Value"
   ]
  },
  {
   "cell_type": "markdown",
   "id": "1d5d39a5-beb9-46bf-b858-95d763957267",
   "metadata": {},
   "source": [
    "https://www.codewars.com/kata/55ad04714f0b468e8200001c/solutions/python"
   ]
  },
  {
   "cell_type": "code",
   "execution_count": 1,
   "id": "75037326-9f81-4f93-96c8-f9e0ec1d919e",
   "metadata": {
    "tags": []
   },
   "outputs": [],
   "source": [
    "def get_char(c):\n",
    "  # Your code goes here ^_^\n",
    "  return chr(c)"
   ]
  },
  {
   "cell_type": "code",
   "execution_count": 2,
   "id": "c8e9d679-2710-477c-a602-56515b7054b9",
   "metadata": {
    "tags": []
   },
   "outputs": [
    {
     "data": {
      "text/plain": [
       "'6'"
      ]
     },
     "execution_count": 2,
     "metadata": {},
     "output_type": "execute_result"
    }
   ],
   "source": [
    "get_char(54)"
   ]
  },
  {
   "cell_type": "code",
   "execution_count": 3,
   "id": "619c43d0-5a54-4c9a-85f6-17174b88e738",
   "metadata": {
    "tags": []
   },
   "outputs": [
    {
     "data": {
      "text/plain": [
       "'A'"
      ]
     },
     "execution_count": 3,
     "metadata": {},
     "output_type": "execute_result"
    }
   ],
   "source": [
    "get_char(65)"
   ]
  },
  {
   "cell_type": "code",
   "execution_count": null,
   "id": "dc4bf0b4-c8f1-4bb6-90b3-daa12b0b7010",
   "metadata": {},
   "outputs": [],
   "source": []
  }
 ],
 "metadata": {
  "kernelspec": {
   "display_name": "Python 3 (ipykernel)",
   "language": "python",
   "name": "python3"
  },
  "language_info": {
   "codemirror_mode": {
    "name": "ipython",
    "version": 3
   },
   "file_extension": ".py",
   "mimetype": "text/x-python",
   "name": "python",
   "nbconvert_exporter": "python",
   "pygments_lexer": "ipython3",
   "version": "3.10.7"
  }
 },
 "nbformat": 4,
 "nbformat_minor": 5
}
