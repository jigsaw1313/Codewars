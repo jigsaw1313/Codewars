{
 "cells": [
  {
   "cell_type": "markdown",
   "id": "d5b3ad2f-5ced-4af4-a4db-58e2a752c5ad",
   "metadata": {},
   "source": [
    "# Reversed sequence"
   ]
  },
  {
   "cell_type": "markdown",
   "id": "18b51cea-a989-4a98-9cdc-6c656bc1c973",
   "metadata": {},
   "source": [
    "https://www.codewars.com/kata/5a00e05cc374cb34d100000d/solutions/python"
   ]
  },
  {
   "cell_type": "code",
   "execution_count": 21,
   "id": "a0421670-820b-445d-af43-c41695169a32",
   "metadata": {
    "tags": []
   },
   "outputs": [
    {
     "data": {
      "text/plain": [
       "[5, 4, 3, 2, 1]"
      ]
     },
     "execution_count": 21,
     "metadata": {},
     "output_type": "execute_result"
    }
   ],
   "source": [
    "def reverse_seq(n):\n",
    "    arr = []\n",
    "    for i in range(n + 1):\n",
    "        if i == 0:\n",
    "            pass\n",
    "        else:\n",
    "            arr.append(i)\n",
    "    return arr[::-1]\n",
    "\n",
    "reverse_seq(5)"
   ]
  },
  {
   "cell_type": "code",
   "execution_count": 26,
   "id": "c641b73d-dc43-4939-a399-0c941ce98702",
   "metadata": {
    "tags": []
   },
   "outputs": [
    {
     "data": {
      "text/plain": [
       "[10, 9, 8, 7, 6, 5, 4, 3, 2, 1]"
      ]
     },
     "execution_count": 26,
     "metadata": {},
     "output_type": "execute_result"
    }
   ],
   "source": [
    "def reverseseq(n):\n",
    "    return list(range(n, 0, -1))\n",
    "reverseseq(10)"
   ]
  },
  {
   "cell_type": "code",
   "execution_count": null,
   "id": "9aa0a627-1485-4526-b2c0-48618d995890",
   "metadata": {},
   "outputs": [],
   "source": []
  }
 ],
 "metadata": {
  "kernelspec": {
   "display_name": "Python 3 (ipykernel)",
   "language": "python",
   "name": "python3"
  },
  "language_info": {
   "codemirror_mode": {
    "name": "ipython",
    "version": 3
   },
   "file_extension": ".py",
   "mimetype": "text/x-python",
   "name": "python",
   "nbconvert_exporter": "python",
   "pygments_lexer": "ipython3",
   "version": "3.10.7"
  }
 },
 "nbformat": 4,
 "nbformat_minor": 5
}
