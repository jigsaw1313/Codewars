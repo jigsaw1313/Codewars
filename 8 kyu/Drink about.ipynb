{
 "cells": [
  {
   "cell_type": "markdown",
   "id": "4822cdff-c81c-447f-933f-5ca890590436",
   "metadata": {},
   "source": [
    "# Drink about"
   ]
  },
  {
   "cell_type": "markdown",
   "id": "3b784003-7b6e-4a9e-8039-d610da24f98c",
   "metadata": {},
   "source": [
    "https://www.codewars.com/kata/56170e844da7c6f647000063/solutions/python"
   ]
  },
  {
   "cell_type": "code",
   "execution_count": 1,
   "id": "b687f4b5-d20e-4b6b-9ffa-20db199a5bc4",
   "metadata": {
    "tags": []
   },
   "outputs": [],
   "source": [
    "def people_with_age_drink(age):\n",
    "    if age < 14: return 'drink toddy'\n",
    "    elif age < 18: return 'drink coke'\n",
    "    elif age < 21: return 'drink beer'\n",
    "    else: return 'drink whisky'"
   ]
  },
  {
   "cell_type": "code",
   "execution_count": 2,
   "id": "e81bf42f-0ea0-4f2d-ad0f-689d874dbafd",
   "metadata": {
    "tags": []
   },
   "outputs": [
    {
     "data": {
      "text/plain": [
       "'drink toddy'"
      ]
     },
     "execution_count": 2,
     "metadata": {},
     "output_type": "execute_result"
    }
   ],
   "source": [
    "people_with_age_drink(13)"
   ]
  },
  {
   "cell_type": "code",
   "execution_count": 3,
   "id": "c1da81fb-3e91-4c5a-99e2-f0f1fbad6e7a",
   "metadata": {
    "tags": []
   },
   "outputs": [
    {
     "data": {
      "text/plain": [
       "'drink coke'"
      ]
     },
     "execution_count": 3,
     "metadata": {},
     "output_type": "execute_result"
    }
   ],
   "source": [
    "people_with_age_drink(17)"
   ]
  },
  {
   "cell_type": "code",
   "execution_count": 4,
   "id": "adb6c64c-55d7-4171-be14-ab6d618f7505",
   "metadata": {
    "tags": []
   },
   "outputs": [
    {
     "data": {
      "text/plain": [
       "'drink coke'"
      ]
     },
     "execution_count": 4,
     "metadata": {},
     "output_type": "execute_result"
    }
   ],
   "source": [
    "people_with_age_drink(15)"
   ]
  },
  {
   "cell_type": "code",
   "execution_count": 5,
   "id": "9c8eebf0-70f9-4b22-8df3-a3747b77c5e8",
   "metadata": {
    "tags": []
   },
   "outputs": [
    {
     "data": {
      "text/plain": [
       "'drink whisky'"
      ]
     },
     "execution_count": 5,
     "metadata": {},
     "output_type": "execute_result"
    }
   ],
   "source": [
    "people_with_age_drink(23)"
   ]
  },
  {
   "cell_type": "code",
   "execution_count": null,
   "id": "3673cd74-01f5-41ca-ad36-08a40264d076",
   "metadata": {},
   "outputs": [],
   "source": []
  }
 ],
 "metadata": {
  "kernelspec": {
   "display_name": "Python 3 (ipykernel)",
   "language": "python",
   "name": "python3"
  },
  "language_info": {
   "codemirror_mode": {
    "name": "ipython",
    "version": 3
   },
   "file_extension": ".py",
   "mimetype": "text/x-python",
   "name": "python",
   "nbconvert_exporter": "python",
   "pygments_lexer": "ipython3",
   "version": "3.10.7"
  }
 },
 "nbformat": 4,
 "nbformat_minor": 5
}
