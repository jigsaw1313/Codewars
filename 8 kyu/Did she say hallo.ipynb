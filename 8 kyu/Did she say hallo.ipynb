{
 "cells": [
  {
   "cell_type": "markdown",
   "id": "2c128fa5-345f-4eea-bcad-c1e79aa44f3f",
   "metadata": {},
   "source": [
    "# Did she say hallo?"
   ]
  },
  {
   "cell_type": "markdown",
   "id": "db7e519c-4ffd-4785-a082-fad0f270caf9",
   "metadata": {},
   "source": [
    "https://www.codewars.com/kata/56a4addbfd4a55694100001f/train/python"
   ]
  },
  {
   "cell_type": "code",
   "execution_count": 65,
   "id": "9343956a-2a69-4ec1-b719-a14e236ff5e4",
   "metadata": {
    "tags": []
   },
   "outputs": [],
   "source": [
    "def validate_hello(message):\n",
    "    greetings = ['hello', 'ciao', 'salut', 'hallo', 'hola', 'ahoj', 'czesc']\n",
    "    return any(greeting.lower() in message.lower() for greeting in greetings)"
   ]
  },
  {
   "cell_type": "code",
   "execution_count": 59,
   "id": "fa4547f8-4d18-4c66-8737-9a945003afca",
   "metadata": {
    "tags": []
   },
   "outputs": [
    {
     "data": {
      "text/plain": [
       "True"
      ]
     },
     "execution_count": 59,
     "metadata": {},
     "output_type": "execute_result"
    }
   ],
   "source": [
    "validate_hello('hola')"
   ]
  },
  {
   "cell_type": "code",
   "execution_count": 60,
   "id": "9a432ccf-1878-4f68-943d-ff14019129d7",
   "metadata": {
    "tags": []
   },
   "outputs": [
    {
     "data": {
      "text/plain": [
       "True"
      ]
     },
     "execution_count": 60,
     "metadata": {},
     "output_type": "execute_result"
    }
   ],
   "source": [
    "validate_hello('salut')"
   ]
  },
  {
   "cell_type": "code",
   "execution_count": 61,
   "id": "840f5267-93c3-4fc4-b1ec-87e060c9936b",
   "metadata": {
    "tags": []
   },
   "outputs": [
    {
     "data": {
      "text/plain": [
       "True"
      ]
     },
     "execution_count": 61,
     "metadata": {},
     "output_type": "execute_result"
    }
   ],
   "source": [
    "validate_hello('hombre! Hola!')"
   ]
  },
  {
   "cell_type": "code",
   "execution_count": 62,
   "id": "f86a7aad-2bfd-4601-a017-6fb45b7322b1",
   "metadata": {
    "tags": []
   },
   "outputs": [
    {
     "data": {
      "text/plain": [
       "True"
      ]
     },
     "execution_count": 62,
     "metadata": {},
     "output_type": "execute_result"
    }
   ],
   "source": [
    "validate_hello('Hola, mohammad , this is my test')"
   ]
  },
  {
   "cell_type": "markdown",
   "id": "63416eb3-680f-487c-bfd1-0665fa8584c0",
   "metadata": {},
   "source": [
    "__________________________________________________________________"
   ]
  },
  {
   "cell_type": "code",
   "execution_count": 63,
   "id": "862ca3c8-8658-4567-b064-bb6defd964b3",
   "metadata": {
    "tags": []
   },
   "outputs": [],
   "source": [
    "import re\n",
    "\n",
    "def validate_hello(greetings):\n",
    "    return bool(re.search(\"h[ae]llo|ciao|salut|hola|ahoj|czesc\", greetings.lower()))"
   ]
  },
  {
   "cell_type": "code",
   "execution_count": 64,
   "id": "59687d58-2a9b-4e89-a049-b86f17563f9e",
   "metadata": {
    "tags": []
   },
   "outputs": [],
   "source": [
    "def validate_hello(greetings):\n",
    "    return any(x in greetings.lower() for x in ['hello','ciao','salut','hallo','hola','ahoj','czesc'])"
   ]
  },
  {
   "cell_type": "code",
   "execution_count": null,
   "id": "ba772579-1bc2-4ecb-be22-7611f7976fc9",
   "metadata": {},
   "outputs": [],
   "source": []
  }
 ],
 "metadata": {
  "kernelspec": {
   "display_name": "Python 3 (ipykernel)",
   "language": "python",
   "name": "python3"
  },
  "language_info": {
   "codemirror_mode": {
    "name": "ipython",
    "version": 3
   },
   "file_extension": ".py",
   "mimetype": "text/x-python",
   "name": "python",
   "nbconvert_exporter": "python",
   "pygments_lexer": "ipython3",
   "version": "3.10.7"
  }
 },
 "nbformat": 4,
 "nbformat_minor": 5
}
