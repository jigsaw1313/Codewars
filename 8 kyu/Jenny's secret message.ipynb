{
 "cells": [
  {
   "cell_type": "markdown",
   "id": "43cdf03e-4e3b-46ca-aa5a-451df1108a5b",
   "metadata": {},
   "source": [
    "# Jenny's secret message"
   ]
  },
  {
   "cell_type": "markdown",
   "id": "d676a582-cecd-4e7a-a138-62ee15040962",
   "metadata": {},
   "source": [
    "https://www.codewars.com/kata/55225023e1be1ec8bc000390/solutions/python"
   ]
  },
  {
   "cell_type": "code",
   "execution_count": 4,
   "id": "4d4a8bc8-4dd1-4878-bca8-08e6a82bf3fc",
   "metadata": {
    "tags": []
   },
   "outputs": [],
   "source": [
    "def greet(name):\n",
    "    if name == \"Johnny\":\n",
    "        return \"Hello, my love!\"\n",
    "    return \"Hello, {name}!\".format(name=name)"
   ]
  },
  {
   "cell_type": "code",
   "execution_count": 5,
   "id": "04fdad03-f05d-4e52-994d-18f4c6a99e2b",
   "metadata": {
    "tags": []
   },
   "outputs": [
    {
     "data": {
      "text/plain": [
       "'Hello, Reza!'"
      ]
     },
     "execution_count": 5,
     "metadata": {},
     "output_type": "execute_result"
    }
   ],
   "source": [
    "greet('Reza')"
   ]
  },
  {
   "cell_type": "code",
   "execution_count": 6,
   "id": "312c2492-8ec6-4d29-a147-cfddc4a4f198",
   "metadata": {
    "tags": []
   },
   "outputs": [
    {
     "data": {
      "text/plain": [
       "'Hello, my love!'"
      ]
     },
     "execution_count": 6,
     "metadata": {},
     "output_type": "execute_result"
    }
   ],
   "source": [
    "greet('Johnny')"
   ]
  }
 ],
 "metadata": {
  "kernelspec": {
   "display_name": "Python 3 (ipykernel)",
   "language": "python",
   "name": "python3"
  },
  "language_info": {
   "codemirror_mode": {
    "name": "ipython",
    "version": 3
   },
   "file_extension": ".py",
   "mimetype": "text/x-python",
   "name": "python",
   "nbconvert_exporter": "python",
   "pygments_lexer": "ipython3",
   "version": "3.10.7"
  }
 },
 "nbformat": 4,
 "nbformat_minor": 5
}
