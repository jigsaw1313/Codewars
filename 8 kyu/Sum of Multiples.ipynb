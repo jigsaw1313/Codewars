{
 "cells": [
  {
   "cell_type": "markdown",
   "id": "60cb4982-ac45-4a99-9068-5b7c54407d86",
   "metadata": {},
   "source": [
    "# Sum of Multiples"
   ]
  },
  {
   "cell_type": "markdown",
   "id": "0b9f5d94-eaaa-43c9-ae18-de973ee1f51b",
   "metadata": {},
   "source": [
    "https://www.codewars.com/kata/57241e0f440cd279b5000829/train/python"
   ]
  },
  {
   "cell_type": "code",
   "execution_count": 5,
   "id": "f56adea2-86da-4483-bf05-ec57e6539444",
   "metadata": {
    "tags": []
   },
   "outputs": [],
   "source": [
    "def sum_mul(n, m):\n",
    "    if n <= 0 or m <= 0:\n",
    "        return \"INVALID\"\n",
    "\n",
    "    sum_multiples = 0\n",
    "    for i in range(n, m, n):\n",
    "        sum_multiples += i\n",
    "\n",
    "    return sum_multiples\n"
   ]
  },
  {
   "cell_type": "code",
   "execution_count": 6,
   "id": "2328de0c-570e-43ed-ad21-defdc75c0b55",
   "metadata": {
    "tags": []
   },
   "outputs": [
    {
     "data": {
      "text/plain": [
       "20"
      ]
     },
     "execution_count": 6,
     "metadata": {},
     "output_type": "execute_result"
    }
   ],
   "source": [
    "sum_mul(2, 9)"
   ]
  },
  {
   "cell_type": "code",
   "execution_count": 7,
   "id": "d95d2c26-ae92-4de1-ad0e-e59dfb17a995",
   "metadata": {
    "tags": []
   },
   "outputs": [
    {
     "data": {
      "text/plain": [
       "'INVALID'"
      ]
     },
     "execution_count": 7,
     "metadata": {},
     "output_type": "execute_result"
    }
   ],
   "source": [
    "sum_mul(4, -7)"
   ]
  },
  {
   "cell_type": "code",
   "execution_count": 8,
   "id": "b83257fb-8265-4038-a323-5aca027afb2f",
   "metadata": {
    "tags": []
   },
   "outputs": [
    {
     "data": {
      "text/plain": [
       "'INVALID'"
      ]
     },
     "execution_count": 8,
     "metadata": {},
     "output_type": "execute_result"
    }
   ],
   "source": [
    "sum_mul(0, 0)"
   ]
  },
  {
   "cell_type": "markdown",
   "id": "a1b2ab49-5c04-476a-a913-6225d538687a",
   "metadata": {},
   "source": [
    "_____________________________________________"
   ]
  },
  {
   "cell_type": "code",
   "execution_count": 9,
   "id": "37013f98-7591-4214-a2b0-f12486057811",
   "metadata": {
    "tags": []
   },
   "outputs": [],
   "source": [
    "def sum_mul(n, m):\n",
    "    if m>0 and n>0:\n",
    "        return sum(range(n, m, n))\n",
    "    else:\n",
    "        return 'INVALID'"
   ]
  },
  {
   "cell_type": "code",
   "execution_count": null,
   "id": "56c6270d-9d4b-422f-a7ed-5f99ff41a5ef",
   "metadata": {},
   "outputs": [],
   "source": []
  }
 ],
 "metadata": {
  "kernelspec": {
   "display_name": "Python 3 (ipykernel)",
   "language": "python",
   "name": "python3"
  },
  "language_info": {
   "codemirror_mode": {
    "name": "ipython",
    "version": 3
   },
   "file_extension": ".py",
   "mimetype": "text/x-python",
   "name": "python",
   "nbconvert_exporter": "python",
   "pygments_lexer": "ipython3",
   "version": "3.10.7"
  }
 },
 "nbformat": 4,
 "nbformat_minor": 5
}
