{
 "cells": [
  {
   "cell_type": "markdown",
   "id": "e3cf0679-b1e1-4c8d-9a37-6e90956126cc",
   "metadata": {},
   "source": [
    "# Even or Odd\n"
   ]
  },
  {
   "cell_type": "markdown",
   "id": "69b136f5-ee60-467c-9f5d-f7edc388b659",
   "metadata": {},
   "source": [
    "https://www.codewars.com/kata/53da3dbb4a5168369a0000fe/solutions/python"
   ]
  },
  {
   "cell_type": "code",
   "execution_count": 1,
   "id": "c5f4b138-8ee3-4845-a50a-c00c04f870e0",
   "metadata": {
    "tags": []
   },
   "outputs": [],
   "source": [
    "def even_or_odd(number):\n",
    "    return 'Even' if number % 2 == 0 else 'Odd'"
   ]
  },
  {
   "cell_type": "code",
   "execution_count": 2,
   "id": "fc987fe4-7c37-4a25-b3d3-b50a797ac86b",
   "metadata": {
    "tags": []
   },
   "outputs": [
    {
     "data": {
      "text/plain": [
       "'Even'"
      ]
     },
     "execution_count": 2,
     "metadata": {},
     "output_type": "execute_result"
    }
   ],
   "source": [
    "even_or_odd(20)"
   ]
  },
  {
   "cell_type": "code",
   "execution_count": 3,
   "id": "b168057b-7f4d-487a-a0e6-b1a7398effe8",
   "metadata": {
    "tags": []
   },
   "outputs": [
    {
     "data": {
      "text/plain": [
       "'Odd'"
      ]
     },
     "execution_count": 3,
     "metadata": {},
     "output_type": "execute_result"
    }
   ],
   "source": [
    "even_or_odd(43)"
   ]
  },
  {
   "cell_type": "code",
   "execution_count": 4,
   "id": "8f5036ff-a9a7-4217-a740-5357ee2baf4a",
   "metadata": {
    "tags": []
   },
   "outputs": [
    {
     "data": {
      "text/plain": [
       "'Even'"
      ]
     },
     "execution_count": 4,
     "metadata": {},
     "output_type": "execute_result"
    }
   ],
   "source": [
    "even_or_odd(12312)"
   ]
  },
  {
   "cell_type": "code",
   "execution_count": 5,
   "id": "741ce399-961f-441f-ab22-95caa8556015",
   "metadata": {
    "tags": []
   },
   "outputs": [
    {
     "data": {
      "text/plain": [
       "'Even'"
      ]
     },
     "execution_count": 5,
     "metadata": {},
     "output_type": "execute_result"
    }
   ],
   "source": [
    "even_or_odd(98182)"
   ]
  },
  {
   "cell_type": "code",
   "execution_count": 6,
   "id": "af62c4b6-9e05-4e36-b135-e1a0b8e5bed1",
   "metadata": {
    "tags": []
   },
   "outputs": [
    {
     "data": {
      "text/plain": [
       "'Odd'"
      ]
     },
     "execution_count": 6,
     "metadata": {},
     "output_type": "execute_result"
    }
   ],
   "source": [
    "even_or_odd(2223)"
   ]
  },
  {
   "cell_type": "markdown",
   "id": "75a7c9b9-d3ec-4ba1-982a-f74162798a9c",
   "metadata": {},
   "source": [
    "___________________________________________________"
   ]
  },
  {
   "cell_type": "code",
   "execution_count": 7,
   "id": "f75eade9-b2cf-4c1a-aebe-909ca7820a75",
   "metadata": {
    "tags": []
   },
   "outputs": [],
   "source": [
    "def even_or_odd(number):\n",
    "  return [\"Even\", \"Odd\"][number % 2]"
   ]
  },
  {
   "cell_type": "code",
   "execution_count": null,
   "id": "fbb8f9c3-8996-4313-b8cd-2cc8a79d7e11",
   "metadata": {},
   "outputs": [],
   "source": []
  }
 ],
 "metadata": {
  "kernelspec": {
   "display_name": "Python 3 (ipykernel)",
   "language": "python",
   "name": "python3"
  },
  "language_info": {
   "codemirror_mode": {
    "name": "ipython",
    "version": 3
   },
   "file_extension": ".py",
   "mimetype": "text/x-python",
   "name": "python",
   "nbconvert_exporter": "python",
   "pygments_lexer": "ipython3",
   "version": "3.10.7"
  }
 },
 "nbformat": 4,
 "nbformat_minor": 5
}
