{
 "cells": [
  {
   "cell_type": "markdown",
   "id": "6689046e-1544-4ebc-a735-b62d3deabdc0",
   "metadata": {},
   "source": [
    "# Be Concise IV - Index of an element in an array"
   ]
  },
  {
   "cell_type": "markdown",
   "id": "7741984a-0abc-4b9e-8457-b34bd1b16100",
   "metadata": {},
   "source": [
    "https://www.codewars.com/kata/5703c093022cd1aae90012c9/train/python"
   ]
  },
  {
   "cell_type": "code",
   "execution_count": 1,
   "id": "0773b9f7-cda7-4c9d-925c-b3ca66f33b61",
   "metadata": {
    "tags": []
   },
   "outputs": [],
   "source": [
    "def find(arr, elem):\n",
    "    return arr.index(elem) if elem in arr else \"Not found\"\n"
   ]
  },
  {
   "cell_type": "markdown",
   "id": "cbaa3642-8c1f-4c3f-a653-ef3fc7f7e8cb",
   "metadata": {
    "tags": []
   },
   "source": [
    "______________________________________________________________________________"
   ]
  },
  {
   "cell_type": "code",
   "execution_count": 4,
   "id": "9ce3bf6b-57ec-47f1-86e1-a02b419ae6f8",
   "metadata": {
    "tags": []
   },
   "outputs": [],
   "source": [
    "def find(arr, e):\n",
    "    try: return arr.index(e)\n",
    "    except: return \"Not found\""
   ]
  },
  {
   "cell_type": "code",
   "execution_count": null,
   "id": "4eb2bfec-1c9c-4e9e-9bc8-b1446d7ee3e8",
   "metadata": {},
   "outputs": [],
   "source": []
  }
 ],
 "metadata": {
  "kernelspec": {
   "display_name": "Python 3 (ipykernel)",
   "language": "python",
   "name": "python3"
  },
  "language_info": {
   "codemirror_mode": {
    "name": "ipython",
    "version": 3
   },
   "file_extension": ".py",
   "mimetype": "text/x-python",
   "name": "python",
   "nbconvert_exporter": "python",
   "pygments_lexer": "ipython3",
   "version": "3.10.7"
  }
 },
 "nbformat": 4,
 "nbformat_minor": 5
}
