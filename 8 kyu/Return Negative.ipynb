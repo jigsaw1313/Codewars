{
 "cells": [
  {
   "cell_type": "markdown",
   "id": "4c47e9b0-7aaa-4e20-903a-cb688e3d613f",
   "metadata": {},
   "source": [
    "# Return Negative"
   ]
  },
  {
   "cell_type": "markdown",
   "id": "795718a8-b5fb-48ad-a20a-5e7bb4db263a",
   "metadata": {},
   "source": [
    "https://www.codewars.com/kata/55685cd7ad70877c23000102/train/python"
   ]
  },
  {
   "cell_type": "code",
   "execution_count": 3,
   "id": "529d55a1-ecd7-4d00-a385-7c35ecec464b",
   "metadata": {
    "tags": []
   },
   "outputs": [],
   "source": [
    "def make_negative( number ):\n",
    "    return -number if number > 0 else number"
   ]
  },
  {
   "cell_type": "code",
   "execution_count": 4,
   "id": "ee689f2c-a947-4002-b24b-1b0edb0d569d",
   "metadata": {
    "tags": []
   },
   "outputs": [
    {
     "data": {
      "text/plain": [
       "-42"
      ]
     },
     "execution_count": 4,
     "metadata": {},
     "output_type": "execute_result"
    }
   ],
   "source": [
    "make_negative(42)"
   ]
  },
  {
   "cell_type": "markdown",
   "id": "89748c65-3318-4821-a9ec-3b38277fefd8",
   "metadata": {},
   "source": [
    "__________________________"
   ]
  },
  {
   "cell_type": "code",
   "execution_count": 5,
   "id": "514302bc-f758-41b4-93cc-e7e096693eab",
   "metadata": {
    "tags": []
   },
   "outputs": [],
   "source": [
    "def make_negative( number ):\n",
    "    return -abs(number)"
   ]
  },
  {
   "cell_type": "markdown",
   "id": "ab885d03-9e37-4975-b6fe-1350931b2aa4",
   "metadata": {},
   "source": [
    "In Python, abs() is a built-in function that returns the absolute value of a number. The absolute value of a number is the distance between the number and zero on a number line. It is always a positive value.\n",
    "\n",
    "The abs() function takes a single argument, which can be an integer, a floating-point number, or a complex number. If the argument is an integer or a floating-point number, abs() simply returns the absolute value of the number. For example:\n",
    "\n",
    "// print(abs(-5))   # Output: 5    \n",
    "// print(abs(5))    # Output: 5    \n",
    "// print(abs(-3.14)) # Output: 3.14   "
   ]
  },
  {
   "cell_type": "code",
   "execution_count": 7,
   "id": "31ff3727-addd-485e-81c3-0cb0b74f0f20",
   "metadata": {
    "tags": []
   },
   "outputs": [
    {
     "data": {
      "text/plain": [
       "-123"
      ]
     },
     "execution_count": 7,
     "metadata": {},
     "output_type": "execute_result"
    }
   ],
   "source": [
    "# Test of Given Function completed by Others\n",
    "make_negative(123)"
   ]
  },
  {
   "cell_type": "code",
   "execution_count": null,
   "id": "a89f896a-570e-4068-90d3-ee9280a66d60",
   "metadata": {},
   "outputs": [],
   "source": []
  }
 ],
 "metadata": {
  "kernelspec": {
   "display_name": "Python 3 (ipykernel)",
   "language": "python",
   "name": "python3"
  },
  "language_info": {
   "codemirror_mode": {
    "name": "ipython",
    "version": 3
   },
   "file_extension": ".py",
   "mimetype": "text/x-python",
   "name": "python",
   "nbconvert_exporter": "python",
   "pygments_lexer": "ipython3",
   "version": "3.10.7"
  }
 },
 "nbformat": 4,
 "nbformat_minor": 5
}
