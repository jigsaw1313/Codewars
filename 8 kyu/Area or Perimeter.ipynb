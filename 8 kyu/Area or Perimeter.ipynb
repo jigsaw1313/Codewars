{
 "cells": [
  {
   "cell_type": "markdown",
   "id": "71297069-85d6-45c5-ac55-9d4717efd568",
   "metadata": {},
   "source": [
    "# Area or Perimeter\n"
   ]
  },
  {
   "cell_type": "markdown",
   "id": "e971e349-82d2-4657-954c-9361d00e8c5e",
   "metadata": {},
   "source": [
    "https://www.codewars.com/kata/5ab6538b379d20ad880000ab"
   ]
  },
  {
   "cell_type": "code",
   "execution_count": 4,
   "id": "88f6766d-6538-455f-b5d7-90d36d158bbb",
   "metadata": {
    "tags": []
   },
   "outputs": [],
   "source": [
    "def area_or_perimeter(l , w):\n",
    "    return l * w if l == w else (l + w) *2"
   ]
  },
  {
   "cell_type": "code",
   "execution_count": 5,
   "id": "6f746508-bb5e-49c5-82e9-9082cb273796",
   "metadata": {
    "tags": []
   },
   "outputs": [
    {
     "data": {
      "text/plain": [
       "16"
      ]
     },
     "execution_count": 5,
     "metadata": {},
     "output_type": "execute_result"
    }
   ],
   "source": [
    "area_or_perimeter(4, 4)"
   ]
  },
  {
   "cell_type": "code",
   "execution_count": 6,
   "id": "890731bd-de76-4fb4-9809-34469451b72f",
   "metadata": {
    "tags": []
   },
   "outputs": [
    {
     "data": {
      "text/plain": [
       "32"
      ]
     },
     "execution_count": 6,
     "metadata": {},
     "output_type": "execute_result"
    }
   ],
   "source": [
    "area_or_perimeter(6, 10)"
   ]
  },
  {
   "cell_type": "code",
   "execution_count": null,
   "id": "cb882737-d14c-4252-80d1-096bd347f752",
   "metadata": {},
   "outputs": [],
   "source": []
  }
 ],
 "metadata": {
  "kernelspec": {
   "display_name": "Python 3 (ipykernel)",
   "language": "python",
   "name": "python3"
  },
  "language_info": {
   "codemirror_mode": {
    "name": "ipython",
    "version": 3
   },
   "file_extension": ".py",
   "mimetype": "text/x-python",
   "name": "python",
   "nbconvert_exporter": "python",
   "pygments_lexer": "ipython3",
   "version": "3.10.7"
  }
 },
 "nbformat": 4,
 "nbformat_minor": 5
}
