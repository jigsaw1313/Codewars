{
 "cells": [
  {
   "cell_type": "markdown",
   "id": "1ab54f2b-35c2-4ac2-8a18-20d1f4009aba",
   "metadata": {},
   "source": [
    "# Convert boolean values to strings 'Yes' or 'No'."
   ]
  },
  {
   "cell_type": "markdown",
   "id": "524f7b4b-c1df-4ac6-8ff2-1f708d1079c7",
   "metadata": {},
   "source": [
    "https://www.codewars.com/kata/53369039d7ab3ac506000467/train/python"
   ]
  },
  {
   "cell_type": "code",
   "execution_count": 3,
   "id": "4cccf2c5-133d-4e3c-91ab-b96d336a0294",
   "metadata": {
    "tags": []
   },
   "outputs": [],
   "source": [
    "def bool_to_word(boolean):\n",
    "    return 'Yes' if boolean else 'No'"
   ]
  },
  {
   "cell_type": "code",
   "execution_count": 4,
   "id": "78705c2b-ecf4-412d-b5b4-f7d68c775b06",
   "metadata": {
    "tags": []
   },
   "outputs": [
    {
     "data": {
      "text/plain": [
       "'No'"
      ]
     },
     "execution_count": 4,
     "metadata": {},
     "output_type": "execute_result"
    }
   ],
   "source": [
    "bool_to_word(False)"
   ]
  },
  {
   "cell_type": "code",
   "execution_count": 5,
   "id": "73d3a3df-a775-4986-a40d-c648272f9822",
   "metadata": {
    "tags": []
   },
   "outputs": [
    {
     "data": {
      "text/plain": [
       "'Yes'"
      ]
     },
     "execution_count": 5,
     "metadata": {},
     "output_type": "execute_result"
    }
   ],
   "source": [
    "bool_to_word(True)"
   ]
  },
  {
   "cell_type": "code",
   "execution_count": null,
   "id": "23c135f7-404b-46d6-bfac-306b0bf206f2",
   "metadata": {},
   "outputs": [],
   "source": []
  }
 ],
 "metadata": {
  "kernelspec": {
   "display_name": "Python 3 (ipykernel)",
   "language": "python",
   "name": "python3"
  },
  "language_info": {
   "codemirror_mode": {
    "name": "ipython",
    "version": 3
   },
   "file_extension": ".py",
   "mimetype": "text/x-python",
   "name": "python",
   "nbconvert_exporter": "python",
   "pygments_lexer": "ipython3",
   "version": "3.10.7"
  }
 },
 "nbformat": 4,
 "nbformat_minor": 5
}
