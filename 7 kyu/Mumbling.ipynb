{
 "cells": [
  {
   "cell_type": "markdown",
   "id": "ff3b23f9-8772-4352-a48a-5dd4d321efa0",
   "metadata": {},
   "source": [
    "# Mumbling\n"
   ]
  },
  {
   "cell_type": "markdown",
   "id": "111ade6b-2efa-4afd-90d9-72019b5eee8c",
   "metadata": {},
   "source": [
    "https://www.codewars.com/kata/5667e8f4e3f572a8f2000039"
   ]
  },
  {
   "cell_type": "code",
   "execution_count": 1,
   "id": "0371e4c3-be59-42d4-b455-78b3bb8ccf47",
   "metadata": {
    "tags": []
   },
   "outputs": [],
   "source": [
    "def accum(s):\n",
    "    # initialize an empty list to hold the modified substrings\n",
    "    substrings = []\n",
    "\n",
    "    # loop over each character in the input string\n",
    "    for i, c in enumerate(s):\n",
    "        # create the modified substring for this character\n",
    "        substring = c.upper() + c.lower() * i\n",
    "        # add the modified substring to the list\n",
    "        substrings.append(substring)\n",
    "\n",
    "    # join the substrings with \"-\" and return the result\n",
    "    return \"-\".join(substrings)"
   ]
  },
  {
   "cell_type": "code",
   "execution_count": 2,
   "id": "fab71fba-fc36-478d-ab0d-461f3fbfeb88",
   "metadata": {
    "tags": []
   },
   "outputs": [
    {
     "data": {
      "text/plain": [
       "'A-Bb-Ccc-Dddd'"
      ]
     },
     "execution_count": 2,
     "metadata": {},
     "output_type": "execute_result"
    }
   ],
   "source": [
    "accum('abcd')"
   ]
  },
  {
   "cell_type": "code",
   "execution_count": 3,
   "id": "b2d09b0e-4712-4331-8ea8-aea2b9c22e02",
   "metadata": {
    "tags": []
   },
   "outputs": [
    {
     "data": {
      "text/plain": [
       "'M-Jj-Ttt-Kkkk-Uuuuu-Bbbbbb-Ooooooo-Vvvvvvvv-Qqqqqqqqq-Rrrrrrrrrr-Uuuuuuuuuuu'"
      ]
     },
     "execution_count": 3,
     "metadata": {},
     "output_type": "execute_result"
    }
   ],
   "source": [
    "accum('MjtkuBovqrU')"
   ]
  },
  {
   "cell_type": "markdown",
   "id": "5ab42a8e-0e4e-4e4d-89dd-a0acc5bccfa5",
   "metadata": {},
   "source": [
    "________________________________"
   ]
  },
  {
   "cell_type": "code",
   "execution_count": 6,
   "id": "d90daf47-baac-4987-abc4-a7d012f9b774",
   "metadata": {
    "tags": []
   },
   "outputs": [],
   "source": [
    "#1 \n",
    "def accum(s):\n",
    "    return '-'.join(c.upper() + c.lower() * i for i, c in enumerate(s))"
   ]
  },
  {
   "cell_type": "code",
   "execution_count": 7,
   "id": "f2ece978-f117-42d3-b02c-093c2b466c96",
   "metadata": {
    "tags": []
   },
   "outputs": [],
   "source": [
    "# 2\n",
    "def accum(s):\n",
    "    return '-'.join((a * i).title() for i, a in enumerate(s, 1))"
   ]
  },
  {
   "cell_type": "code",
   "execution_count": null,
   "id": "a4629582-dae8-4cfa-9257-8c338d19944a",
   "metadata": {},
   "outputs": [],
   "source": []
  }
 ],
 "metadata": {
  "kernelspec": {
   "display_name": "Python 3 (ipykernel)",
   "language": "python",
   "name": "python3"
  },
  "language_info": {
   "codemirror_mode": {
    "name": "ipython",
    "version": 3
   },
   "file_extension": ".py",
   "mimetype": "text/x-python",
   "name": "python",
   "nbconvert_exporter": "python",
   "pygments_lexer": "ipython3",
   "version": "3.10.7"
  }
 },
 "nbformat": 4,
 "nbformat_minor": 5
}
