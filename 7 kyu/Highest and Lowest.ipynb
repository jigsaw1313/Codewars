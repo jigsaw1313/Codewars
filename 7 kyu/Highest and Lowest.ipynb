{
 "cells": [
  {
   "cell_type": "markdown",
   "id": "48a3394f-d602-4a33-bd67-3e75b59afb0a",
   "metadata": {},
   "source": [
    "# Highest and Lowest"
   ]
  },
  {
   "cell_type": "markdown",
   "id": "484b3fa0-5636-41a8-9368-36eefd8f8e67",
   "metadata": {},
   "source": [
    "https://www.codewars.com/kata/554b4ac871d6813a03000035/train/python"
   ]
  },
  {
   "cell_type": "code",
   "execution_count": 8,
   "id": "4fa5fdcd-79d1-4cf8-bdbb-85bb30517789",
   "metadata": {
    "tags": []
   },
   "outputs": [],
   "source": [
    "def high_and_low(numbers):\n",
    "    nums = [int(num) for num in numbers.split(' ')]\n",
    "    highest = max(nums)\n",
    "    lowest = min(nums)\n",
    "    return f\"{str(highest)} {str(lowest)}\""
   ]
  },
  {
   "cell_type": "code",
   "execution_count": 9,
   "id": "4ba97806-9726-4bb5-92c9-55389cd8c86a",
   "metadata": {
    "tags": []
   },
   "outputs": [
    {
     "data": {
      "text/plain": [
       "'42 -9'"
      ]
     },
     "execution_count": 9,
     "metadata": {},
     "output_type": "execute_result"
    }
   ],
   "source": [
    "high_and_low(\"8 3 -5 42 -1 0 0 -9 4 7 4 -4\")"
   ]
  },
  {
   "cell_type": "markdown",
   "id": "5ab50702-3ea1-4a76-a4df-21c08ad0265f",
   "metadata": {},
   "source": [
    "_______"
   ]
  },
  {
   "cell_type": "code",
   "execution_count": 11,
   "id": "15ee08ae-3bc7-4d25-9d2b-b5e497f8fe9b",
   "metadata": {
    "tags": []
   },
   "outputs": [],
   "source": [
    "# 1 \n",
    "def high_and_low(numbers): #z.\n",
    "    nn = [int(s) for s in numbers.split(\" \")]\n",
    "    return \"%i %i\" % (max(nn),min(nn))"
   ]
  }
 ],
 "metadata": {
  "kernelspec": {
   "display_name": "Python 3 (ipykernel)",
   "language": "python",
   "name": "python3"
  },
  "language_info": {
   "codemirror_mode": {
    "name": "ipython",
    "version": 3
   },
   "file_extension": ".py",
   "mimetype": "text/x-python",
   "name": "python",
   "nbconvert_exporter": "python",
   "pygments_lexer": "ipython3",
   "version": "3.10.7"
  }
 },
 "nbformat": 4,
 "nbformat_minor": 5
}
