{
 "cells": [
  {
   "cell_type": "markdown",
   "id": "d8a5a261-fb04-4579-8c68-1abd02a473bf",
   "metadata": {},
   "source": [
    "# Digit*Digit"
   ]
  },
  {
   "cell_type": "markdown",
   "id": "1707fec7-3696-41b6-bb54-8c93c2f70845",
   "metadata": {},
   "source": [
    "https://www.codewars.com/kata/546e2562b03326a88e000020/train/python"
   ]
  },
  {
   "cell_type": "code",
   "execution_count": 30,
   "id": "99fce93a-ddf5-4211-82c5-491aab48ca95",
   "metadata": {
    "tags": []
   },
   "outputs": [],
   "source": [
    "import math\n",
    "def square_digits(num):\n",
    "    tmp = ''\n",
    "    for i in str(num):\n",
    "        x = int(i) * int(i)\n",
    "        tmp += str(x)\n",
    "    return int(tmp)"
   ]
  },
  {
   "cell_type": "code",
   "execution_count": 31,
   "id": "42dc923d-8807-4298-b983-a811dd45707f",
   "metadata": {
    "tags": []
   },
   "outputs": [
    {
     "data": {
      "text/plain": [
       "811181"
      ]
     },
     "execution_count": 31,
     "metadata": {},
     "output_type": "execute_result"
    }
   ],
   "source": [
    "square_digits(9119)"
   ]
  },
  {
   "cell_type": "code",
   "execution_count": 32,
   "id": "d52e3e55-c8cd-4cee-b609-8db15dbdaf60",
   "metadata": {
    "tags": []
   },
   "outputs": [
    {
     "data": {
      "text/plain": [
       "0"
      ]
     },
     "execution_count": 32,
     "metadata": {},
     "output_type": "execute_result"
    }
   ],
   "source": [
    "square_digits(0)"
   ]
  },
  {
   "cell_type": "markdown",
   "id": "55739eed-f797-4811-9e76-647808664762",
   "metadata": {},
   "source": [
    "______________________________________"
   ]
  },
  {
   "cell_type": "code",
   "execution_count": 34,
   "id": "b59b118d-beba-4257-bf80-bb4fc46b427a",
   "metadata": {
    "tags": []
   },
   "outputs": [],
   "source": [
    "# 1\n",
    "def square_digits(num):\n",
    "    ret = \"\"\n",
    "    for x in str(num):\n",
    "        ret += str(int(x)**2)\n",
    "    return int(ret)"
   ]
  },
  {
   "cell_type": "code",
   "execution_count": 36,
   "id": "4d13fc79-193b-4e39-b0dc-33ceaddadd86",
   "metadata": {
    "tags": []
   },
   "outputs": [],
   "source": [
    "# 2\n",
    "def square_digits(num):\n",
    "    return int(''.join(str(int(d)**2) for d in str(num)))"
   ]
  },
  {
   "cell_type": "code",
   "execution_count": null,
   "id": "5aa28136-a3da-413b-8281-abff9caa178a",
   "metadata": {},
   "outputs": [],
   "source": []
  }
 ],
 "metadata": {
  "kernelspec": {
   "display_name": "Python 3 (ipykernel)",
   "language": "python",
   "name": "python3"
  },
  "language_info": {
   "codemirror_mode": {
    "name": "ipython",
    "version": 3
   },
   "file_extension": ".py",
   "mimetype": "text/x-python",
   "name": "python",
   "nbconvert_exporter": "python",
   "pygments_lexer": "ipython3",
   "version": "3.10.7"
  }
 },
 "nbformat": 4,
 "nbformat_minor": 5
}
