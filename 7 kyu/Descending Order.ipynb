{
 "cells": [
  {
   "cell_type": "markdown",
   "id": "951e006b-0100-4614-8e04-dee0138fefe7",
   "metadata": {},
   "source": [
    "# Descending Order"
   ]
  },
  {
   "cell_type": "markdown",
   "id": "7c7f2fa5-461b-40db-8c14-632615ef0745",
   "metadata": {},
   "source": [
    "https://www.codewars.com/kata/5467e4d82edf8bbf40000155/train/python"
   ]
  },
  {
   "cell_type": "code",
   "execution_count": 63,
   "id": "f33b0da9-7b2b-474f-83af-749ed7c402e0",
   "metadata": {
    "tags": []
   },
   "outputs": [],
   "source": [
    "def Descending_Order(num):\n",
    "    return int(\"\".join(sorted(str(num), reverse=True)))"
   ]
  },
  {
   "cell_type": "code",
   "execution_count": 64,
   "id": "90ffc7ec-778d-4cff-a7f3-d1887aaabe69",
   "metadata": {
    "tags": []
   },
   "outputs": [
    {
     "data": {
      "text/plain": [
       "987654321"
      ]
     },
     "execution_count": 64,
     "metadata": {},
     "output_type": "execute_result"
    }
   ],
   "source": [
    "descending_order(123456789)"
   ]
  },
  {
   "cell_type": "markdown",
   "id": "5d4a64ab-39c9-466f-9f77-0865b8c0d893",
   "metadata": {},
   "source": [
    "______________\n"
   ]
  }
 ],
 "metadata": {
  "kernelspec": {
   "display_name": "Python 3 (ipykernel)",
   "language": "python",
   "name": "python3"
  },
  "language_info": {
   "codemirror_mode": {
    "name": "ipython",
    "version": 3
   },
   "file_extension": ".py",
   "mimetype": "text/x-python",
   "name": "python",
   "nbconvert_exporter": "python",
   "pygments_lexer": "ipython3",
   "version": "3.10.7"
  }
 },
 "nbformat": 4,
 "nbformat_minor": 5
}
