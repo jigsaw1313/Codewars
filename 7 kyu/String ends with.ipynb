{
 "cells": [
  {
   "cell_type": "markdown",
   "id": "c988cd20-9f92-4c09-9bf0-5287f2f62b72",
   "metadata": {},
   "source": [
    "# String ends with"
   ]
  },
  {
   "cell_type": "markdown",
   "id": "11ec6dd4-7571-4610-a9ea-a8cca7947a59",
   "metadata": {},
   "source": [
    "https://www.codewars.com/kata/51f2d1cafc9c0f745c00037d/solutions/python"
   ]
  },
  {
   "cell_type": "code",
   "execution_count": 1,
   "id": "526ee008-6f6c-412b-8354-5c1b18394b71",
   "metadata": {
    "tags": []
   },
   "outputs": [],
   "source": [
    "def solution(string, ending):\n",
    "    return string.endswith(ending)"
   ]
  },
  {
   "cell_type": "code",
   "execution_count": null,
   "id": "8ee34870-18bc-4b38-b5e3-c52eb4c1a9ef",
   "metadata": {},
   "outputs": [],
   "source": []
  }
 ],
 "metadata": {
  "kernelspec": {
   "display_name": "Python 3 (ipykernel)",
   "language": "python",
   "name": "python3"
  },
  "language_info": {
   "codemirror_mode": {
    "name": "ipython",
    "version": 3
   },
   "file_extension": ".py",
   "mimetype": "text/x-python",
   "name": "python",
   "nbconvert_exporter": "python",
   "pygments_lexer": "ipython3",
   "version": "3.10.7"
  }
 },
 "nbformat": 4,
 "nbformat_minor": 5
}
