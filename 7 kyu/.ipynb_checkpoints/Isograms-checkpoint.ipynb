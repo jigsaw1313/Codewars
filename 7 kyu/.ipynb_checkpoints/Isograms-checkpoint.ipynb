{
 "cells": [
  {
   "cell_type": "markdown",
   "id": "a8931efc-9b0a-4032-b6c0-00ace3a636f9",
   "metadata": {},
   "source": [
    "# Isograms"
   ]
  },
  {
   "cell_type": "markdown",
   "id": "2d593d55-a2b6-4168-b1c7-504588ccceec",
   "metadata": {
    "tags": []
   },
   "source": [
    "https://www.codewars.com/kata/54ba84be607a92aa900000f1/solutions/python"
   ]
  },
  {
   "cell_type": "code",
   "execution_count": 2,
   "id": "4d532f31-52cd-49b2-abbd-bf01dbb461f5",
   "metadata": {
    "tags": []
   },
   "outputs": [],
   "source": [
    "def is_isogram(word):\n",
    "    clean_word = word.lower()\n",
    "    letter_list = []\n",
    "    for letter in clean_word:\n",
    "        if letter.isalpha():\n",
    "            if letter in letter_list:\n",
    "                return False\n",
    "            letter_list.append(letter)\n",
    "    return True\n"
   ]
  },
  {
   "cell_type": "markdown",
   "id": "cd2ddfd2-e2cd-4faa-92dd-3fb1a115d516",
   "metadata": {},
   "source": [
    "------------------"
   ]
  },
  {
   "cell_type": "code",
   "execution_count": 3,
   "id": "1a7cbe04-f7de-4d82-a430-aaf5ad83317b",
   "metadata": {
    "tags": []
   },
   "outputs": [],
   "source": [
    "def is_isogram(string):\n",
    "    return len(string) == len(set(string.lower()))"
   ]
  },
  {
   "cell_type": "code",
   "execution_count": null,
   "id": "78df82ba-edb8-4ff3-ac17-148e8b999b07",
   "metadata": {},
   "outputs": [],
   "source": []
  }
 ],
 "metadata": {
  "kernelspec": {
   "display_name": "Python 3 (ipykernel)",
   "language": "python",
   "name": "python3"
  },
  "language_info": {
   "codemirror_mode": {
    "name": "ipython",
    "version": 3
   },
   "file_extension": ".py",
   "mimetype": "text/x-python",
   "name": "python",
   "nbconvert_exporter": "python",
   "pygments_lexer": "ipython3",
   "version": "3.10.7"
  }
 },
 "nbformat": 4,
 "nbformat_minor": 5
}
