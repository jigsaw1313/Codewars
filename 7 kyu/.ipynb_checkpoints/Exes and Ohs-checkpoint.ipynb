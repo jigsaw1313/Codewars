{
 "cells": [
  {
   "cell_type": "markdown",
   "id": "ba6313dd-1557-4f57-970c-716a59441438",
   "metadata": {},
   "source": [
    "# Exes and Ohs"
   ]
  },
  {
   "cell_type": "markdown",
   "id": "d880110b-b56d-49ec-b4b3-0ae3f76d555a",
   "metadata": {},
   "source": [
    "https://www.codewars.com/kata/55908aad6620c066bc00002a/train/python"
   ]
  },
  {
   "cell_type": "code",
   "execution_count": 5,
   "id": "d21e82ba-6632-4e2e-a6a9-1f30e6ba1886",
   "metadata": {
    "tags": []
   },
   "outputs": [],
   "source": [
    "def xo(s):\n",
    "    # Convert the string to lowercase\n",
    "    s = s.lower()\n",
    "    # Count the number of 'x's and 'o's in the string\n",
    "    count_x = s.count('x')\n",
    "    count_o = s.count('o')\n",
    "    # Compare the counts and return True if they are equal, False otherwise\n",
    "    return count_x == count_o"
   ]
  },
  {
   "cell_type": "code",
   "execution_count": 7,
   "id": "3bde6bf1-4173-4b5c-9b83-dd061b0d8e8e",
   "metadata": {
    "tags": []
   },
   "outputs": [
    {
     "data": {
      "text/plain": [
       "True"
      ]
     },
     "execution_count": 7,
     "metadata": {},
     "output_type": "execute_result"
    }
   ],
   "source": [
    "xo('ooxx')"
   ]
  },
  {
   "cell_type": "code",
   "execution_count": 8,
   "id": "ffa6b1f5-0fce-4be5-8934-96564933c9f2",
   "metadata": {
    "tags": []
   },
   "outputs": [
    {
     "data": {
      "text/plain": [
       "False"
      ]
     },
     "execution_count": 8,
     "metadata": {},
     "output_type": "execute_result"
    }
   ],
   "source": [
    "xo(\"xooxx\")"
   ]
  },
  {
   "cell_type": "code",
   "execution_count": 9,
   "id": "4b0d61b4-e5d1-47e7-a2f4-b5e4fe6f91f2",
   "metadata": {
    "tags": []
   },
   "outputs": [
    {
     "data": {
      "text/plain": [
       "True"
      ]
     },
     "execution_count": 9,
     "metadata": {},
     "output_type": "execute_result"
    }
   ],
   "source": [
    "xo('oxOx')"
   ]
  },
  {
   "cell_type": "markdown",
   "id": "c2b28f58-51c3-4286-b295-3690caae23a0",
   "metadata": {},
   "source": [
    "______________________________"
   ]
  },
  {
   "cell_type": "code",
   "execution_count": 10,
   "id": "3417872a-4f0f-4fdc-ad69-cb456cc460bf",
   "metadata": {
    "tags": []
   },
   "outputs": [],
   "source": [
    "def xo(s):\n",
    "    s = s.lower()\n",
    "    return s.count('x') == s.count('o')"
   ]
  },
  {
   "cell_type": "code",
   "execution_count": 11,
   "id": "698c0b8c-ddd0-4059-873e-ed1cdaba7fcf",
   "metadata": {
    "tags": []
   },
   "outputs": [],
   "source": [
    "def xo(s):\n",
    "    return s.lower().count('x') == s.lower().count('o')"
   ]
  },
  {
   "cell_type": "code",
   "execution_count": null,
   "id": "0d1f69c0-455e-46c3-a4ae-077212f8d76a",
   "metadata": {},
   "outputs": [],
   "source": []
  }
 ],
 "metadata": {
  "kernelspec": {
   "display_name": "Python 3 (ipykernel)",
   "language": "python",
   "name": "python3"
  },
  "language_info": {
   "codemirror_mode": {
    "name": "ipython",
    "version": 3
   },
   "file_extension": ".py",
   "mimetype": "text/x-python",
   "name": "python",
   "nbconvert_exporter": "python",
   "pygments_lexer": "ipython3",
   "version": "3.10.7"
  }
 },
 "nbformat": 4,
 "nbformat_minor": 5
}
