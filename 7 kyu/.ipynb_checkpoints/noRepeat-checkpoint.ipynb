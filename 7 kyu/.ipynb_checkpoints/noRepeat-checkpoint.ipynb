{
 "cells": [
  {
   "cell_type": "markdown",
   "id": "766e43d5-f825-4d80-8248-17c15d6e074f",
   "metadata": {},
   "source": [
    "# noRepeat"
   ]
  },
  {
   "cell_type": "markdown",
   "id": "da1fe3a6-62fb-460f-bf7d-dad45209d1ba",
   "metadata": {},
   "source": [
    "https://www.codewars.com/kata/586566b773bd9cbe2b000013/python"
   ]
  },
  {
   "cell_type": "code",
   "execution_count": 38,
   "id": "35118a37-5887-440a-a74f-b9a601c708dd",
   "metadata": {
    "tags": []
   },
   "outputs": [],
   "source": [
    "def no_repeat(string):\n",
    "    for ch in string:\n",
    "        if string.count(ch) == 1:\n",
    "            return ch\n",
    "        "
   ]
  },
  {
   "cell_type": "code",
   "execution_count": 39,
   "id": "963ba27e-c425-4779-8b65-a3f2db90d0a8",
   "metadata": {
    "tags": []
   },
   "outputs": [
    {
     "data": {
      "text/plain": [
       "'e'"
      ]
     },
     "execution_count": 39,
     "metadata": {},
     "output_type": "execute_result"
    }
   ],
   "source": [
    "no_repeat(\"aabbccdde\")"
   ]
  },
  {
   "cell_type": "code",
   "execution_count": 40,
   "id": "e7815850-ba21-44f8-a36f-b5ed23b1113e",
   "metadata": {
    "tags": []
   },
   "outputs": [
    {
     "data": {
      "text/plain": [
       "'w'"
      ]
     },
     "execution_count": 40,
     "metadata": {},
     "output_type": "execute_result"
    }
   ],
   "source": [
    "no_repeat(\"wxyz\")"
   ]
  },
  {
   "cell_type": "code",
   "execution_count": 41,
   "id": "49a6330b-b18b-4f60-95d3-b3654104bdca",
   "metadata": {
    "tags": []
   },
   "outputs": [
    {
     "data": {
      "text/plain": [
       "'T'"
      ]
     },
     "execution_count": 41,
     "metadata": {},
     "output_type": "execute_result"
    }
   ],
   "source": [
    "no_repeat(\"Testing\")"
   ]
  },
  {
   "cell_type": "markdown",
   "id": "0b927f43-d654-4922-8e1c-aa041260b502",
   "metadata": {},
   "source": [
    "_____________________"
   ]
  },
  {
   "cell_type": "code",
   "execution_count": 42,
   "id": "1783b32f-d1a9-4d38-bbcb-83450a7659de",
   "metadata": {
    "tags": []
   },
   "outputs": [],
   "source": [
    "def no_repeat(string):\n",
    "    return [x for x in string if string.count(x) == 1][0]"
   ]
  },
  {
   "cell_type": "code",
   "execution_count": 43,
   "id": "fb6b609c-6aee-4959-98e7-bc9711104038",
   "metadata": {
    "tags": []
   },
   "outputs": [],
   "source": [
    "def no_repeat(s):\n",
    "    return next(c for c in s if s.count(c) == 1)"
   ]
  },
  {
   "cell_type": "code",
   "execution_count": null,
   "id": "d767160d-de22-4a14-850a-4f7fd3a49c13",
   "metadata": {},
   "outputs": [],
   "source": []
  }
 ],
 "metadata": {
  "kernelspec": {
   "display_name": "Python 3 (ipykernel)",
   "language": "python",
   "name": "python3"
  },
  "language_info": {
   "codemirror_mode": {
    "name": "ipython",
    "version": 3
   },
   "file_extension": ".py",
   "mimetype": "text/x-python",
   "name": "python",
   "nbconvert_exporter": "python",
   "pygments_lexer": "ipython3",
   "version": "3.10.7"
  }
 },
 "nbformat": 4,
 "nbformat_minor": 5
}
