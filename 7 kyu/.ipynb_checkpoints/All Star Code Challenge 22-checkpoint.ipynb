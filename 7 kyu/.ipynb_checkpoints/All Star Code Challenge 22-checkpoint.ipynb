{
 "cells": [
  {
   "cell_type": "markdown",
   "id": "d59746af-b24f-449b-950e-42367eab0b46",
   "metadata": {},
   "source": [
    "# All Star Code Challenge #22"
   ]
  },
  {
   "cell_type": "markdown",
   "id": "a4ead218-ec72-4c5a-b2d0-114333b9e053",
   "metadata": {},
   "source": [
    "https://www.codewars.com/kata/5865cff66b5699883f0001aa/train/python"
   ]
  },
  {
   "cell_type": "code",
   "execution_count": 5,
   "id": "e6d64a87-b10f-41e5-ac4e-34b355a47515",
   "metadata": {
    "tags": []
   },
   "outputs": [],
   "source": [
    "def to_time(seconds):\n",
    "    hours = seconds // 3600\n",
    "    minutes = (seconds % 3600) // 60\n",
    "\n",
    "    return f\"{hours} hour(s) and {minutes} minute(s)\"\n"
   ]
  },
  {
   "cell_type": "code",
   "execution_count": 6,
   "id": "844c89d0-1ca3-4b5d-a3d9-79421db590f3",
   "metadata": {
    "tags": []
   },
   "outputs": [
    {
     "data": {
      "text/plain": [
       "'1 hour(s) and 0 minute(s)'"
      ]
     },
     "execution_count": 6,
     "metadata": {},
     "output_type": "execute_result"
    }
   ],
   "source": [
    "to_time(3600)"
   ]
  },
  {
   "cell_type": "code",
   "execution_count": 7,
   "id": "b053017b-4600-405d-aace-d676648e472b",
   "metadata": {
    "tags": []
   },
   "outputs": [
    {
     "data": {
      "text/plain": [
       "'89 hour(s) and 51 minute(s)'"
      ]
     },
     "execution_count": 7,
     "metadata": {},
     "output_type": "execute_result"
    }
   ],
   "source": [
    "to_time(323500)"
   ]
  },
  {
   "cell_type": "markdown",
   "id": "c80f1ee2-f79d-4480-83f3-827d99bc6421",
   "metadata": {},
   "source": [
    "__________________"
   ]
  },
  {
   "cell_type": "code",
   "execution_count": 8,
   "id": "139726c1-e20e-41c0-a6a4-0ed355e8439b",
   "metadata": {
    "tags": []
   },
   "outputs": [],
   "source": [
    "def to_time(seconds):\n",
    "    return f'{seconds//3600} hour(s) and {(seconds//60)%60} minute(s)'"
   ]
  },
  {
   "cell_type": "code",
   "execution_count": null,
   "id": "e0cb59e3-82ac-4542-b74b-e7aacd8e2fd5",
   "metadata": {},
   "outputs": [],
   "source": []
  }
 ],
 "metadata": {
  "kernelspec": {
   "display_name": "Python 3 (ipykernel)",
   "language": "python",
   "name": "python3"
  },
  "language_info": {
   "codemirror_mode": {
    "name": "ipython",
    "version": 3
   },
   "file_extension": ".py",
   "mimetype": "text/x-python",
   "name": "python",
   "nbconvert_exporter": "python",
   "pygments_lexer": "ipython3",
   "version": "3.10.7"
  }
 },
 "nbformat": 4,
 "nbformat_minor": 5
}
