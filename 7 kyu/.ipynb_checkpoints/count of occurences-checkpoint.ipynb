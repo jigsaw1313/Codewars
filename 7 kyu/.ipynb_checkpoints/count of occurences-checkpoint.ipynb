{
 "cells": [
  {
   "cell_type": "markdown",
   "id": "7a52cb74-95da-4610-8642-a95aefafdc43",
   "metadata": {},
   "source": [
    "# Count of Occurences"
   ]
  },
  {
   "cell_type": "markdown",
   "id": "da8046e4-87b5-407d-a250-ada9aaf6122d",
   "metadata": {},
   "source": [
    "https://www.codewars.com/kata/5865918c6b569962950002a1/train/python"
   ]
  },
  {
   "cell_type": "code",
   "execution_count": 3,
   "id": "6d1ea67d-c5dc-4177-a23a-7844391b209b",
   "metadata": {
    "tags": []
   },
   "outputs": [],
   "source": [
    "def str_count(strng, letter):\n",
    "    count = 0 \n",
    "    for ch in strng:\n",
    "        if ch == letter:\n",
    "            count += 1\n",
    "    return count"
   ]
  },
  {
   "cell_type": "code",
   "execution_count": 5,
   "id": "04333cb2-d890-4749-b512-75086d3e94e8",
   "metadata": {
    "tags": []
   },
   "outputs": [
    {
     "data": {
      "text/plain": [
       "2"
      ]
     },
     "execution_count": 5,
     "metadata": {},
     "output_type": "execute_result"
    }
   ],
   "source": [
    "str_count('hello', 'l')"
   ]
  },
  {
   "cell_type": "code",
   "execution_count": 6,
   "id": "59985638-14a9-4fcb-b2ae-1fe791026077",
   "metadata": {
    "tags": []
   },
   "outputs": [
    {
     "data": {
      "text/plain": [
       "1"
      ]
     },
     "execution_count": 6,
     "metadata": {},
     "output_type": "execute_result"
    }
   ],
   "source": [
    "str_count('hello', 'e')"
   ]
  },
  {
   "cell_type": "code",
   "execution_count": 7,
   "id": "9806dfbe-2c40-4209-bca1-7737ec92e50b",
   "metadata": {
    "tags": []
   },
   "outputs": [
    {
     "data": {
      "text/plain": [
       "5"
      ]
     },
     "execution_count": 7,
     "metadata": {},
     "output_type": "execute_result"
    }
   ],
   "source": [
    "str_count('ggggg', 'g')"
   ]
  },
  {
   "cell_type": "markdown",
   "id": "49eabed0-bb39-4028-90ed-32407950d2a8",
   "metadata": {},
   "source": [
    "_________________________________________________________________\n"
   ]
  },
  {
   "cell_type": "code",
   "execution_count": 8,
   "id": "cd7a333f-50b6-49d3-832d-bc4b42578595",
   "metadata": {
    "tags": []
   },
   "outputs": [],
   "source": [
    "# 1\n",
    "def strCount(string, letter):\n",
    "    return string.count(letter)"
   ]
  },
  {
   "cell_type": "code",
   "execution_count": null,
   "id": "260b8456-fd4c-4a6c-99eb-bb0ea811db8b",
   "metadata": {},
   "outputs": [],
   "source": []
  }
 ],
 "metadata": {
  "kernelspec": {
   "display_name": "Python 3 (ipykernel)",
   "language": "python",
   "name": "python3"
  },
  "language_info": {
   "codemirror_mode": {
    "name": "ipython",
    "version": 3
   },
   "file_extension": ".py",
   "mimetype": "text/x-python",
   "name": "python",
   "nbconvert_exporter": "python",
   "pygments_lexer": "ipython3",
   "version": "3.10.7"
  }
 },
 "nbformat": 4,
 "nbformat_minor": 5
}
