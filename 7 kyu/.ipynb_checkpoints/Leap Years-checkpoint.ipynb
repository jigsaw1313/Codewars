{
 "cells": [
  {
   "cell_type": "markdown",
   "id": "674ba044-e711-43f3-962e-3b29f2fd5235",
   "metadata": {},
   "source": [
    "# Leap Years\n"
   ]
  },
  {
   "cell_type": "markdown",
   "id": "0d8a207e-a64d-4b8f-b3e9-a36a0c45f3cd",
   "metadata": {},
   "source": [
    "https://www.codewars.com/kata/526c7363236867513f0005ca"
   ]
  },
  {
   "cell_type": "code",
   "execution_count": 2,
   "id": "308525f5-cf75-42a5-82d5-1669ab65bad7",
   "metadata": {
    "tags": []
   },
   "outputs": [],
   "source": [
    "def isLeapYear(year):\n",
    "    if year % 4 == 0:\n",
    "        if year % 100 == 0:\n",
    "            if year % 400 == 0:\n",
    "                return True\n",
    "            else:\n",
    "                return False\n",
    "        else:\n",
    "            return True\n",
    "    else:\n",
    "        return False"
   ]
  },
  {
   "cell_type": "code",
   "execution_count": 3,
   "id": "3d937f48-d8de-4206-8340-ca2ed1e6d2df",
   "metadata": {
    "tags": []
   },
   "outputs": [
    {
     "data": {
      "text/plain": [
       "False"
      ]
     },
     "execution_count": 3,
     "metadata": {},
     "output_type": "execute_result"
    }
   ],
   "source": [
    "isLeapYear(1234)"
   ]
  },
  {
   "cell_type": "code",
   "execution_count": 4,
   "id": "a976f052-f6d1-4904-ae9f-b91f37797a79",
   "metadata": {
    "tags": []
   },
   "outputs": [
    {
     "data": {
      "text/plain": [
       "False"
      ]
     },
     "execution_count": 4,
     "metadata": {},
     "output_type": "execute_result"
    }
   ],
   "source": [
    "isLeapYear(1100)"
   ]
  },
  {
   "cell_type": "code",
   "execution_count": 5,
   "id": "b4a6c598-8708-4224-b51d-d4bc063479a0",
   "metadata": {
    "tags": []
   },
   "outputs": [
    {
     "data": {
      "text/plain": [
       "True"
      ]
     },
     "execution_count": 5,
     "metadata": {},
     "output_type": "execute_result"
    }
   ],
   "source": [
    "isLeapYear(2000)"
   ]
  },
  {
   "cell_type": "code",
   "execution_count": 6,
   "id": "efe05aec-90c8-40e7-bfb5-e232ff1a4049",
   "metadata": {
    "tags": []
   },
   "outputs": [
    {
     "data": {
      "text/plain": [
       "True"
      ]
     },
     "execution_count": 6,
     "metadata": {},
     "output_type": "execute_result"
    }
   ],
   "source": [
    "isLeapYear(1984)"
   ]
  },
  {
   "cell_type": "markdown",
   "id": "af3206b9-e138-4560-9e37-2be4b9f4dd71",
   "metadata": {},
   "source": [
    "___"
   ]
  },
  {
   "cell_type": "code",
   "execution_count": 7,
   "id": "f631117c-b5b1-4122-a11b-2f94b07ba3c7",
   "metadata": {
    "tags": []
   },
   "outputs": [],
   "source": [
    "def isLeapYear(year):\n",
    "    return year % 4 == 0 and year % 100 != 0 or year % 400 == 0"
   ]
  },
  {
   "cell_type": "markdown",
   "id": "4457f6cf-5fe0-446b-8a9d-ee4a29f0d390",
   "metadata": {
    "tags": []
   },
   "source": [
    "___"
   ]
  },
  {
   "cell_type": "code",
   "execution_count": 9,
   "id": "58678891-e3be-4ed0-ae39-17a804ff0860",
   "metadata": {
    "tags": []
   },
   "outputs": [
    {
     "data": {
      "text/plain": [
       "True"
      ]
     },
     "execution_count": 9,
     "metadata": {},
     "output_type": "execute_result"
    }
   ],
   "source": [
    "from calendar import isleap as isLeapYear\n",
    "isLeapYear(2000)"
   ]
  },
  {
   "cell_type": "code",
   "execution_count": null,
   "id": "0c3595e0-f4b3-45b8-8891-7a9e318e5d41",
   "metadata": {},
   "outputs": [],
   "source": []
  }
 ],
 "metadata": {
  "kernelspec": {
   "display_name": "Python 3 (ipykernel)",
   "language": "python",
   "name": "python3"
  },
  "language_info": {
   "codemirror_mode": {
    "name": "ipython",
    "version": 3
   },
   "file_extension": ".py",
   "mimetype": "text/x-python",
   "name": "python",
   "nbconvert_exporter": "python",
   "pygments_lexer": "ipython3",
   "version": "3.10.7"
  }
 },
 "nbformat": 4,
 "nbformat_minor": 5
}
