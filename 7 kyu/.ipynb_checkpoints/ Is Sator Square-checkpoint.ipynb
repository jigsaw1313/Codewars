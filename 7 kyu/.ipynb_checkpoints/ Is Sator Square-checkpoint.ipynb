{
 "cells": [
  {
   "cell_type": "markdown",
   "id": "6e1fbc9a-f5bf-4c08-97cd-0dae9f400fee",
   "metadata": {},
   "source": [
    "# Is Sator Square"
   ]
  },
  {
   "cell_type": "markdown",
   "id": "a5aee4b8-2e29-4ccc-b1df-57ce223bdf2d",
   "metadata": {},
   "source": [
    "https://www.codewars.com/kata/5cb7baa989b1c50014a53333/solutions"
   ]
  },
  {
   "cell_type": "code",
   "execution_count": 10,
   "id": "aff08086-45a5-40ee-bf43-e509856bc21e",
   "metadata": {
    "tags": []
   },
   "outputs": [],
   "source": [
    "def is_sator_square(tablet):\n",
    "    return tablet == [t[::-1] for t in tablet][::-1] == list(map(list, zip(*tablet)))"
   ]
  },
  {
   "cell_type": "code",
   "execution_count": 11,
   "id": "7d8abcfe-470c-4aec-b478-712674a94767",
   "metadata": {
    "tags": []
   },
   "outputs": [
    {
     "data": {
      "text/plain": [
       "True"
      ]
     },
     "execution_count": 11,
     "metadata": {},
     "output_type": "execute_result"
    }
   ],
   "source": [
    "is_sator_square([['T', 'E', 'N'],\n",
    "                  ['E', 'Y', 'E'],\n",
    "                  ['N', 'E', 'T']])"
   ]
  },
  {
   "cell_type": "code",
   "execution_count": 12,
   "id": "66b3ce82-aa36-441e-b681-7719f3cd50e7",
   "metadata": {
    "tags": []
   },
   "outputs": [
    {
     "data": {
      "text/plain": [
       "False"
      ]
     },
     "execution_count": 12,
     "metadata": {},
     "output_type": "execute_result"
    }
   ],
   "source": [
    "is_sator_square([['N', 'O', 'T'],\n",
    "                  ['O', 'V', 'O'],\n",
    "                  ['N', 'O', 'T']])"
   ]
  },
  {
   "cell_type": "code",
   "execution_count": 13,
   "id": "a5f82880-1155-4ac0-99f6-766efc94d09c",
   "metadata": {
    "tags": []
   },
   "outputs": [
    {
     "data": {
      "text/plain": [
       "True"
      ]
     },
     "execution_count": 13,
     "metadata": {},
     "output_type": "execute_result"
    }
   ],
   "source": [
    "is_sator_square([['B', 'A', 'T', 'S'],\n",
    "                  ['A', 'B', 'U', 'T'],\n",
    "                  ['T', 'U', 'B', 'A'],\n",
    "                  ['S', 'T', 'A', 'B']])"
   ]
  },
  {
   "cell_type": "code",
   "execution_count": 14,
   "id": "eb9beff6-73f1-414f-843a-d0ab756a8f16",
   "metadata": {
    "tags": []
   },
   "outputs": [
    {
     "data": {
      "text/plain": [
       "True"
      ]
     },
     "execution_count": 14,
     "metadata": {},
     "output_type": "execute_result"
    }
   ],
   "source": [
    "is_sator_square([\n",
    "    ['S', 'A', 'T', 'O', 'R'],\n",
    "    ['A', 'R', 'E', 'P', 'O'],\n",
    "    ['T', 'E', 'N', 'E', 'T'],\n",
    "    ['O', 'P', 'E', 'R', 'A'],\n",
    "    ['R', 'O', 'T', 'A', 'S']\n",
    "])"
   ]
  },
  {
   "cell_type": "code",
   "execution_count": null,
   "id": "14ebf895-cc41-4eb2-878d-a8efc9e242a9",
   "metadata": {},
   "outputs": [],
   "source": []
  }
 ],
 "metadata": {
  "kernelspec": {
   "display_name": "Python 3 (ipykernel)",
   "language": "python",
   "name": "python3"
  },
  "language_info": {
   "codemirror_mode": {
    "name": "ipython",
    "version": 3
   },
   "file_extension": ".py",
   "mimetype": "text/x-python",
   "name": "python",
   "nbconvert_exporter": "python",
   "pygments_lexer": "ipython3",
   "version": "3.10.7"
  }
 },
 "nbformat": 4,
 "nbformat_minor": 5
}
