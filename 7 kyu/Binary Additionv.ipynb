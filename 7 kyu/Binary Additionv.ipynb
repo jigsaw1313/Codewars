{
 "cells": [
  {
   "cell_type": "markdown",
   "id": "212fccdd-ceca-44a6-860e-1f57614c1981",
   "metadata": {},
   "source": [
    "# Binary Addition"
   ]
  },
  {
   "cell_type": "markdown",
   "id": "6a55b005-a17d-4d44-9914-7e66cb536611",
   "metadata": {},
   "source": [
    "https://www.codewars.com/kata/551f37452ff852b7bd000139/train/python\n"
   ]
  },
  {
   "cell_type": "code",
   "execution_count": 8,
   "id": "dd9ae859-3869-4f6c-b6a7-ba73a29a1c66",
   "metadata": {
    "tags": []
   },
   "outputs": [],
   "source": [
    "def add_binary(a,b):\n",
    "    return bin(a + b)[2:]"
   ]
  },
  {
   "cell_type": "code",
   "execution_count": 10,
   "id": "f75fffbf-4674-466f-a118-484db593c60e",
   "metadata": {
    "tags": []
   },
   "outputs": [
    {
     "data": {
      "text/plain": [
       "'10'"
      ]
     },
     "execution_count": 10,
     "metadata": {},
     "output_type": "execute_result"
    }
   ],
   "source": [
    "add_binary(1, 1)"
   ]
  },
  {
   "cell_type": "code",
   "execution_count": 12,
   "id": "30724b21-3736-43ee-a85c-0d51baec922b",
   "metadata": {
    "tags": []
   },
   "outputs": [
    {
     "data": {
      "text/plain": [
       "'1'"
      ]
     },
     "execution_count": 12,
     "metadata": {},
     "output_type": "execute_result"
    }
   ],
   "source": [
    "add_binary(0, 1)"
   ]
  },
  {
   "cell_type": "code",
   "execution_count": 13,
   "id": "0509bf54-2e56-4eb8-ab9d-ae4c3088a181",
   "metadata": {
    "tags": []
   },
   "outputs": [
    {
     "data": {
      "text/plain": [
       "'100'"
      ]
     },
     "execution_count": 13,
     "metadata": {},
     "output_type": "execute_result"
    }
   ],
   "source": [
    "add_binary(2,2)"
   ]
  },
  {
   "cell_type": "markdown",
   "id": "af4ee3e0-a8b0-43af-ba7e-f278e381bdcd",
   "metadata": {},
   "source": [
    "______________________________________________"
   ]
  },
  {
   "cell_type": "code",
   "execution_count": null,
   "id": "5fff20bb-a5ec-44ae-b0a4-b3c7af34c195",
   "metadata": {},
   "outputs": [],
   "source": []
  }
 ],
 "metadata": {
  "kernelspec": {
   "display_name": "Python 3 (ipykernel)",
   "language": "python",
   "name": "python3"
  },
  "language_info": {
   "codemirror_mode": {
    "name": "ipython",
    "version": 3
   },
   "file_extension": ".py",
   "mimetype": "text/x-python",
   "name": "python",
   "nbconvert_exporter": "python",
   "pygments_lexer": "ipython3",
   "version": "3.10.7"
  }
 },
 "nbformat": 4,
 "nbformat_minor": 5
}
