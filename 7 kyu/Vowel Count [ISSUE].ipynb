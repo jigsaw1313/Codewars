{
 "cells": [
  {
   "cell_type": "markdown",
   "id": "23a70a5f-39f7-43be-afe5-a2c896642292",
   "metadata": {},
   "source": []
  },
  {
   "cell_type": "markdown",
   "id": "09a08730-b177-4e5f-835c-dd5ffaadcabe",
   "metadata": {},
   "source": [
    ".."
   ]
  },
  {
   "cell_type": "code",
   "execution_count": 1,
   "id": "2c9eb2ff-915d-4d71-8f57-4ac9ba18ace0",
   "metadata": {
    "tags": []
   },
   "outputs": [],
   "source": [
    "def get_count(sentence):\n",
    "    count = 0\n",
    "    vowels = 'aeiou'\n",
    "    for char in sentence:\n",
    "        if char in vowels:\n",
    "            count += 1\n",
    "    return count"
   ]
  },
  {
   "cell_type": "code",
   "execution_count": 8,
   "id": "9dbb2a8c-a528-4d8d-8afb-07ecc066f21f",
   "metadata": {
    "tags": []
   },
   "outputs": [
    {
     "data": {
      "text/plain": [
       "11"
      ]
     },
     "execution_count": 8,
     "metadata": {},
     "output_type": "execute_result"
    }
   ],
   "source": [
    "get_count('abracadabra')"
   ]
  },
  {
   "cell_type": "markdown",
   "id": "d2995c1e-34a5-4aa0-985b-250b9b7223f0",
   "metadata": {},
   "source": [
    "___________________________________________"
   ]
  },
  {
   "cell_type": "code",
   "execution_count": 9,
   "id": "d9d858d0-fc28-4eb8-87d7-2bc8c6f119ec",
   "metadata": {
    "tags": []
   },
   "outputs": [],
   "source": [
    "def getCount(inputStr):\n",
    "    return sum(1 for let in inputStr if let in \"aeiouAEIOU\")"
   ]
  },
  {
   "cell_type": "code",
   "execution_count": 10,
   "id": "58c1e9ce-c27c-4be4-8646-fa9567508639",
   "metadata": {
    "tags": []
   },
   "outputs": [
    {
     "data": {
      "text/plain": [
       "5"
      ]
     },
     "execution_count": 10,
     "metadata": {},
     "output_type": "execute_result"
    }
   ],
   "source": [
    "getCount('abracadabra')"
   ]
  },
  {
   "cell_type": "code",
   "execution_count": null,
   "id": "cd2786bd-900d-4af3-a972-5ebad43e44dc",
   "metadata": {},
   "outputs": [],
   "source": []
  }
 ],
 "metadata": {
  "kernelspec": {
   "display_name": "Python 3 (ipykernel)",
   "language": "python",
   "name": "python3"
  },
  "language_info": {
   "codemirror_mode": {
    "name": "ipython",
    "version": 3
   },
   "file_extension": ".py",
   "mimetype": "text/x-python",
   "name": "python",
   "nbconvert_exporter": "python",
   "pygments_lexer": "ipython3",
   "version": "3.10.7"
  }
 },
 "nbformat": 4,
 "nbformat_minor": 5
}
