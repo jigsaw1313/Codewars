{
 "cells": [
  {
   "cell_type": "markdown",
   "id": "a62c45e6-496f-4ae0-9f24-7a107f597209",
   "metadata": {},
   "source": [
    "# Disemvowel Trolls"
   ]
  },
  {
   "cell_type": "markdown",
   "id": "ba93eb30-4866-4ac3-a3fd-4017c03774f5",
   "metadata": {},
   "source": [
    "https://www.codewars.com/kata/52fba66badcd10859f00097e/train/python"
   ]
  },
  {
   "cell_type": "code",
   "execution_count": 5,
   "id": "1b9c412c-8bb7-480d-9c80-92bd9bc37789",
   "metadata": {
    "tags": []
   },
   "outputs": [],
   "source": [
    "import re\n",
    "def disemvowel(string_):\n",
    "    vowels = re.compile('[aeiouAEIOU]')\n",
    "    res = vowels.sub('', string_)\n",
    "    return res"
   ]
  },
  {
   "cell_type": "code",
   "execution_count": 6,
   "id": "ac2094a1-9137-4d6c-bebf-5e41f1b6b166",
   "metadata": {
    "tags": []
   },
   "outputs": [
    {
     "data": {
      "text/plain": [
       "'Ths wbst s fr lsrs LL'"
      ]
     },
     "execution_count": 6,
     "metadata": {},
     "output_type": "execute_result"
    }
   ],
   "source": [
    "disemvowel('This website is for losers LOL')"
   ]
  },
  {
   "cell_type": "code",
   "execution_count": 8,
   "id": "920c31e7-de00-487c-b8be-04cd34f55a05",
   "metadata": {
    "tags": []
   },
   "outputs": [
    {
     "data": {
      "text/plain": [
       "\"N ffns bt,\\nYr wrtng s mng th wrst 'v vr rd\""
      ]
     },
     "execution_count": 8,
     "metadata": {},
     "output_type": "execute_result"
    }
   ],
   "source": [
    "disemvowel('No offense but,\\nYour writing is among the worst I\\'ve ever read')"
   ]
  },
  {
   "cell_type": "markdown",
   "id": "4666c361-36f8-4ad8-84ab-a09511be87bd",
   "metadata": {},
   "source": [
    "**re.sub() is a Python function that is used to perform a search-and-replace operation on a string using regular expressions. The function takes three arguments: a regular expression pattern to search for, the replacement text to use for all matches, and the string to search and replace within. The function returns a new string with all matches replaced with the specified replacement text**"
   ]
  },
  {
   "cell_type": "markdown",
   "id": "530e5488-d2ab-40b3-a9c7-2a346de1ed4d",
   "metadata": {},
   "source": [
    "**re.compile() is a Python function that is used to create a regular expression object from a string pattern. The function takes a single argument: the regular expression pattern to compile. The resulting object can be used to perform various regular expression operations, such as searching for matches in a string.**"
   ]
  },
  {
   "cell_type": "markdown",
   "id": "035028a6-2fd6-4545-9b21-43cc67d2fea1",
   "metadata": {},
   "source": [
    "_______________________________________________________________"
   ]
  },
  {
   "cell_type": "code",
   "execution_count": 10,
   "id": "68db34ab-5d30-4413-86a6-51db144780ba",
   "metadata": {
    "tags": []
   },
   "outputs": [],
   "source": [
    "# 1\n",
    "def disemvowel(string):\n",
    "    return \"\".join(c for c in string if c.lower() not in \"aeiou\")"
   ]
  },
  {
   "cell_type": "code",
   "execution_count": 11,
   "id": "e5ae8f7e-77d8-472c-b82e-b73fc170d7e5",
   "metadata": {
    "tags": []
   },
   "outputs": [],
   "source": [
    "# 2\n",
    "def disemvowel(s):\n",
    "    for i in \"aeiouAEIOU\":\n",
    "        s = s.replace(i,'')\n",
    "    return s"
   ]
  },
  {
   "cell_type": "code",
   "execution_count": null,
   "id": "3c088b38-61a7-4537-b8e0-17941ecd0977",
   "metadata": {},
   "outputs": [],
   "source": []
  }
 ],
 "metadata": {
  "kernelspec": {
   "display_name": "Python 3 (ipykernel)",
   "language": "python",
   "name": "python3"
  },
  "language_info": {
   "codemirror_mode": {
    "name": "ipython",
    "version": 3
   },
   "file_extension": ".py",
   "mimetype": "text/x-python",
   "name": "python",
   "nbconvert_exporter": "python",
   "pygments_lexer": "ipython3",
   "version": "3.10.7"
  }
 },
 "nbformat": 4,
 "nbformat_minor": 5
}
