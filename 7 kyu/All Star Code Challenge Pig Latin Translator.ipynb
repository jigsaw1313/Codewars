{
 "cells": [
  {
   "cell_type": "markdown",
   "id": "eb89762a-9bad-4b27-852a-64e203a230c7",
   "metadata": {},
   "source": [
    "# All Star Code Challenge #13 : Pig Latin Translator\n"
   ]
  },
  {
   "cell_type": "markdown",
   "id": "540f6a2b-81e6-447a-a3b7-0bcb1bebbca2",
   "metadata": {},
   "source": [
    "https://www.codewars.com/kata/5864e2c473bd9c67b70002ba/discuss"
   ]
  },
  {
   "cell_type": "code",
   "execution_count": 1,
   "id": "9ee32100-edf0-45e9-b0c9-a4eed1b0aa62",
   "metadata": {},
   "outputs": [],
   "source": [
    "def remove_vowels(s):\n",
    "    # define a string containing all vowels\n",
    "    vowels = \"aeiouAEIOU\"\n",
    "\n",
    "    # create a new string with all vowels removed\n",
    "    new_s = \"\"\n",
    "    for c in s:\n",
    "        if c not in vowels:\n",
    "            new_s += c\n",
    "\n",
    "    # return the new string\n",
    "    return new_s"
   ]
  },
  {
   "cell_type": "code",
   "execution_count": null,
   "id": "323fbad8-b9d7-45a6-a9ae-5af08771b2ff",
   "metadata": {},
   "outputs": [],
   "source": []
  }
 ],
 "metadata": {
  "kernelspec": {
   "display_name": "Python 3 (ipykernel)",
   "language": "python",
   "name": "python3"
  },
  "language_info": {
   "codemirror_mode": {
    "name": "ipython",
    "version": 3
   },
   "file_extension": ".py",
   "mimetype": "text/x-python",
   "name": "python",
   "nbconvert_exporter": "python",
   "pygments_lexer": "ipython3",
   "version": "3.10.7"
  }
 },
 "nbformat": 4,
 "nbformat_minor": 5
}
