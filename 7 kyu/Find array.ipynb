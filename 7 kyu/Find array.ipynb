{
 "cells": [
  {
   "cell_type": "markdown",
   "id": "b9e91e3a-c194-4c4a-bedf-74f958a4f90c",
   "metadata": {},
   "source": [
    "# Find array\n"
   ]
  },
  {
   "cell_type": "markdown",
   "id": "8a0e83fd-124e-4d64-887f-f7679d8bafca",
   "metadata": {},
   "source": [
    "https://www.codewars.com/kata/59a2a3ba5eb5d4e609000055/train/python"
   ]
  },
  {
   "cell_type": "code",
   "execution_count": 1,
   "id": "a8eb490a-c86e-428e-86f8-08e6ac523c86",
   "metadata": {
    "tags": []
   },
   "outputs": [],
   "source": [
    "def find_array(arr1, arr2):\n",
    "    if not arr1 or not arr2:\n",
    "        return []\n",
    "    else:\n",
    "        return [arr1[i] for i in arr2 if i < len(arr1)]"
   ]
  },
  {
   "cell_type": "code",
   "execution_count": 2,
   "id": "3b3e94d5-54db-4e33-8088-db23d85079e5",
   "metadata": {
    "tags": []
   },
   "outputs": [
    {
     "data": {
      "text/plain": [
       "['a', 'a']"
      ]
     },
     "execution_count": 2,
     "metadata": {},
     "output_type": "execute_result"
    }
   ],
   "source": [
    "find_array(['a', 'a', 'a', 'a', 'a'], [2, 4])"
   ]
  },
  {
   "cell_type": "code",
   "execution_count": 3,
   "id": "650b2966-fec8-46d3-9aad-acd8f9f38507",
   "metadata": {
    "tags": []
   },
   "outputs": [
    {
     "data": {
      "text/plain": [
       "[1, 1, 1]"
      ]
     },
     "execution_count": 3,
     "metadata": {},
     "output_type": "execute_result"
    }
   ],
   "source": [
    "find_array([0, 1, 5, 2, 1, 8, 9, 1, 5], [1, 4, 7])"
   ]
  },
  {
   "cell_type": "markdown",
   "id": "d9c23e0c-1d76-4484-b106-da3ccbed7b35",
   "metadata": {},
   "source": [
    "__________________________________________"
   ]
  },
  {
   "cell_type": "code",
   "execution_count": 5,
   "id": "a82d8fed-6abf-4d32-a4ba-f9b721d6943c",
   "metadata": {
    "tags": []
   },
   "outputs": [],
   "source": [
    "# 1\n",
    "def find_array(arr1, arr2):\n",
    "    return [ arr1[i] for i in arr2 if i< len(arr1) ]"
   ]
  },
  {
   "cell_type": "code",
   "execution_count": 7,
   "id": "13055595-5bb7-4670-bebe-92049505c61b",
   "metadata": {
    "tags": []
   },
   "outputs": [],
   "source": [
    "# 2\n",
    "def find_array(arr1, arr2):\n",
    "    return [arr1[i] for i in range(len(arr1)) if i in arr2]"
   ]
  },
  {
   "cell_type": "code",
   "execution_count": null,
   "id": "9ab1fa65-33be-400e-b4af-f2684b930bbd",
   "metadata": {},
   "outputs": [],
   "source": []
  }
 ],
 "metadata": {
  "kernelspec": {
   "display_name": "Python 3 (ipykernel)",
   "language": "python",
   "name": "python3"
  },
  "language_info": {
   "codemirror_mode": {
    "name": "ipython",
    "version": 3
   },
   "file_extension": ".py",
   "mimetype": "text/x-python",
   "name": "python",
   "nbconvert_exporter": "python",
   "pygments_lexer": "ipython3",
   "version": "3.9.12"
  }
 },
 "nbformat": 4,
 "nbformat_minor": 5
}
