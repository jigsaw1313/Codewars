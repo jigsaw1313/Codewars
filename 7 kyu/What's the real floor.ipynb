{
 "cells": [
  {
   "cell_type": "markdown",
   "id": "e6692432-5790-48ed-8f96-934263b44cf8",
   "metadata": {},
   "source": [
    "# What's the real floor?"
   ]
  },
  {
   "cell_type": "markdown",
   "id": "100b4ab2-0ec5-4a36-b792-e6d3ad2d21d6",
   "metadata": {
    "tags": []
   },
   "source": [
    "https://www.codewars.com/kata/574b3b1599d8f897470018f6/train/python"
   ]
  },
  {
   "cell_type": "code",
   "execution_count": 19,
   "id": "6422312e-0c61-4c22-b18c-df9bcca2d2da",
   "metadata": {
    "tags": []
   },
   "outputs": [],
   "source": [
    "def get_real_floor(n):\n",
    "    if n <= 0:\n",
    "        return n\n",
    "    if 1 <= n < 13:\n",
    "        return n - 1\n",
    "    if n >= 13:\n",
    "        return n - 2"
   ]
  },
  {
   "cell_type": "code",
   "execution_count": 20,
   "id": "b7bb06d5-dc43-4249-a3f8-c256acee6655",
   "metadata": {
    "tags": []
   },
   "outputs": [
    {
     "data": {
      "text/plain": [
       "0"
      ]
     },
     "execution_count": 20,
     "metadata": {},
     "output_type": "execute_result"
    }
   ],
   "source": [
    "get_real_floor(1)"
   ]
  },
  {
   "cell_type": "code",
   "execution_count": 21,
   "id": "142d7d92-4073-47d7-865e-440c470a453a",
   "metadata": {
    "tags": []
   },
   "outputs": [
    {
     "data": {
      "text/plain": [
       "13"
      ]
     },
     "execution_count": 21,
     "metadata": {},
     "output_type": "execute_result"
    }
   ],
   "source": [
    "get_real_floor(15)"
   ]
  },
  {
   "cell_type": "code",
   "execution_count": null,
   "id": "4074e650-0846-4637-a922-5a92699ba564",
   "metadata": {},
   "outputs": [],
   "source": []
  }
 ],
 "metadata": {
  "kernelspec": {
   "display_name": "Python 3 (ipykernel)",
   "language": "python",
   "name": "python3"
  },
  "language_info": {
   "codemirror_mode": {
    "name": "ipython",
    "version": 3
   },
   "file_extension": ".py",
   "mimetype": "text/x-python",
   "name": "python",
   "nbconvert_exporter": "python",
   "pygments_lexer": "ipython3",
   "version": "3.10.7"
  }
 },
 "nbformat": 4,
 "nbformat_minor": 5
}
