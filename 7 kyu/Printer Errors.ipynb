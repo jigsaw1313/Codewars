{
 "cells": [
  {
   "cell_type": "markdown",
   "id": "db042ced-1cdd-4d83-a10b-a9fc7c040641",
   "metadata": {},
   "source": [
    "# Printer Errors"
   ]
  },
  {
   "cell_type": "markdown",
   "id": "56f6901c-640e-4e27-b65a-2042e61ba61a",
   "metadata": {},
   "source": [
    "https://www.codewars.com/kata/56541980fa08ab47a0000040/solutions/python"
   ]
  },
  {
   "cell_type": "code",
   "execution_count": 1,
   "id": "0832a1a6-4949-44e3-a755-f3e50ed05126",
   "metadata": {
    "tags": []
   },
   "outputs": [],
   "source": [
    "def printer_error(s):\n",
    "    error_count = 0\n",
    "    for c in s:\n",
    "        if c not in \"abcdefghijklm\":\n",
    "            error_count += 1\n",
    "    return f\"{error_count}/{len(s)}\""
   ]
  },
  {
   "cell_type": "code",
   "execution_count": 2,
   "id": "f9e4aac0-c7ca-48bb-be5a-0519a24f7068",
   "metadata": {
    "tags": []
   },
   "outputs": [
    {
     "data": {
      "text/plain": [
       "'3/56'"
      ]
     },
     "execution_count": 2,
     "metadata": {},
     "output_type": "execute_result"
    }
   ],
   "source": [
    "printer_error('aaaaaaaaaaaaaaaabbbbbbbbbbbbbbbbbbmmmmmmmmmmmmmmmmmmmxyz')"
   ]
  },
  {
   "cell_type": "code",
   "execution_count": 3,
   "id": "ee9f755e-5589-46fd-af07-7c2b30395f0d",
   "metadata": {
    "tags": []
   },
   "outputs": [
    {
     "data": {
      "text/plain": [
       "'6/60'"
      ]
     },
     "execution_count": 3,
     "metadata": {},
     "output_type": "execute_result"
    }
   ],
   "source": [
    "printer_error('kkkwwwaaaaaaaaaaaaaabbbbbbbbbbbbbbbbbbmmmmmmmmmmmmmmmmmmmxyz')"
   ]
  },
  {
   "cell_type": "code",
   "execution_count": null,
   "id": "9c0b99b1-76b6-4f6d-b5d7-264134304b65",
   "metadata": {},
   "outputs": [],
   "source": []
  }
 ],
 "metadata": {
  "kernelspec": {
   "display_name": "Python 3 (ipykernel)",
   "language": "python",
   "name": "python3"
  },
  "language_info": {
   "codemirror_mode": {
    "name": "ipython",
    "version": 3
   },
   "file_extension": ".py",
   "mimetype": "text/x-python",
   "name": "python",
   "nbconvert_exporter": "python",
   "pygments_lexer": "ipython3",
   "version": "3.10.7"
  }
 },
 "nbformat": 4,
 "nbformat_minor": 5
}
