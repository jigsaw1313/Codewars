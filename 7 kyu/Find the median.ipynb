{
 "cells": [
  {
   "cell_type": "markdown",
   "id": "d7f46cb3-fd2f-4b54-ae9b-1a87c8c3e5f2",
   "metadata": {},
   "source": [
    "# Find the median"
   ]
  },
  {
   "cell_type": "code",
   "execution_count": 1,
   "id": "4853c572-16e3-47e5-8ed5-20cc53234b5b",
   "metadata": {
    "tags": []
   },
   "outputs": [],
   "source": [
    "import numpy as np\n",
    "def median(array):\n",
    "    return np.median(array)"
   ]
  },
  {
   "cell_type": "code",
   "execution_count": null,
   "id": "a7af0bc5-8034-4ec4-b4a1-11ce7068092f",
   "metadata": {},
   "outputs": [],
   "source": []
  }
 ],
 "metadata": {
  "kernelspec": {
   "display_name": "Python 3 (ipykernel)",
   "language": "python",
   "name": "python3"
  },
  "language_info": {
   "codemirror_mode": {
    "name": "ipython",
    "version": 3
   },
   "file_extension": ".py",
   "mimetype": "text/x-python",
   "name": "python",
   "nbconvert_exporter": "python",
   "pygments_lexer": "ipython3",
   "version": "3.10.7"
  }
 },
 "nbformat": 4,
 "nbformat_minor": 5
}
