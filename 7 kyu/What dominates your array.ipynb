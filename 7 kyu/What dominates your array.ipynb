{
 "cells": [
  {
   "cell_type": "markdown",
   "id": "60eb3854-f2e9-4223-ac59-ede0fe86db58",
   "metadata": {},
   "source": [
    "# What dominates your array"
   ]
  },
  {
   "cell_type": "markdown",
   "id": "53b2faa1-73dc-4a36-ad2a-617e18f0bbac",
   "metadata": {},
   "source": [
    "# https://www.codewars.com/kata/559e10e2e162b69f750000b4/solutions/python"
   ]
  },
  {
   "cell_type": "code",
   "execution_count": 1,
   "id": "7a1f70d5-8805-4398-b67e-32a94ca9a423",
   "metadata": {
    "tags": []
   },
   "outputs": [],
   "source": [
    "def dominator(arr):\n",
    "    n = len(arr)\n",
    "    \n",
    "    if n == 0:\n",
    "        return -1\n",
    "\n",
    "    candidate = arr[0]\n",
    "    counter = 1\n",
    "\n",
    "    # Find potential dominator\n",
    "    for i in range(1, n):\n",
    "        if counter == 0:\n",
    "            candidate = arr[i]\n",
    "            counter = 1\n",
    "        elif arr[i] == candidate:\n",
    "            counter += 1\n",
    "        else:\n",
    "            counter -= 1\n",
    "\n",
    "    # Verify if the candidate is the dominator\n",
    "    count = 0\n",
    "    for num in arr:\n",
    "        if num == candidate:\n",
    "            count += 1\n",
    "\n",
    "    if count > n // 2:\n",
    "        return candidate\n",
    "    else:\n",
    "        return -1\n"
   ]
  },
  {
   "cell_type": "code",
   "execution_count": 2,
   "id": "6b77d7cc-9ab5-48d5-aef2-96e0c15d05f6",
   "metadata": {
    "tags": []
   },
   "outputs": [
    {
     "data": {
      "text/plain": [
       "3"
      ]
     },
     "execution_count": 2,
     "metadata": {},
     "output_type": "execute_result"
    }
   ],
   "source": [
    "dominator([3,4,3,2,3,1,3,3])"
   ]
  },
  {
   "cell_type": "code",
   "execution_count": 3,
   "id": "3ba07f35-bc1e-426b-9c68-887d85f65f64",
   "metadata": {
    "tags": []
   },
   "outputs": [
    {
     "data": {
      "text/plain": [
       "-1"
      ]
     },
     "execution_count": 3,
     "metadata": {},
     "output_type": "execute_result"
    }
   ],
   "source": [
    "dominator([])"
   ]
  },
  {
   "cell_type": "code",
   "execution_count": 4,
   "id": "161f21c6-89fc-484d-bfa5-fc09773cabd4",
   "metadata": {
    "tags": []
   },
   "outputs": [
    {
     "data": {
      "text/plain": [
       "-1"
      ]
     },
     "execution_count": 4,
     "metadata": {},
     "output_type": "execute_result"
    }
   ],
   "source": [
    "dominator([1,1,1,2,2,2])"
   ]
  },
  {
   "cell_type": "code",
   "execution_count": 5,
   "id": "e09d9664-d930-43b4-8c55-d84c7f8aff20",
   "metadata": {
    "tags": []
   },
   "outputs": [
    {
     "data": {
      "text/plain": [
       "2"
      ]
     },
     "execution_count": 5,
     "metadata": {},
     "output_type": "execute_result"
    }
   ],
   "source": [
    "dominator([1,1,1,2,2,2,2])"
   ]
  },
  {
   "cell_type": "markdown",
   "id": "a988bf3c-86b5-4741-96f7-37a4c869616a",
   "metadata": {},
   "source": [
    "_____________________________"
   ]
  },
  {
   "cell_type": "code",
   "execution_count": 6,
   "id": "2d3606ea-a0e7-4b99-9ede-62904f2668b5",
   "metadata": {
    "tags": []
   },
   "outputs": [],
   "source": [
    "def dominator(arr):\n",
    "    if not arr:\n",
    "        return -1\n",
    "    k, v = Counter(arr).most_common(1)[0]\n",
    "    return k if v > len(arr) / 2 else -1"
   ]
  },
  {
   "cell_type": "code",
   "execution_count": null,
   "id": "90a00626-e1f5-4932-b2bd-54336b1b003a",
   "metadata": {},
   "outputs": [],
   "source": []
  }
 ],
 "metadata": {
  "kernelspec": {
   "display_name": "Python 3 (ipykernel)",
   "language": "python",
   "name": "python3"
  },
  "language_info": {
   "codemirror_mode": {
    "name": "ipython",
    "version": 3
   },
   "file_extension": ".py",
   "mimetype": "text/x-python",
   "name": "python",
   "nbconvert_exporter": "python",
   "pygments_lexer": "ipython3",
   "version": "3.10.7"
  }
 },
 "nbformat": 4,
 "nbformat_minor": 5
}
