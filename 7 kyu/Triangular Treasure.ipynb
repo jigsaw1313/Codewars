{
 "cells": [
  {
   "cell_type": "markdown",
   "id": "d3dba0e5-3b73-45ee-ae33-00b3aacbd85c",
   "metadata": {},
   "source": [
    "# Triangular Treasure"
   ]
  },
  {
   "cell_type": "markdown",
   "id": "6db90a15-842a-4c83-9712-aff6a66bceef",
   "metadata": {},
   "source": [
    "https://www.codewars.com/kata/525e5a1cb735154b320002c8/train/python"
   ]
  },
  {
   "cell_type": "code",
   "execution_count": 4,
   "id": "4afb82e9-1b5a-43ef-9560-6d424915379a",
   "metadata": {
    "tags": []
   },
   "outputs": [],
   "source": [
    "def triangular(n):\n",
    "    return n * (n + 1) // 2 if n >= 0  else 0"
   ]
  },
  {
   "cell_type": "code",
   "execution_count": 5,
   "id": "ee50a1dd-5db7-4b63-8d34-b8fa8a26b64f",
   "metadata": {
    "tags": []
   },
   "outputs": [
    {
     "data": {
      "text/plain": [
       "3"
      ]
     },
     "execution_count": 5,
     "metadata": {},
     "output_type": "execute_result"
    }
   ],
   "source": [
    "triangular(2)"
   ]
  },
  {
   "cell_type": "code",
   "execution_count": 6,
   "id": "5f1177fd-b699-4850-b6a0-d0af25d14349",
   "metadata": {
    "tags": []
   },
   "outputs": [
    {
     "data": {
      "text/plain": [
       "3"
      ]
     },
     "execution_count": 6,
     "metadata": {},
     "output_type": "execute_result"
    }
   ],
   "source": [
    "triangular(2)"
   ]
  },
  {
   "cell_type": "code",
   "execution_count": 7,
   "id": "1fc5b105-8c28-4908-a13d-55e4658204da",
   "metadata": {
    "tags": []
   },
   "outputs": [
    {
     "data": {
      "text/plain": [
       "10"
      ]
     },
     "execution_count": 7,
     "metadata": {},
     "output_type": "execute_result"
    }
   ],
   "source": [
    "triangular(4)"
   ]
  },
  {
   "cell_type": "code",
   "execution_count": null,
   "id": "b90d7b2a-5c0c-4942-a5bb-5b4c1075fa21",
   "metadata": {},
   "outputs": [],
   "source": []
  }
 ],
 "metadata": {
  "kernelspec": {
   "display_name": "Python 3 (ipykernel)",
   "language": "python",
   "name": "python3"
  },
  "language_info": {
   "codemirror_mode": {
    "name": "ipython",
    "version": 3
   },
   "file_extension": ".py",
   "mimetype": "text/x-python",
   "name": "python",
   "nbconvert_exporter": "python",
   "pygments_lexer": "ipython3",
   "version": "3.9.12"
  }
 },
 "nbformat": 4,
 "nbformat_minor": 5
}
