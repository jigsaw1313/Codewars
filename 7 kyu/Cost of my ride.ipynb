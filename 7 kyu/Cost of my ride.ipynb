{
 "cells": [
  {
   "cell_type": "markdown",
   "id": "622df389-47ff-4fb8-b9d6-991049aa4bf9",
   "metadata": {},
   "source": [
    "# Cost of my ride\n"
   ]
  },
  {
   "cell_type": "markdown",
   "id": "98156fec-db06-4cee-8d52-d5be53ac43fd",
   "metadata": {},
   "source": [
    "https://www.codewars.com/kata/586430a5b3a675296a000395/train/python"
   ]
  },
  {
   "cell_type": "code",
   "execution_count": 1,
   "id": "47f0516d-7883-4ead-aa09-7762c32f309c",
   "metadata": {
    "tags": []
   },
   "outputs": [],
   "source": [
    "def insurance(age, car_size, rental_days):\n",
    "    daily_charge = 50\n",
    "    if age < 25:\n",
    "        daily_charge += 10\n",
    "    if car_size not in [\"economy\", 'medium']:\n",
    "        daily_charge += 15\n",
    "    elif car_size == \"medium\":\n",
    "        daily_charge += 10\n",
    "    elif car_size == 'fule-size':\n",
    "        daily_charge += 15\n",
    "    if rental_days < 0:\n",
    "        return 0\n",
    "\n",
    "    total_cost = daily_charge * rental_days\n",
    "    return total_cost"
   ]
  },
  {
   "cell_type": "code",
   "execution_count": 2,
   "id": "f2ac5d97-60cf-43b5-bb5a-453e48b90115",
   "metadata": {
    "tags": []
   },
   "outputs": [
    {
     "data": {
      "text/plain": [
       "490"
      ]
     },
     "execution_count": 2,
     "metadata": {},
     "output_type": "execute_result"
    }
   ],
   "source": [
    "insurance(18, \"medium\", 7)"
   ]
  },
  {
   "cell_type": "code",
   "execution_count": 3,
   "id": "80d2c6ce-9efc-4eab-8f22-96e79b533df5",
   "metadata": {
    "tags": []
   },
   "outputs": [
    {
     "data": {
      "text/plain": [
       "1950"
      ]
     },
     "execution_count": 3,
     "metadata": {},
     "output_type": "execute_result"
    }
   ],
   "source": [
    "insurance(30,\"full-size\",30)"
   ]
  },
  {
   "cell_type": "code",
   "execution_count": 5,
   "id": "c60fad48-bef7-495c-a899-a1a0ceb62df2",
   "metadata": {
    "tags": []
   },
   "outputs": [
    {
     "data": {
      "text/plain": [
       "0"
      ]
     },
     "execution_count": 5,
     "metadata": {},
     "output_type": "execute_result"
    }
   ],
   "source": [
    "insurance(21,\"economy\",-10)"
   ]
  },
  {
   "cell_type": "code",
   "execution_count": 6,
   "id": "1233e2d5-345e-415c-8f0a-d3346191f227",
   "metadata": {
    "tags": []
   },
   "outputs": [
    {
     "data": {
      "text/plain": [
       "455"
      ]
     },
     "execution_count": 6,
     "metadata": {},
     "output_type": "execute_result"
    }
   ],
   "source": [
    "insurance(42,\"my custom car\",7)"
   ]
  },
  {
   "cell_type": "code",
   "execution_count": null,
   "id": "2785f803-2900-499d-86d7-6edc47066dac",
   "metadata": {},
   "outputs": [],
   "source": []
  }
 ],
 "metadata": {
  "kernelspec": {
   "display_name": "Python 3 (ipykernel)",
   "language": "python",
   "name": "python3"
  },
  "language_info": {
   "codemirror_mode": {
    "name": "ipython",
    "version": 3
   },
   "file_extension": ".py",
   "mimetype": "text/x-python",
   "name": "python",
   "nbconvert_exporter": "python",
   "pygments_lexer": "ipython3",
   "version": "3.10.7"
  }
 },
 "nbformat": 4,
 "nbformat_minor": 5
}
