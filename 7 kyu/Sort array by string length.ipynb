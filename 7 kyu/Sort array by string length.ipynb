{
 "cells": [
  {
   "cell_type": "markdown",
   "id": "dc54190f-9ef6-40e8-91c9-adbc0098a9ef",
   "metadata": {},
   "source": [
    "# Sort array by string length"
   ]
  },
  {
   "cell_type": "markdown",
   "id": "451f301d-c1d5-4cbf-af44-55f34b6948d4",
   "metadata": {},
   "source": [
    "https://www.codewars.com/kata/57ea5b0b75ae11d1e800006c/solutions/python"
   ]
  },
  {
   "cell_type": "code",
   "execution_count": 8,
   "id": "f291cdc3-cde5-42f0-963f-f9d284a689fc",
   "metadata": {
    "tags": []
   },
   "outputs": [],
   "source": [
    "def sort_by_length(arr):\n",
    "    return sorted(arr, key = (lambda x: len(x)))"
   ]
  },
  {
   "cell_type": "code",
   "execution_count": 9,
   "id": "76635f0d-e675-4d3d-8353-b304b273e753",
   "metadata": {
    "tags": []
   },
   "outputs": [
    {
     "data": {
      "text/plain": [
       "['Eyes', 'Glasses', 'Monocles', 'Telescopes']"
      ]
     },
     "execution_count": 9,
     "metadata": {},
     "output_type": "execute_result"
    }
   ],
   "source": [
    "sort_by_length([\"Telescopes\", \"Glasses\", \"Eyes\", \"Monocles\"])"
   ]
  },
  {
   "cell_type": "markdown",
   "id": "f769afde-f7ec-40da-aacd-2a1a1d287426",
   "metadata": {},
   "source": [
    "______________________________________________"
   ]
  },
  {
   "cell_type": "code",
   "execution_count": 11,
   "id": "895e6f5a-b892-46d6-b78a-9041435e0911",
   "metadata": {
    "tags": []
   },
   "outputs": [],
   "source": [
    "# 1\n",
    "def sort_by_length(arr):\n",
    "    return sorted(arr, key=len)"
   ]
  },
  {
   "cell_type": "code",
   "execution_count": null,
   "id": "41ef7aa3-3349-4ef8-9301-d0125275fd4a",
   "metadata": {},
   "outputs": [],
   "source": []
  }
 ],
 "metadata": {
  "kernelspec": {
   "display_name": "Python 3 (ipykernel)",
   "language": "python",
   "name": "python3"
  },
  "language_info": {
   "codemirror_mode": {
    "name": "ipython",
    "version": 3
   },
   "file_extension": ".py",
   "mimetype": "text/x-python",
   "name": "python",
   "nbconvert_exporter": "python",
   "pygments_lexer": "ipython3",
   "version": "3.10.7"
  }
 },
 "nbformat": 4,
 "nbformat_minor": 5
}
