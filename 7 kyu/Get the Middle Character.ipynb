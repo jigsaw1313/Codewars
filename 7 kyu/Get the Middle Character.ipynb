{
 "cells": [
  {
   "cell_type": "markdown",
   "id": "efc32ea0-0576-477e-8dcd-eb4ae621024b",
   "metadata": {},
   "source": [
    "# Get the Middle Character\n"
   ]
  },
  {
   "cell_type": "markdown",
   "id": "6b0dd69d-ad1b-4e12-96ff-3bf1f9447c88",
   "metadata": {},
   "source": [
    " https://www.codewars.com/kata/56747fd5cb988479af000028"
   ]
  },
  {
   "cell_type": "code",
   "execution_count": 3,
   "id": "d118793c-a8c7-4d9a-8d62-21ab0bd01445",
   "metadata": {
    "tags": []
   },
   "outputs": [],
   "source": [
    "def get_middle(s):\n",
    "    length = len(s)\n",
    "    middle_index = length // 2\n",
    "\n",
    "    if length % 2 == 0:\n",
    "        # If the length is even, return the middle 2 characters\n",
    "        return s[middle_index - 1: middle_index + 1]\n",
    "    else:\n",
    "        # If the length is odd, return the middle character\n",
    "        return s[middle_index]"
   ]
  },
  {
   "cell_type": "code",
   "execution_count": 4,
   "id": "cca5bc3d-ac3b-4fbd-9cec-72ab654dd6f0",
   "metadata": {
    "tags": []
   },
   "outputs": [
    {
     "data": {
      "text/plain": [
       "'es'"
      ]
     },
     "execution_count": 4,
     "metadata": {},
     "output_type": "execute_result"
    }
   ],
   "source": [
    "get_middle('test')"
   ]
  },
  {
   "cell_type": "code",
   "execution_count": 5,
   "id": "2429e43d-7234-4154-96c2-c3aea26638ad",
   "metadata": {
    "tags": []
   },
   "outputs": [
    {
     "data": {
      "text/plain": [
       "'t'"
      ]
     },
     "execution_count": 5,
     "metadata": {},
     "output_type": "execute_result"
    }
   ],
   "source": [
    "get_middle('testing')"
   ]
  },
  {
   "cell_type": "code",
   "execution_count": 6,
   "id": "09ec91c5-5bd6-4e5e-b072-21e00be31648",
   "metadata": {
    "tags": []
   },
   "outputs": [
    {
     "data": {
      "text/plain": [
       "'dd'"
      ]
     },
     "execution_count": 6,
     "metadata": {},
     "output_type": "execute_result"
    }
   ],
   "source": [
    "get_middle('middle')"
   ]
  },
  {
   "cell_type": "markdown",
   "id": "d4741f57-866d-4d82-b0a0-e90adbb984a2",
   "metadata": {},
   "source": [
    "_______________"
   ]
  },
  {
   "cell_type": "code",
   "execution_count": 8,
   "id": "4b2bb99e-2f57-4539-9c1e-671007d101c7",
   "metadata": {
    "tags": []
   },
   "outputs": [],
   "source": [
    "#1 \n",
    "def get_middle(s):\n",
    "    index, odd = divmod(len(s), 2)\n",
    "    return s[index] if odd else s[index - 1:index + 1]"
   ]
  },
  {
   "cell_type": "code",
   "execution_count": 9,
   "id": "a1ce8690-7623-40e9-a153-c91fc307c87a",
   "metadata": {
    "tags": []
   },
   "outputs": [],
   "source": [
    "def get_middle(s):\n",
    "    i = (len(s) - 1) // 2\n",
    "    return s[i:-i] or s"
   ]
  },
  {
   "cell_type": "code",
   "execution_count": null,
   "id": "f81e8e30-8ada-408f-8085-8f02255d1274",
   "metadata": {},
   "outputs": [],
   "source": []
  }
 ],
 "metadata": {
  "kernelspec": {
   "display_name": "Python 3 (ipykernel)",
   "language": "python",
   "name": "python3"
  },
  "language_info": {
   "codemirror_mode": {
    "name": "ipython",
    "version": 3
   },
   "file_extension": ".py",
   "mimetype": "text/x-python",
   "name": "python",
   "nbconvert_exporter": "python",
   "pygments_lexer": "ipython3",
   "version": "3.10.7"
  }
 },
 "nbformat": 4,
 "nbformat_minor": 5
}
