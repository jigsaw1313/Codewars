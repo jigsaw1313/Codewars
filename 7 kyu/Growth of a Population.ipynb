{
 "cells": [
  {
   "cell_type": "markdown",
   "id": "1e901b37-bb9d-4e74-bc6f-25eed1fb74a2",
   "metadata": {},
   "source": [
    "# Growth of a Population"
   ]
  },
  {
   "cell_type": "markdown",
   "id": "d60b0974-584d-4846-bbd8-ca693b7fadde",
   "metadata": {
    "tags": []
   },
   "source": [
    "https://www.codewars.com/kata/563b662a59afc2b5120000c6/train/python"
   ]
  },
  {
   "cell_type": "code",
   "execution_count": 44,
   "id": "47b57c84-b2e5-4b73-bfdc-617b6d4b75fd",
   "metadata": {
    "tags": []
   },
   "outputs": [],
   "source": [
    "def nb_year(p0, percent, aug, p):\n",
    "    count = 0\n",
    "    while p0 <= p:\n",
    "        p0 += int(p0 * (percent / 100)) + aug \n",
    "        count += 1\n",
    "    return count"
   ]
  },
  {
   "cell_type": "code",
   "execution_count": 34,
   "id": "1074e327-c72a-4ac8-b3a6-4d09348a5fb5",
   "metadata": {
    "tags": []
   },
   "outputs": [
    {
     "data": {
      "text/plain": [
       "15"
      ]
     },
     "execution_count": 34,
     "metadata": {},
     "output_type": "execute_result"
    }
   ],
   "source": [
    "nb_year(1500, 5, 100, 5000)"
   ]
  },
  {
   "cell_type": "code",
   "execution_count": 36,
   "id": "9517ea88-ab07-41dd-ae30-115eb88d346f",
   "metadata": {
    "tags": []
   },
   "outputs": [
    {
     "data": {
      "text/plain": [
       "10"
      ]
     },
     "execution_count": 36,
     "metadata": {},
     "output_type": "execute_result"
    }
   ],
   "source": [
    "nb_year(1500000, 2.5, 10000, 2000000)"
   ]
  },
  {
   "cell_type": "code",
   "execution_count": 46,
   "id": "e0e8381e-d4f1-4666-be22-b9f1e27a0e46",
   "metadata": {
    "tags": []
   },
   "outputs": [
    {
     "data": {
      "text/plain": [
       "94"
      ]
     },
     "execution_count": 46,
     "metadata": {},
     "output_type": "execute_result"
    }
   ],
   "source": [
    "nb_year(1500000, 0.25, 1000, 2000000)"
   ]
  },
  {
   "cell_type": "code",
   "execution_count": 45,
   "id": "82ac5bcd-9347-44df-8e89-f8b43070e30a",
   "metadata": {
    "tags": []
   },
   "outputs": [
    {
     "data": {
      "text/plain": [
       "4"
      ]
     },
     "execution_count": 45,
     "metadata": {},
     "output_type": "execute_result"
    }
   ],
   "source": [
    "nb_year(1000, 2.0, 50, 1214)"
   ]
  },
  {
   "cell_type": "markdown",
   "id": "45891299-d0c3-4e05-9d7f-bcd47f2a71fb",
   "metadata": {},
   "source": [
    "_____________________________________________"
   ]
  },
  {
   "cell_type": "code",
   "execution_count": 47,
   "id": "962ffd26-8d89-47a4-8354-57ec65de4e01",
   "metadata": {
    "tags": []
   },
   "outputs": [],
   "source": [
    "def nb_year(p0, percent, aug, p, years = 0):\n",
    "    if p0 < p:\n",
    "        return nb_year(p0 + int(p0 * percent / 100) + aug, percent, aug, p, years + 1)\n",
    "    return years"
   ]
  },
  {
   "cell_type": "code",
   "execution_count": null,
   "id": "dd35e0a6-1654-48e5-85df-543e3733c4a7",
   "metadata": {},
   "outputs": [],
   "source": []
  }
 ],
 "metadata": {
  "kernelspec": {
   "display_name": "Python 3 (ipykernel)",
   "language": "python",
   "name": "python3"
  },
  "language_info": {
   "codemirror_mode": {
    "name": "ipython",
    "version": 3
   },
   "file_extension": ".py",
   "mimetype": "text/x-python",
   "name": "python",
   "nbconvert_exporter": "python",
   "pygments_lexer": "ipython3",
   "version": "3.10.7"
  }
 },
 "nbformat": 4,
 "nbformat_minor": 5
}
