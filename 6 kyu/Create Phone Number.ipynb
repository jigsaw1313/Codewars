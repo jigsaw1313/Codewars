{
 "cells": [
  {
   "cell_type": "markdown",
   "id": "28c8cd9f-98fd-4754-87b5-10eefa72f88f",
   "metadata": {},
   "source": [
    "# Create Phone Number\n"
   ]
  },
  {
   "cell_type": "markdown",
   "id": "284230f7-5e8e-4399-ba4f-6f28671a026c",
   "metadata": {},
   "source": [
    "https://www.codewars.com/kata/525f50e3b73515a6db000b83"
   ]
  },
  {
   "cell_type": "markdown",
   "id": "18279fe2-3075-41fc-8c9e-cf240da38618",
   "metadata": {},
   "source": []
  },
  {
   "cell_type": "code",
   "execution_count": 2,
   "id": "283bcfc9-0c8c-4a74-8f53-31636f50cb79",
   "metadata": {
    "tags": []
   },
   "outputs": [],
   "source": [
    "import re\n",
    "\n",
    "def create_phone_number(numbers):\n",
    "    # Convert the list of numbers to a string\n",
    "    phone_number = ''.join(map(str, numbers))\n",
    "    # Use regular expressions to format the phone number\n",
    "    pattern = re.compile(r'(\\d{3})(\\d{3})(\\d{4})')\n",
    "    return pattern.sub(r'(\\1) \\2-\\3', phone_number)"
   ]
  },
  {
   "cell_type": "code",
   "execution_count": 6,
   "id": "02450e07-b769-4cfd-9ef6-e1afd6694b97",
   "metadata": {
    "tags": []
   },
   "outputs": [
    {
     "data": {
      "text/plain": [
       "'(123) 456-7890'"
      ]
     },
     "execution_count": 6,
     "metadata": {},
     "output_type": "execute_result"
    }
   ],
   "source": [
    "create_phone_number([1, 2, 3, 4, 5, 6, 7, 8, 9, 0])"
   ]
  },
  {
   "cell_type": "code",
   "execution_count": 7,
   "id": "c1e71f10-521f-4cf8-8a33-0bd7638805b3",
   "metadata": {
    "tags": []
   },
   "outputs": [
    {
     "data": {
      "text/plain": [
       "'(000) 000-0000'"
      ]
     },
     "execution_count": 7,
     "metadata": {},
     "output_type": "execute_result"
    }
   ],
   "source": [
    "create_phone_number([0, 0, 0, 0, 0, 0, 0, 0, 0, 0])"
   ]
  },
  {
   "cell_type": "markdown",
   "id": "008ef376-9e01-4938-b0af-917b03a71b94",
   "metadata": {},
   "source": [
    "__________"
   ]
  },
  {
   "cell_type": "code",
   "execution_count": 1,
   "id": "29db6b70-9a1e-4899-9074-38b02a9c8799",
   "metadata": {
    "tags": []
   },
   "outputs": [],
   "source": [
    "def create_phone_number(n):\n",
    "\treturn \"({}{}{}) {}{}{}-{}{}{}{}\".format(*n)"
   ]
  },
  {
   "cell_type": "code",
   "execution_count": null,
   "id": "3c41c161-710d-4ae6-bebe-084bda6a4e19",
   "metadata": {},
   "outputs": [],
   "source": []
  }
 ],
 "metadata": {
  "kernelspec": {
   "display_name": "Python 3 (ipykernel)",
   "language": "python",
   "name": "python3"
  },
  "language_info": {
   "codemirror_mode": {
    "name": "ipython",
    "version": 3
   },
   "file_extension": ".py",
   "mimetype": "text/x-python",
   "name": "python",
   "nbconvert_exporter": "python",
   "pygments_lexer": "ipython3",
   "version": "3.10.7"
  }
 },
 "nbformat": 4,
 "nbformat_minor": 5
}
