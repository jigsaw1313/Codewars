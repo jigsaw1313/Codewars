{
 "cells": [
  {
   "cell_type": "markdown",
   "id": "a4add139-c424-4f38-a052-4be45b38f4d7",
   "metadata": {},
   "source": [
    "# Who likes it?"
   ]
  },
  {
   "cell_type": "markdown",
   "id": "078516aa-47d1-49dd-b652-9fefcb2cfdc1",
   "metadata": {},
   "source": [
    "https://www.codewars.com/kata/5266876b8f4bf2da9b000362/train/python"
   ]
  },
  {
   "cell_type": "code",
   "execution_count": 4,
   "id": "daedf02d-de99-4741-b524-a9c9016bf310",
   "metadata": {
    "tags": []
   },
   "outputs": [],
   "source": [
    "def likes(names):\n",
    "    # Determine the number of people who liked the item\n",
    "    n = len(names)\n",
    "    # Depending on the number of people, return the appropriate message\n",
    "    if n == 0:\n",
    "        return \"no one likes this\"\n",
    "    elif n == 1:\n",
    "        return f\"{names[0]} likes this\"\n",
    "    elif n == 2:\n",
    "        return f\"{names[0]} and {names[1]} like this\"\n",
    "    elif n == 3:\n",
    "        return f\"{names[0]}, {names[1]} and {names[2]} like this\"\n",
    "    else:\n",
    "        return f\"{names[0]}, {names[1]} and {n-2} others like this\""
   ]
  },
  {
   "cell_type": "code",
   "execution_count": 6,
   "id": "482370d7-f8aa-49ba-adb7-21ef27c66a0e",
   "metadata": {
    "tags": []
   },
   "outputs": [
    {
     "data": {
      "text/plain": [
       "'Mohammad, Reza and 2 others like this'"
      ]
     },
     "execution_count": 6,
     "metadata": {},
     "output_type": "execute_result"
    }
   ],
   "source": [
    "likes(['Mohammad', 'Reza', 'Saeid', 'Mohsen'])"
   ]
  },
  {
   "cell_type": "code",
   "execution_count": null,
   "id": "395e8df3-410f-4d04-9cfe-d43a61872733",
   "metadata": {},
   "outputs": [],
   "source": []
  },
  {
   "cell_type": "markdown",
   "id": "56c618e4-2560-42be-a34e-bd18866bc8db",
   "metadata": {},
   "source": [
    "____"
   ]
  },
  {
   "cell_type": "code",
   "execution_count": 2,
   "id": "d519ffc9-db23-45c8-b40c-e68650cfda28",
   "metadata": {
    "tags": []
   },
   "outputs": [],
   "source": [
    "def likes(names):\n",
    "    n = len(names)\n",
    "    return {\n",
    "        0: 'no one likes this',\n",
    "        1: '{} likes this', \n",
    "        2: '{} and {} like this', \n",
    "        3: '{}, {} and {} like this', \n",
    "        4: '{}, {} and {others} others like this'\n",
    "    }[min(4, n)].format(*names[:3], others=n-2)"
   ]
  },
  {
   "cell_type": "code",
   "execution_count": null,
   "id": "58f45f36-e1b8-430f-a95c-f8f3b8b763c1",
   "metadata": {},
   "outputs": [],
   "source": []
  }
 ],
 "metadata": {
  "kernelspec": {
   "display_name": "Python 3 (ipykernel)",
   "language": "python",
   "name": "python3"
  },
  "language_info": {
   "codemirror_mode": {
    "name": "ipython",
    "version": 3
   },
   "file_extension": ".py",
   "mimetype": "text/x-python",
   "name": "python",
   "nbconvert_exporter": "python",
   "pygments_lexer": "ipython3",
   "version": "3.10.7"
  }
 },
 "nbformat": 4,
 "nbformat_minor": 5
}
