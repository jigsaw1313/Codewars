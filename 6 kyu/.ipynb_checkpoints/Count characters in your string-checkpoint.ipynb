{
 "cells": [
  {
   "cell_type": "markdown",
   "id": "367d4488-8d0a-4440-8228-0d4c35aeb2eb",
   "metadata": {},
   "source": [
    "# Count characters in your string\n"
   ]
  },
  {
   "cell_type": "markdown",
   "id": "72d0d09a-e5ca-4c81-acec-495c5c090019",
   "metadata": {},
   "source": [
    "https://www.codewars.com/kata/52efefcbcdf57161d4000091/solutions/python"
   ]
  },
  {
   "cell_type": "code",
   "execution_count": 2,
   "id": "8328d830-f8e8-4a41-8f09-926f2fd0e18d",
   "metadata": {
    "tags": []
   },
   "outputs": [],
   "source": [
    "import collections \n",
    "def count(string):\n",
    "    return collections.Counter(string)"
   ]
  },
  {
   "cell_type": "code",
   "execution_count": 3,
   "id": "01a1ccd1-6780-4a5d-83c4-1275de41e08b",
   "metadata": {
    "tags": []
   },
   "outputs": [
    {
     "data": {
      "text/plain": [
       "Counter({'M': 1,\n",
       "         'o': 1,\n",
       "         'h': 1,\n",
       "         'a': 3,\n",
       "         'm': 2,\n",
       "         'd': 1,\n",
       "         'r': 1,\n",
       "         'e': 1,\n",
       "         'z': 1})"
      ]
     },
     "execution_count": 3,
     "metadata": {},
     "output_type": "execute_result"
    }
   ],
   "source": [
    "count('Mohammadreza')"
   ]
  },
  {
   "cell_type": "code",
   "execution_count": 4,
   "id": "4edb20f6-4a4a-4113-bc21-472a2d3ad64c",
   "metadata": {
    "tags": []
   },
   "outputs": [
    {
     "data": {
      "text/plain": [
       "Counter({'j': 1, 'i': 1, 'g': 1, 's': 1, 'a': 1, 'w': 1, '1': 2, '3': 2})"
      ]
     },
     "execution_count": 4,
     "metadata": {},
     "output_type": "execute_result"
    }
   ],
   "source": [
    "count('jigsaw1313')"
   ]
  },
  {
   "cell_type": "code",
   "execution_count": null,
   "id": "d276a329-01d5-4250-9144-4f570ce51c1e",
   "metadata": {},
   "outputs": [],
   "source": []
  }
 ],
 "metadata": {
  "kernelspec": {
   "display_name": "Python 3 (ipykernel)",
   "language": "python",
   "name": "python3"
  },
  "language_info": {
   "codemirror_mode": {
    "name": "ipython",
    "version": 3
   },
   "file_extension": ".py",
   "mimetype": "text/x-python",
   "name": "python",
   "nbconvert_exporter": "python",
   "pygments_lexer": "ipython3",
   "version": "3.10.7"
  }
 },
 "nbformat": 4,
 "nbformat_minor": 5
}
