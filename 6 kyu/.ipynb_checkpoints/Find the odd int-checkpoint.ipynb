{
 "cells": [
  {
   "cell_type": "markdown",
<<<<<<< HEAD
   "id": "8d61be63-a49d-49a7-a1eb-5616436164d3",
   "metadata": {},
   "source": [
    "# Find the odd int"
=======
   "id": "fabf83d9-c22f-4a1f-9309-d8ee6613e695",
   "metadata": {},
   "source": [
    "# Find the odd int\n"
>>>>>>> ebdab1849f92c8dcfd72f51122f5c448eb319f92
   ]
  },
  {
   "cell_type": "markdown",
<<<<<<< HEAD
   "id": "db22176f-ddee-4e6d-a8d6-91ead4d13d32",
   "metadata": {},
   "source": [
    "https://www.codewars.com/kata/54da5a58ea159efa38000836/solutions/python"
=======
   "id": "35682d90-01b3-4572-88a8-269e3a67c50e",
   "metadata": {},
   "source": [
    "https://www.codewars.com/kata/54da5a58ea159efa38000836/train/python"
>>>>>>> ebdab1849f92c8dcfd72f51122f5c448eb319f92
   ]
  },
  {
   "cell_type": "code",
   "execution_count": 1,
<<<<<<< HEAD
   "id": "58da73c2-e6e7-48b1-8b1e-c1eeb0f2ced3",
=======
   "id": "54430748-c364-474f-a445-4a511a898f8d",
>>>>>>> ebdab1849f92c8dcfd72f51122f5c448eb319f92
   "metadata": {
    "tags": []
   },
   "outputs": [],
   "source": [
    "def find_it(seq):\n",
    "    # Initialize a dictionary to count the occurrences of each number\n",
    "    counts = {}\n",
    "    for num in seq:\n",
    "        # Increment the count for this number\n",
    "        counts[num] = counts.get(num, 0) + 1\n",
    "    # Iterate over the counts dictionary\n",
    "    for num, count in counts.items():\n",
    "        # If the count is odd, return the number\n",
    "        if count % 2 == 1:\n",
    "            return num"
   ]
  },
  {
   "cell_type": "code",
   "execution_count": 3,
<<<<<<< HEAD
   "id": "e1ab738b-7a2a-43fe-ba2f-42b0964e8888",
=======
   "id": "510ce61e-d611-4c04-bbe5-8a912e391e1f",
>>>>>>> ebdab1849f92c8dcfd72f51122f5c448eb319f92
   "metadata": {
    "tags": []
   },
   "outputs": [
    {
     "data": {
      "text/plain": [
<<<<<<< HEAD
       "7"
=======
       "10"
>>>>>>> ebdab1849f92c8dcfd72f51122f5c448eb319f92
      ]
     },
     "execution_count": 3,
     "metadata": {},
     "output_type": "execute_result"
    }
   ],
   "source": [
<<<<<<< HEAD
    "find_it([7])"
=======
    "find_it([1,1,1,1,1,1,10,1,1,1,1])"
>>>>>>> ebdab1849f92c8dcfd72f51122f5c448eb319f92
   ]
  },
  {
   "cell_type": "code",
   "execution_count": 4,
<<<<<<< HEAD
   "id": "6ee68beb-e02d-40ab-ac79-ce794abaa551",
=======
   "id": "26c57404-ab54-440b-872b-62cfb5f0085a",
>>>>>>> ebdab1849f92c8dcfd72f51122f5c448eb319f92
   "metadata": {
    "tags": []
   },
   "outputs": [
    {
     "data": {
      "text/plain": [
<<<<<<< HEAD
       "1"
=======
       "10"
>>>>>>> ebdab1849f92c8dcfd72f51122f5c448eb319f92
      ]
     },
     "execution_count": 4,
     "metadata": {},
     "output_type": "execute_result"
    }
   ],
   "source": [
<<<<<<< HEAD
    "find_it([1,1,1,2,3,1,2,4,4,2,3,1])"
=======
    "find_it([10, 10, 10])"
>>>>>>> ebdab1849f92c8dcfd72f51122f5c448eb319f92
   ]
  },
  {
   "cell_type": "code",
   "execution_count": null,
<<<<<<< HEAD
   "id": "01b94c20-7135-4129-8a16-04fadda6ae45",
=======
   "id": "d4b4fcac-9017-41af-8505-1e18c3e3736a",
>>>>>>> ebdab1849f92c8dcfd72f51122f5c448eb319f92
   "metadata": {},
   "outputs": [],
   "source": []
  }
 ],
 "metadata": {
  "kernelspec": {
   "display_name": "Python 3 (ipykernel)",
   "language": "python",
   "name": "python3"
  },
  "language_info": {
   "codemirror_mode": {
    "name": "ipython",
    "version": 3
   },
   "file_extension": ".py",
   "mimetype": "text/x-python",
   "name": "python",
   "nbconvert_exporter": "python",
   "pygments_lexer": "ipython3",
   "version": "3.10.7"
  }
 },
 "nbformat": 4,
 "nbformat_minor": 5
}
