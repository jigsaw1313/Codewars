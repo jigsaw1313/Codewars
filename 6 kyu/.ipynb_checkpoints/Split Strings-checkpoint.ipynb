{
 "cells": [
  {
   "cell_type": "markdown",
   "id": "425bae31-5d2e-4fd2-8752-fc0f660d2e57",
   "metadata": {},
   "source": [
    "# Split Strings\n"
   ]
  },
  {
   "cell_type": "markdown",
   "id": "fbac1184-d733-40e2-8b92-74102f5781bc",
   "metadata": {},
   "source": [
    "https://www.codewars.com/kata/515de9ae9dcfc28eb6000001/python"
   ]
  },
  {
   "cell_type": "code",
   "execution_count": 77,
   "id": "69578a90-320d-4fad-a1c0-e07ce60ee757",
   "metadata": {
    "tags": []
   },
   "outputs": [],
   "source": [
    "def solution(s):\n",
    "    if len(s) % 2 != 0:\n",
    "        s += \"_\"\n",
    "    sliced = [s[i:i+2] for i in range(0, len(s), 2)]\n",
    "    return sliced\n",
    "    "
   ]
  },
  {
   "cell_type": "code",
   "execution_count": 78,
   "id": "541ad239-d03a-483e-a9ef-e63e486656fa",
   "metadata": {
    "tags": []
   },
   "outputs": [
    {
     "data": {
      "text/plain": [
       "['as', 'df', 'ad', 'sf']"
      ]
     },
     "execution_count": 78,
     "metadata": {},
     "output_type": "execute_result"
    }
   ],
   "source": [
    "solution(\"asdfadsf\")"
   ]
  },
  {
   "cell_type": "code",
   "execution_count": 79,
   "id": "086d84aa-f275-4df5-b067-d7b8ab6f4e11",
   "metadata": {
    "tags": []
   },
   "outputs": [
    {
     "data": {
      "text/plain": [
       "['as', 'df', 'ad', 's_']"
      ]
     },
     "execution_count": 79,
     "metadata": {},
     "output_type": "execute_result"
    }
   ],
   "source": [
    "solution(\"asdfads\")"
   ]
  },
  {
   "cell_type": "code",
   "execution_count": 80,
   "id": "5304b381-28a4-4c93-aafa-d58efe985873",
   "metadata": {
    "tags": []
   },
   "outputs": [
    {
     "data": {
      "text/plain": [
       "['mo', 'ha', 'mm', 'ad', 'r_']"
      ]
     },
     "execution_count": 80,
     "metadata": {},
     "output_type": "execute_result"
    }
   ],
   "source": [
    "solution('mohammadr')"
   ]
  },
  {
   "cell_type": "code",
   "execution_count": 81,
   "id": "d72b2d26-2115-4718-832e-6964363f2c3d",
   "metadata": {
    "tags": []
   },
   "outputs": [
    {
     "data": {
      "text/plain": [
       "['mo', 'ha', 'mm', 'ad', 'r_']"
      ]
     },
     "execution_count": 81,
     "metadata": {},
     "output_type": "execute_result"
    }
   ],
   "source": [
    "solution('mohammadr')"
   ]
  },
  {
   "cell_type": "markdown",
   "id": "04c71bcf-ad07-4069-b42d-aca94a78959f",
   "metadata": {},
   "source": [
    "___________"
   ]
  },
  {
   "cell_type": "code",
   "execution_count": 82,
   "id": "5c8a632d-bb15-44b5-a421-30727d8bf6c0",
   "metadata": {
    "tags": []
   },
   "outputs": [],
   "source": [
    "# using RegEx\n",
    "import re\n",
    "\n",
    "def solution(s):\n",
    "    return re.findall(\".{2}\", s + \"_\")"
   ]
  },
  {
   "cell_type": "code",
   "execution_count": null,
   "id": "b16eb96f-c93c-4b93-8169-2b9910af4d4a",
   "metadata": {},
   "outputs": [],
   "source": []
  }
 ],
 "metadata": {
  "kernelspec": {
   "display_name": "Python 3 (ipykernel)",
   "language": "python",
   "name": "python3"
  },
  "language_info": {
   "codemirror_mode": {
    "name": "ipython",
    "version": 3
   },
   "file_extension": ".py",
   "mimetype": "text/x-python",
   "name": "python",
   "nbconvert_exporter": "python",
   "pygments_lexer": "ipython3",
   "version": "3.10.7"
  }
 },
 "nbformat": 4,
 "nbformat_minor": 5
}
