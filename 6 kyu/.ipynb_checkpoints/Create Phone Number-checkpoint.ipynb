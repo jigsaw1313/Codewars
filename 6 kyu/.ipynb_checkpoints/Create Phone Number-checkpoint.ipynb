{
 "cells": [
  {
   "cell_type": "markdown",
   "id": "39f2f527-f81c-4c6a-999b-2f43b38248a5",
   "metadata": {},
   "source": [
    "# Create Phone Number\n"
   ]
  },
  {
   "cell_type": "markdown",
   "id": "4b3f105b-2e8b-4005-a524-29ee4e266255",
   "metadata": {},
   "source": [
    "https://www.codewars.com/kata/525f50e3b73515a6db000b83/solutions/python"
   ]
  },
  {
   "cell_type": "code",
   "execution_count": 1,
   "id": "dd960354-c1a9-4d73-9993-88405ff9abf0",
   "metadata": {
    "tags": []
   },
   "outputs": [],
   "source": [
    "import re\n",
    "\n",
    "def create_phone_number(numbers):\n",
    "    # Convert the list of numbers to a string\n",
    "    phone_number = ''.join(map(str, numbers))\n",
    "    # Use regular expressions to format the phone number\n",
    "    pattern = re.compile(r'(\\d{3})(\\d{3})(\\d{4})')\n",
    "    return pattern.sub(r'(\\1) \\2-\\3', phone_number)"
   ]
  },
  {
   "cell_type": "code",
   "execution_count": 3,
   "id": "66551399-287f-4bdc-a72c-cae690e8a0b9",
   "metadata": {
    "tags": []
   },
   "outputs": [
    {
     "data": {
      "text/plain": [
       "'(123) 456-78910'"
      ]
     },
     "execution_count": 3,
     "metadata": {},
     "output_type": "execute_result"
    }
   ],
   "source": [
    "create_phone_number([1,2,3,4,5,6,7,8,9,10])"
   ]
  },
  {
   "cell_type": "markdown",
   "id": "a74c827a-5a3a-4fcc-84b5-70798e1585fa",
   "metadata": {},
   "source": [
    "__________________"
   ]
  },
  {
   "cell_type": "code",
   "execution_count": 4,
   "id": "ee52c611-b742-42d2-aea8-788aa7a70298",
   "metadata": {
    "tags": []
   },
   "outputs": [],
   "source": [
    "def create_phone_number(n):\n",
    "\treturn \"({}{}{}) {}{}{}-{}{}{}{}\".format(*n)"
   ]
  },
  {
   "cell_type": "code",
   "execution_count": null,
   "id": "986a6378-7eed-495e-9c30-efb3fa2aacc5",
   "metadata": {},
   "outputs": [],
   "source": []
  }
 ],
 "metadata": {
  "kernelspec": {
   "display_name": "Python 3 (ipykernel)",
   "language": "python",
   "name": "python3"
  },
  "language_info": {
   "codemirror_mode": {
    "name": "ipython",
    "version": 3
   },
   "file_extension": ".py",
   "mimetype": "text/x-python",
   "name": "python",
   "nbconvert_exporter": "python",
   "pygments_lexer": "ipython3",
   "version": "3.10.7"
  }
 },
 "nbformat": 4,
 "nbformat_minor": 5
}
