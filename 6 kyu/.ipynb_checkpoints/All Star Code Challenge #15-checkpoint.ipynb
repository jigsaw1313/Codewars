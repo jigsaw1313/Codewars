{
 "cells": [
  {
   "cell_type": "markdown",
   "id": "68807037-80c2-4302-b264-fcf5420f435d",
   "metadata": {},
   "source": [
    "# All Star Code Challenge #15\n"
   ]
  },
  {
   "cell_type": "markdown",
   "id": "b6fb950c-e7a2-4b07-a91b-aff2f12fed3a",
   "metadata": {},
   "source": [
    "https://www.codewars.com/kata/586560a639c5ab3a260000f3/python"
   ]
  },
  {
   "cell_type": "code",
   "execution_count": 56,
   "id": "ada81d16-011a-4a64-8ce1-be9dc9f7a62e",
   "metadata": {
    "tags": []
   },
   "outputs": [],
   "source": [
    "def rotate(str_):\n",
    "    str_ = str(str_)\n",
    "    if str_ == \"\":\n",
    "        return []\n",
    "    if str_ == \"\":\n",
    "        return [\"\"]\n",
    "    output = []\n",
    "    for i in range(len(str_)):\n",
    "        rotated = str_[i+1:] + str_[:i+1]\n",
    "        output.append(rotated)\n",
    "    return output"
   ]
  },
  {
   "cell_type": "code",
   "execution_count": 57,
   "id": "37d74bc3-204e-4034-9386-7935229fe65e",
   "metadata": {
    "tags": []
   },
   "outputs": [
    {
     "data": {
      "text/plain": [
       "['elloH', 'lloHe', 'loHel', 'oHell', 'Hello']"
      ]
     },
     "execution_count": 57,
     "metadata": {},
     "output_type": "execute_result"
    }
   ],
   "source": [
    "rotate(\"Hello\")"
   ]
  },
  {
   "cell_type": "code",
   "execution_count": 16,
   "id": "22d339d9-b205-4668-aefe-0c3ca9ed442c",
   "metadata": {
    "tags": []
   },
   "outputs": [
    {
     "data": {
      "text/plain": [
       "['123', '312', '312']"
      ]
     },
     "execution_count": 16,
     "metadata": {},
     "output_type": "execute_result"
    }
   ],
   "source": [
    "rotate(123)"
   ]
  },
  {
   "cell_type": "markdown",
   "id": "5f2b3afd-9fa6-4095-a61d-5487b6afcdf5",
   "metadata": {},
   "source": [
    "_________________________"
   ]
  },
  {
   "cell_type": "code",
   "execution_count": 58,
   "id": "58db4b04-d816-443e-9542-5d9679d0c5cd",
   "metadata": {
    "tags": []
   },
   "outputs": [],
   "source": [
    "def rotate(str_):\n",
    "    return [str_[i + 1:] + str_[:i + 1] for i in range(len(str_))]"
   ]
  },
  {
   "cell_type": "code",
   "execution_count": null,
   "id": "095d5bd7-8d99-4bf7-80dc-15001dc9cb1f",
   "metadata": {},
   "outputs": [],
   "source": []
  }
 ],
 "metadata": {
  "kernelspec": {
   "display_name": "Python 3 (ipykernel)",
   "language": "python",
   "name": "python3"
  },
  "language_info": {
   "codemirror_mode": {
    "name": "ipython",
    "version": 3
   },
   "file_extension": ".py",
   "mimetype": "text/x-python",
   "name": "python",
   "nbconvert_exporter": "python",
   "pygments_lexer": "ipython3",
   "version": "3.10.7"
  }
 },
 "nbformat": 4,
 "nbformat_minor": 5
}
