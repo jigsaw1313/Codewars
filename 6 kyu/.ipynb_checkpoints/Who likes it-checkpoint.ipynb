{
 "cells": [
  {
   "cell_type": "markdown",
   "id": "09b67304-5c48-4869-a087-4630057a3c8c",
   "metadata": {},
   "source": [
    "# Who likes it?\n"
   ]
  },
  {
   "cell_type": "markdown",
   "id": "4936dfcb-1b7e-40fd-b0ca-5cf6df20befb",
   "metadata": {},
   "source": [
    "https://www.codewars.com/kata/5266876b8f4bf2da9b000362"
   ]
  },
  {
   "cell_type": "code",
   "execution_count": 1,
   "id": "888a28ad-82cd-457e-b4dd-f19ad8001c71",
   "metadata": {
    "tags": []
   },
   "outputs": [],
   "source": [
    "def likes(names):\n",
    "    # Determine the number of people who liked the item\n",
    "    n = len(names)\n",
    "    # Depending on the number of people, return the appropriate message\n",
    "    if n == 0:\n",
    "        return \"no one likes this\"\n",
    "    elif n == 1:\n",
    "        return f\"{names[0]} likes this\"\n",
    "    elif n == 2:\n",
    "        return f\"{names[0]} and {names[1]} like this\"\n",
    "    elif n == 3:\n",
    "        return f\"{names[0]}, {names[1]} and {names[2]} like this\"\n",
    "    else:\n",
    "        return f\"{names[0]}, {names[1]} and {n-2} others like this\""
   ]
  },
  {
   "cell_type": "code",
   "execution_count": 2,
   "id": "2ab4bada-7a6c-4b76-8b2a-0795f02978a6",
   "metadata": {
    "tags": []
   },
   "outputs": [
    {
     "data": {
      "text/plain": [
       "'Alex, Jacob and 2 others like this'"
      ]
     },
     "execution_count": 2,
     "metadata": {},
     "output_type": "execute_result"
    }
   ],
   "source": [
    "likes(['Alex', 'Jacob', 'Mark', 'Max'])"
   ]
  },
  {
   "cell_type": "markdown",
   "id": "5ff60c18-b23f-43dd-8a21-9b181cb267d5",
   "metadata": {},
   "source": [
    "___________________________________________"
   ]
  },
  {
   "cell_type": "code",
   "execution_count": 3,
   "id": "c4d284a7-33bc-4966-8a9b-0de1999e0854",
   "metadata": {
    "tags": []
   },
   "outputs": [],
   "source": [
    "# 1 \n",
    "def likes(names):\n",
    "    n = len(names)\n",
    "    return {\n",
    "        0: 'no one likes this',\n",
    "        1: '{} likes this', \n",
    "        2: '{} and {} like this', \n",
    "        3: '{}, {} and {} like this', \n",
    "        4: '{}, {} and {others} others like this'\n",
    "    }[min(4, n)].format(*names[:3], others=n-2)"
   ]
  },
  {
   "cell_type": "code",
   "execution_count": null,
   "id": "31f66394-a898-4370-aaf9-1ca0377b6222",
   "metadata": {},
   "outputs": [],
   "source": []
  }
 ],
 "metadata": {
  "kernelspec": {
   "display_name": "Python 3 (ipykernel)",
   "language": "python",
   "name": "python3"
  },
  "language_info": {
   "codemirror_mode": {
    "name": "ipython",
    "version": 3
   },
   "file_extension": ".py",
   "mimetype": "text/x-python",
   "name": "python",
   "nbconvert_exporter": "python",
   "pygments_lexer": "ipython3",
   "version": "3.10.7"
  }
 },
 "nbformat": 4,
 "nbformat_minor": 5
}
