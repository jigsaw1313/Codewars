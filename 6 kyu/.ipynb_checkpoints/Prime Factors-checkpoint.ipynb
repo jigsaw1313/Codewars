{
 "cells": [
  {
   "cell_type": "markdown",
   "id": "e4128370-24f6-4746-8773-0e74b5777031",
   "metadata": {},
   "source": [
    "# Prime Factors\n"
   ]
  },
  {
   "cell_type": "markdown",
   "id": "a77ffd65-30ff-4e0e-a076-01b30fe5993d",
   "metadata": {},
   "source": [
    "https://www.codewars.com/kata/542f3d5fd002f86efc00081a"
   ]
  },
  {
   "cell_type": "code",
   "execution_count": 1,
   "id": "039f575b-6248-40f4-81ca-ee7d57d71dd8",
   "metadata": {
    "tags": []
   },
   "outputs": [],
   "source": [
    "def prime_factors(n):\n",
    "    factors = []\n",
    "    i = 2\n",
    "    while i <= n:\n",
    "        if n % i == 0:\n",
    "            factors.append(i)\n",
    "            n = n / i\n",
    "        else:\n",
    "            i += 1\n",
    "    return factors"
   ]
  },
  {
   "cell_type": "code",
   "execution_count": 2,
   "id": "54a2382c-b6b0-43d3-8d6d-1b79439a7adc",
   "metadata": {
    "tags": []
   },
   "outputs": [
    {
     "data": {
      "text/plain": [
       "[3]"
      ]
     },
     "execution_count": 2,
     "metadata": {},
     "output_type": "execute_result"
    }
   ],
   "source": [
    "prime_factors(3)"
   ]
  },
  {
   "cell_type": "code",
   "execution_count": 3,
   "id": "ea846645-64f9-4ec9-9fa0-fcf4b5933892",
   "metadata": {
    "tags": []
   },
   "outputs": [
    {
     "data": {
      "text/plain": [
       "[2, 2, 3]"
      ]
     },
     "execution_count": 3,
     "metadata": {},
     "output_type": "execute_result"
    }
   ],
   "source": [
    "prime_factors(12)"
   ]
  },
  {
   "cell_type": "code",
   "execution_count": 4,
   "id": "0b8f972b-bdc7-4e73-8a5a-75366fa9c33f",
   "metadata": {
    "tags": []
   },
   "outputs": [
    {
     "data": {
      "text/plain": [
       "[3, 3]"
      ]
     },
     "execution_count": 4,
     "metadata": {},
     "output_type": "execute_result"
    }
   ],
   "source": [
    "prime_factors(9)"
   ]
  },
  {
   "cell_type": "code",
   "execution_count": null,
   "id": "6abf8b76-17b6-4ed4-a7df-0eab54970f7b",
   "metadata": {},
   "outputs": [],
   "source": []
  }
 ],
 "metadata": {
  "kernelspec": {
   "display_name": "Python 3 (ipykernel)",
   "language": "python",
   "name": "python3"
  },
  "language_info": {
   "codemirror_mode": {
    "name": "ipython",
    "version": 3
   },
   "file_extension": ".py",
   "mimetype": "text/x-python",
   "name": "python",
   "nbconvert_exporter": "python",
   "pygments_lexer": "ipython3",
   "version": "3.10.7"
  }
 },
 "nbformat": 4,
 "nbformat_minor": 5
}
