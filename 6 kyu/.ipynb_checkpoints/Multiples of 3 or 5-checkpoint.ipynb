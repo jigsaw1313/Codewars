{
 "cells": [
  {
   "cell_type": "markdown",
   "id": "144d3c0c-00bc-4027-a455-b216c187b4db",
   "metadata": {},
   "source": [
    "# Multiples of 3 or 5"
   ]
  },
  {
   "cell_type": "markdown",
   "id": "7e110556-5edb-4112-ae4a-df0d020b64e6",
   "metadata": {},
   "source": [
    "https://www.codewars.com/kata/514b92a657cdc65150000006/train/python"
   ]
  },
  {
   "cell_type": "code",
   "execution_count": 25,
   "id": "755db11a-4314-40ea-9f0e-9d45bd20a204",
   "metadata": {
    "tags": []
   },
   "outputs": [],
   "source": [
    "def solution(number):\n",
    "    # Initialize the sum to zero\n",
    "    s = 0\n",
    "    # Check if the number is negative\n",
    "    if number < 0:\n",
    "        return 0\n",
    "    # Iterate over the natural numbers below the input number\n",
    "    for i in range(number):\n",
    "        # Check if the number is a multiple of 3 or 5\n",
    "        if i % 3 == 0 or i % 5 == 0:\n",
    "            # Add it to the sum\n",
    "            s += i\n",
    "    # Return the sum\n",
    "    return s"
   ]
  },
  {
   "cell_type": "code",
   "execution_count": 26,
   "id": "331c6b7a-1161-47f2-8562-2b76e101a2c4",
   "metadata": {
    "tags": []
   },
   "outputs": [
    {
     "data": {
      "text/plain": [
       "60"
      ]
     },
     "execution_count": 26,
     "metadata": {},
     "output_type": "execute_result"
    }
   ],
   "source": [
    "solution(16)"
   ]
  },
  {
   "cell_type": "markdown",
   "id": "e08fa75b-54bf-441b-92d3-5415e88e2a87",
   "metadata": {},
   "source": [
    "_________"
   ]
  },
  {
   "cell_type": "code",
   "execution_count": 27,
   "id": "876b2501-442f-4a3a-8da3-0af9f4693cad",
   "metadata": {
    "tags": []
   },
   "outputs": [],
   "source": [
    "def solution(number):\n",
    "    return sum(x for x in range(number) if x % 3 == 0 or x % 5 == 0)"
   ]
  },
  {
   "cell_type": "code",
   "execution_count": 28,
   "id": "84de41ea-6972-4fe5-bc8f-865f9a1415ee",
   "metadata": {
    "tags": []
   },
   "outputs": [],
   "source": [
    "def solution(number):\n",
    "  import itertools\n",
    "  return sum(set(itertools.chain(range(0, number, 3), range(0, number, 5))))"
   ]
  },
  {
   "cell_type": "code",
   "execution_count": null,
   "id": "14218fe8-85a8-47ea-bb58-29ff136a06e3",
   "metadata": {},
   "outputs": [],
   "source": []
  }
 ],
 "metadata": {
  "kernelspec": {
   "display_name": "Python 3 (ipykernel)",
   "language": "python",
   "name": "python3"
  },
  "language_info": {
   "codemirror_mode": {
    "name": "ipython",
    "version": 3
   },
   "file_extension": ".py",
   "mimetype": "text/x-python",
   "name": "python",
   "nbconvert_exporter": "python",
   "pygments_lexer": "ipython3",
   "version": "3.10.7"
  }
 },
 "nbformat": 4,
 "nbformat_minor": 5
}
