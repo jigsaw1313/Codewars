{
 "cells": [
  {
   "cell_type": "markdown",
<<<<<<< HEAD
   "id": "144d3c0c-00bc-4027-a455-b216c187b4db",
   "metadata": {},
   "source": [
    "# Multiples of 3 or 5"
=======
   "id": "78ccb69b-2fc1-4592-abdf-b6b17603121e",
   "metadata": {},
   "source": [
    "# Multiples of 3 or 5\n"
>>>>>>> ebdab1849f92c8dcfd72f51122f5c448eb319f92
   ]
  },
  {
   "cell_type": "markdown",
<<<<<<< HEAD
   "id": "7e110556-5edb-4112-ae4a-df0d020b64e6",
   "metadata": {},
   "source": [
    "https://www.codewars.com/kata/514b92a657cdc65150000006/train/python"
=======
   "id": "50ce7151-918d-43c0-84ba-edc976650134",
   "metadata": {},
   "source": [
    " https://www.codewars.com/kata/514b92a657cdc65150000006"
>>>>>>> ebdab1849f92c8dcfd72f51122f5c448eb319f92
   ]
  },
  {
   "cell_type": "code",
<<<<<<< HEAD
   "execution_count": 25,
   "id": "755db11a-4314-40ea-9f0e-9d45bd20a204",
=======
   "execution_count": 1,
   "id": "fdfc8049-e7fe-4f42-96b6-9fa92aae7fa2",
>>>>>>> ebdab1849f92c8dcfd72f51122f5c448eb319f92
   "metadata": {
    "tags": []
   },
   "outputs": [],
   "source": [
    "def solution(number):\n",
    "    # Initialize the sum to zero\n",
    "    s = 0\n",
    "    # Check if the number is negative\n",
    "    if number < 0:\n",
    "        return 0\n",
    "    # Iterate over the natural numbers below the input number\n",
    "    for i in range(number):\n",
    "        # Check if the number is a multiple of 3 or 5\n",
    "        if i % 3 == 0 or i % 5 == 0:\n",
    "            # Add it to the sum\n",
    "            s += i\n",
    "    # Return the sum\n",
    "    return s"
   ]
  },
  {
   "cell_type": "code",
<<<<<<< HEAD
   "execution_count": 26,
   "id": "331c6b7a-1161-47f2-8562-2b76e101a2c4",
=======
   "execution_count": 2,
   "id": "58cdaa09-e761-41be-be36-fa0cf2d272f9",
   "metadata": {
    "tags": []
   },
   "outputs": [
    {
     "data": {
      "text/plain": [
       "0"
      ]
     },
     "execution_count": 2,
     "metadata": {},
     "output_type": "execute_result"
    }
   ],
   "source": [
    "solution(3)"
   ]
  },
  {
   "cell_type": "code",
   "execution_count": 3,
   "id": "ebf73127-3705-4c99-9fc3-15eb1fa9853c",
>>>>>>> ebdab1849f92c8dcfd72f51122f5c448eb319f92
   "metadata": {
    "tags": []
   },
   "outputs": [
    {
     "data": {
      "text/plain": [
       "60"
      ]
     },
<<<<<<< HEAD
     "execution_count": 26,
=======
     "execution_count": 3,
>>>>>>> ebdab1849f92c8dcfd72f51122f5c448eb319f92
     "metadata": {},
     "output_type": "execute_result"
    }
   ],
   "source": [
    "solution(16)"
   ]
  },
  {
   "cell_type": "markdown",
<<<<<<< HEAD
   "id": "e08fa75b-54bf-441b-92d3-5415e88e2a87",
   "metadata": {},
   "source": [
    "_________"
=======
   "id": "f149e66f-413c-4efb-bd5b-4cb59d449f17",
   "metadata": {},
   "source": [
    "__________"
>>>>>>> ebdab1849f92c8dcfd72f51122f5c448eb319f92
   ]
  },
  {
   "cell_type": "code",
<<<<<<< HEAD
   "execution_count": 27,
   "id": "876b2501-442f-4a3a-8da3-0af9f4693cad",
=======
   "execution_count": 5,
   "id": "e912aafc-66e0-4d76-ad7b-2a30a7e1ffc5",
>>>>>>> ebdab1849f92c8dcfd72f51122f5c448eb319f92
   "metadata": {
    "tags": []
   },
   "outputs": [],
   "source": [
<<<<<<< HEAD
=======
    "# 1\n",
>>>>>>> ebdab1849f92c8dcfd72f51122f5c448eb319f92
    "def solution(number):\n",
    "    return sum(x for x in range(number) if x % 3 == 0 or x % 5 == 0)"
   ]
  },
  {
   "cell_type": "code",
<<<<<<< HEAD
   "execution_count": 28,
   "id": "84de41ea-6972-4fe5-bc8f-865f9a1415ee",
=======
   "execution_count": 6,
   "id": "a8185907-4876-48a7-b5f2-d21b12a5e3b1",
>>>>>>> ebdab1849f92c8dcfd72f51122f5c448eb319f92
   "metadata": {
    "tags": []
   },
   "outputs": [],
   "source": [
<<<<<<< HEAD
    "def solution(number):\n",
    "  import itertools\n",
    "  return sum(set(itertools.chain(range(0, number, 3), range(0, number, 5))))"
=======
    "# 2\n",
    "def solution(number):\n",
    "    sum = 0\n",
    "    for i in range(number):\n",
    "        if (i % 3) == 0 or (i % 5) == 0:\n",
    "            sum += i\n",
    "    return sum"
>>>>>>> ebdab1849f92c8dcfd72f51122f5c448eb319f92
   ]
  },
  {
   "cell_type": "code",
   "execution_count": null,
<<<<<<< HEAD
   "id": "14218fe8-85a8-47ea-bb58-29ff136a06e3",
=======
   "id": "e2797332-2ab8-4e69-96b3-7adb887e4829",
>>>>>>> ebdab1849f92c8dcfd72f51122f5c448eb319f92
   "metadata": {},
   "outputs": [],
   "source": []
  }
 ],
 "metadata": {
  "kernelspec": {
   "display_name": "Python 3 (ipykernel)",
   "language": "python",
   "name": "python3"
  },
  "language_info": {
   "codemirror_mode": {
    "name": "ipython",
    "version": 3
   },
   "file_extension": ".py",
   "mimetype": "text/x-python",
   "name": "python",
   "nbconvert_exporter": "python",
   "pygments_lexer": "ipython3",
   "version": "3.10.7"
  }
 },
 "nbformat": 4,
 "nbformat_minor": 5
}
