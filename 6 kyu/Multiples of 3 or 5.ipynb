{
 "cells": [
  {
   "cell_type": "markdown",
   "id": "78ccb69b-2fc1-4592-abdf-b6b17603121e",
   "metadata": {},
   "source": [
    "# Multiples of 3 or 5\n"
   ]
  },
  {
   "cell_type": "markdown",
   "id": "50ce7151-918d-43c0-84ba-edc976650134",
   "metadata": {},
   "source": [
    " https://www.codewars.com/kata/514b92a657cdc65150000006"
   ]
  },
  {
   "cell_type": "code",
   "execution_count": 1,
   "id": "fdfc8049-e7fe-4f42-96b6-9fa92aae7fa2",
   "metadata": {
    "tags": []
   },
   "outputs": [],
   "source": [
    "def solution(number):\n",
    "    # Initialize the sum to zero\n",
    "    s = 0\n",
    "    # Check if the number is negative\n",
    "    if number < 0:\n",
    "        return 0\n",
    "    # Iterate over the natural numbers below the input number\n",
    "    for i in range(number):\n",
    "        # Check if the number is a multiple of 3 or 5\n",
    "        if i % 3 == 0 or i % 5 == 0:\n",
    "            # Add it to the sum\n",
    "            s += i\n",
    "    # Return the sum\n",
    "    return s"
   ]
  },
  {
   "cell_type": "code",
   "execution_count": 2,
   "id": "58cdaa09-e761-41be-be36-fa0cf2d272f9",
   "metadata": {
    "tags": []
   },
   "outputs": [
    {
     "data": {
      "text/plain": [
       "0"
      ]
     },
     "execution_count": 2,
     "metadata": {},
     "output_type": "execute_result"
    }
   ],
   "source": [
    "solution(3)"
   ]
  },
  {
   "cell_type": "code",
   "execution_count": 3,
   "id": "ebf73127-3705-4c99-9fc3-15eb1fa9853c",
   "metadata": {
    "tags": []
   },
   "outputs": [
    {
     "data": {
      "text/plain": [
       "60"
      ]
     },
     "execution_count": 3,
     "metadata": {},
     "output_type": "execute_result"
    }
   ],
   "source": [
    "solution(16)"
   ]
  },
  {
   "cell_type": "markdown",
   "id": "f149e66f-413c-4efb-bd5b-4cb59d449f17",
   "metadata": {},
   "source": [
    "__________"
   ]
  },
  {
   "cell_type": "code",
   "execution_count": 5,
   "id": "e912aafc-66e0-4d76-ad7b-2a30a7e1ffc5",
   "metadata": {
    "tags": []
   },
   "outputs": [],
   "source": [
    "# 1\n",
    "def solution(number):\n",
    "    return sum(x for x in range(number) if x % 3 == 0 or x % 5 == 0)"
   ]
  },
  {
   "cell_type": "code",
   "execution_count": 6,
   "id": "a8185907-4876-48a7-b5f2-d21b12a5e3b1",
   "metadata": {
    "tags": []
   },
   "outputs": [],
   "source": [
    "# 2\n",
    "def solution(number):\n",
    "    sum = 0\n",
    "    for i in range(number):\n",
    "        if (i % 3) == 0 or (i % 5) == 0:\n",
    "            sum += i\n",
    "    return sum"
   ]
  },
  {
   "cell_type": "code",
   "execution_count": null,
   "id": "e2797332-2ab8-4e69-96b3-7adb887e4829",
   "metadata": {},
   "outputs": [],
   "source": []
  }
 ],
 "metadata": {
  "kernelspec": {
   "display_name": "Python 3 (ipykernel)",
   "language": "python",
   "name": "python3"
  },
  "language_info": {
   "codemirror_mode": {
    "name": "ipython",
    "version": 3
   },
   "file_extension": ".py",
   "mimetype": "text/x-python",
   "name": "python",
   "nbconvert_exporter": "python",
   "pygments_lexer": "ipython3",
   "version": "3.10.7"
  }
 },
 "nbformat": 4,
 "nbformat_minor": 5
}
