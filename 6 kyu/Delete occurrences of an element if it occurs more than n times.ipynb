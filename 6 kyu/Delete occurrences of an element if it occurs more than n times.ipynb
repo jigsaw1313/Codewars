{
 "cells": [
  {
   "cell_type": "markdown",
   "id": "45f1e7e7-1005-4778-96a4-2d78271ccde9",
   "metadata": {},
   "source": [
    "# Delete occurrences of an element if it occurs more than n times"
   ]
  },
  {
   "cell_type": "markdown",
   "id": "c22b4fb0-d96e-4512-ab9d-1c9268b53427",
   "metadata": {},
   "source": [
    "https://www.codewars.com/kata/554ca54ffa7d91b236000023/train/python"
   ]
  },
  {
   "cell_type": "code",
   "execution_count": 6,
   "id": "05d29da5-d262-42f1-af33-a54bfdb6f531",
   "metadata": {
    "tags": []
   },
   "outputs": [],
   "source": [
    "def delete_nth(order, max_e):\n",
    "    freq = {}\n",
    "    result = []\n",
    "    for num in order:\n",
    "        if num not in freq:\n",
    "            freq[num] = 1\n",
    "            result.append(num)\n",
    "        elif freq[num] < max_e:\n",
    "            freq[num] += 1\n",
    "            result.append(num)\n",
    "    return result"
   ]
  },
  {
   "cell_type": "code",
   "execution_count": 7,
   "id": "5ebbea13-bad3-4972-9289-11d1ed00009a",
   "metadata": {
    "tags": []
   },
   "outputs": [
    {
     "data": {
      "text/plain": [
       "[20, 37, 21]"
      ]
     },
     "execution_count": 7,
     "metadata": {},
     "output_type": "execute_result"
    }
   ],
   "source": [
    "delete_nth([20,37,20,21], 1)"
   ]
  },
  {
   "cell_type": "markdown",
   "id": "5515b77f-d39e-46f0-bfcd-05c5cc8071f5",
   "metadata": {
    "tags": []
   },
   "source": [
    "_____________________________________________________"
   ]
  },
  {
   "cell_type": "code",
   "execution_count": 9,
   "id": "da605588-3a1d-4714-92cb-8fc939ee7d4d",
   "metadata": {
    "tags": []
   },
   "outputs": [],
   "source": [
    "def delete_nth(order,max_e):\n",
    "    ans = []\n",
    "    for o in order:\n",
    "        if ans.count(o) < max_e: ans.append(o)\n",
    "    return ans"
   ]
  },
  {
   "cell_type": "code",
   "execution_count": 10,
   "id": "9546074b-b1b4-48d1-a4fe-9d314c9b22f1",
   "metadata": {
    "tags": []
   },
   "outputs": [
    {
     "data": {
      "text/plain": [
       "[20, 37, 21]"
      ]
     },
     "execution_count": 10,
     "metadata": {},
     "output_type": "execute_result"
    }
   ],
   "source": [
    "delete_nth([20,37,20,21], 1)"
   ]
  },
  {
   "cell_type": "code",
   "execution_count": null,
   "id": "721242f1-9355-40ac-8e5f-993e869a4ebe",
   "metadata": {},
   "outputs": [],
   "source": []
  }
 ],
 "metadata": {
  "kernelspec": {
   "display_name": "Python 3 (ipykernel)",
   "language": "python",
   "name": "python3"
  },
  "language_info": {
   "codemirror_mode": {
    "name": "ipython",
    "version": 3
   },
   "file_extension": ".py",
   "mimetype": "text/x-python",
   "name": "python",
   "nbconvert_exporter": "python",
   "pygments_lexer": "ipython3",
   "version": "3.10.7"
  }
 },
 "nbformat": 4,
 "nbformat_minor": 5
}
