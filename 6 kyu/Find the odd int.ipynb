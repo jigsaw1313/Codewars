{
 "cells": [
  {
   "cell_type": "markdown",
   "id": "fabf83d9-c22f-4a1f-9309-d8ee6613e695",
   "metadata": {},
   "source": [
    "# Find the odd int\n"
   ]
  },
  {
   "cell_type": "markdown",
   "id": "35682d90-01b3-4572-88a8-269e3a67c50e",
   "metadata": {},
   "source": [
    "https://www.codewars.com/kata/54da5a58ea159efa38000836/train/python"
   ]
  },
  {
   "cell_type": "code",
   "execution_count": 1,
   "id": "54430748-c364-474f-a445-4a511a898f8d",
   "metadata": {
    "tags": []
   },
   "outputs": [],
   "source": [
    "def find_it(seq):\n",
    "    # Initialize a dictionary to count the occurrences of each number\n",
    "    counts = {}\n",
    "    for num in seq:\n",
    "        # Increment the count for this number\n",
    "        counts[num] = counts.get(num, 0) + 1\n",
    "    # Iterate over the counts dictionary\n",
    "    for num, count in counts.items():\n",
    "        # If the count is odd, return the number\n",
    "        if count % 2 == 1:\n",
    "            return num"
   ]
  },
  {
   "cell_type": "code",
   "execution_count": 3,
   "id": "510ce61e-d611-4c04-bbe5-8a912e391e1f",
   "metadata": {
    "tags": []
   },
   "outputs": [
    {
     "data": {
      "text/plain": [
       "10"
      ]
     },
     "execution_count": 3,
     "metadata": {},
     "output_type": "execute_result"
    }
   ],
   "source": [
    "find_it([1,1,1,1,1,1,10,1,1,1,1])"
   ]
  },
  {
   "cell_type": "code",
   "execution_count": 4,
   "id": "26c57404-ab54-440b-872b-62cfb5f0085a",
   "metadata": {
    "tags": []
   },
   "outputs": [
    {
     "data": {
      "text/plain": [
       "10"
      ]
     },
     "execution_count": 4,
     "metadata": {},
     "output_type": "execute_result"
    }
   ],
   "source": [
    "find_it([10, 10, 10])"
   ]
  },
  {
   "cell_type": "code",
   "execution_count": null,
   "id": "d4b4fcac-9017-41af-8505-1e18c3e3736a",
   "metadata": {},
   "outputs": [],
   "source": []
  }
 ],
 "metadata": {
  "kernelspec": {
   "display_name": "Python 3 (ipykernel)",
   "language": "python",
   "name": "python3"
  },
  "language_info": {
   "codemirror_mode": {
    "name": "ipython",
    "version": 3
   },
   "file_extension": ".py",
   "mimetype": "text/x-python",
   "name": "python",
   "nbconvert_exporter": "python",
   "pygments_lexer": "ipython3",
   "version": "3.10.7"
  }
 },
 "nbformat": 4,
 "nbformat_minor": 5
}
