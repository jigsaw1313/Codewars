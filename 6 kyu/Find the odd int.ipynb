{
 "cells": [
  {
   "cell_type": "markdown",
   "id": "8d61be63-a49d-49a7-a1eb-5616436164d3",
   "metadata": {},
   "source": [
    "# Find the odd int"
   ]
  },
  {
   "cell_type": "markdown",
   "id": "db22176f-ddee-4e6d-a8d6-91ead4d13d32",
   "metadata": {},
   "source": [
    "https://www.codewars.com/kata/54da5a58ea159efa38000836/solutions/python"
   ]
  },
  {
   "cell_type": "code",
   "execution_count": 1,
   "id": "58da73c2-e6e7-48b1-8b1e-c1eeb0f2ced3",
   "metadata": {
    "tags": []
   },
   "outputs": [],
   "source": [
    "def find_it(seq):\n",
    "    # Initialize a dictionary to count the occurrences of each number\n",
    "    counts = {}\n",
    "    for num in seq:\n",
    "        # Increment the count for this number\n",
    "        counts[num] = counts.get(num, 0) + 1\n",
    "    # Iterate over the counts dictionary\n",
    "    for num, count in counts.items():\n",
    "        # If the count is odd, return the number\n",
    "        if count % 2 == 1:\n",
    "            return num"
   ]
  },
  {
   "cell_type": "code",
   "execution_count": 3,
   "id": "e1ab738b-7a2a-43fe-ba2f-42b0964e8888",
   "metadata": {
    "tags": []
   },
   "outputs": [
    {
     "data": {
      "text/plain": [
       "7"
      ]
     },
     "execution_count": 3,
     "metadata": {},
     "output_type": "execute_result"
    }
   ],
   "source": [
    "find_it([7])"
   ]
  },
  {
   "cell_type": "code",
   "execution_count": 4,
   "id": "6ee68beb-e02d-40ab-ac79-ce794abaa551",
   "metadata": {
    "tags": []
   },
   "outputs": [
    {
     "data": {
      "text/plain": [
       "1"
      ]
     },
     "execution_count": 4,
     "metadata": {},
     "output_type": "execute_result"
    }
   ],
   "source": [
    "find_it([1,1,1,2,3,1,2,4,4,2,3,1])"
   ]
  },
  {
   "cell_type": "code",
   "execution_count": null,
   "id": "01b94c20-7135-4129-8a16-04fadda6ae45",
   "metadata": {},
   "outputs": [],
   "source": []
  }
 ],
 "metadata": {
  "kernelspec": {
   "display_name": "Python 3 (ipykernel)",
   "language": "python",
   "name": "python3"
  },
  "language_info": {
   "codemirror_mode": {
    "name": "ipython",
    "version": 3
   },
   "file_extension": ".py",
   "mimetype": "text/x-python",
   "name": "python",
   "nbconvert_exporter": "python",
   "pygments_lexer": "ipython3",
   "version": "3.10.7"
  }
 },
 "nbformat": 4,
 "nbformat_minor": 5
}
